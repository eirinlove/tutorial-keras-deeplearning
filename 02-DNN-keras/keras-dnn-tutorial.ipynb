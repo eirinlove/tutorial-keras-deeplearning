{
 "cells": [
  {
   "cell_type": "markdown",
   "metadata": {},
   "source": [
    "-----"
   ]
  },
  {
   "cell_type": "markdown",
   "metadata": {},
   "source": [
    "### DNN의 기본 구성과 레이어 학습과정\n",
    "- mnist 데이터(binary image) 학습모델"
   ]
  },
  {
   "cell_type": "code",
   "execution_count": 1,
   "metadata": {},
   "outputs": [
    {
     "name": "stderr",
     "output_type": "stream",
     "text": [
      "/anaconda/envs/gsshop/lib/python3.6/site-packages/h5py/__init__.py:36: FutureWarning: Conversion of the second argument of issubdtype from `float` to `np.floating` is deprecated. In future, it will be treated as `np.float64 == np.dtype(float).type`.\n",
      "  from ._conv import register_converters as _register_converters\n",
      "Using TensorFlow backend.\n"
     ]
    },
    {
     "name": "stdout",
     "output_type": "stream",
     "text": [
      "60000\n",
      "28\n",
      "28\n"
     ]
    }
   ],
   "source": [
    "from keras.models import Sequential\n",
    "from keras.layers import Dense\n",
    "from keras import layers\n",
    "import numpy as np\n",
    "from keras import datasets\n",
    "from keras.utils import np_utils\n",
    "import keras\n",
    "\n",
    "(X_train, y_train), (X_test, y_test) = datasets.mnist.load_data()\n",
    "\n",
    "# one-hot encoding\n",
    "y_train = np_utils.to_categorical(y_train)\n",
    "y_test = np_utils.to_categorical(y_test)\n",
    "\n",
    "# get shape of data\n",
    "L,W,H = X_train.shape\n",
    "print(L) # data length\n",
    "print(W) # image W\n",
    "print(H) # image H\n",
    "\n",
    "X_train = X_train.reshape(-1,W*H)\n",
    "X_test = X_test.reshape(-1, W*H)\n",
    "X_train = X_train / 255.0\n",
    "X_test = X_test / 255.0"
   ]
  },
  {
   "cell_type": "code",
   "execution_count": 2,
   "metadata": {
    "collapsed": true
   },
   "outputs": [],
   "source": [
    "model=Sequential()\n",
    "model.add(Dense(64, activation='relu', input_dim=W*H))\n",
    "model.add(layers.Dropout(0.2)) # keras 에서 dropout의 의미 : 20%의 node를 drop하여 학습.\n",
    "model.add(Dense(32, activation='relu'))\n",
    "model.add(layers.Dropout(0.2))\n",
    "model.add(Dense(10, activation='softmax'))\n",
    "model.compile(loss='categorical_crossentropy', optimizer='adam', metrics=['accuracy'])"
   ]
  },
  {
   "cell_type": "code",
   "execution_count": 3,
   "metadata": {},
   "outputs": [
    {
     "name": "stdout",
     "output_type": "stream",
     "text": [
      "Train on 48000 samples, validate on 12000 samples\n",
      "Epoch 1/10\n",
      "48000/48000 [==============================] - 2s 39us/step - loss: 0.6678 - acc: 0.7931 - val_loss: 0.2274 - val_acc: 0.9352\n",
      "Epoch 2/10\n",
      "48000/48000 [==============================] - 2s 33us/step - loss: 0.3111 - acc: 0.9106 - val_loss: 0.1730 - val_acc: 0.9508\n",
      "Epoch 3/10\n",
      "48000/48000 [==============================] - 2s 33us/step - loss: 0.2503 - acc: 0.9266 - val_loss: 0.1455 - val_acc: 0.9577\n",
      "Epoch 4/10\n",
      "48000/48000 [==============================] - 2s 34us/step - loss: 0.2127 - acc: 0.9385 - val_loss: 0.1320 - val_acc: 0.9616\n",
      "Epoch 5/10\n",
      "48000/48000 [==============================] - 2s 34us/step - loss: 0.1871 - acc: 0.9449 - val_loss: 0.1211 - val_acc: 0.9650\n",
      "Epoch 6/10\n",
      "48000/48000 [==============================] - 2s 33us/step - loss: 0.1712 - acc: 0.9484 - val_loss: 0.1147 - val_acc: 0.9668\n",
      "Epoch 7/10\n",
      "48000/48000 [==============================] - 2s 37us/step - loss: 0.1606 - acc: 0.9528 - val_loss: 0.1128 - val_acc: 0.9668\n",
      "Epoch 8/10\n",
      "48000/48000 [==============================] - 2s 34us/step - loss: 0.1458 - acc: 0.9564 - val_loss: 0.1133 - val_acc: 0.9682\n",
      "Epoch 9/10\n",
      "48000/48000 [==============================] - 2s 34us/step - loss: 0.1398 - acc: 0.9579 - val_loss: 0.1103 - val_acc: 0.9682\n",
      "Epoch 10/10\n",
      "48000/48000 [==============================] - 2s 34us/step - loss: 0.1332 - acc: 0.9601 - val_loss: 0.1065 - val_acc: 0.9682\n",
      "10000/10000 [==============================] - 0s 15us/step\n",
      "Test Loss and Accuracy -> [0.10194768034343724, 0.9704000067710876]\n"
     ]
    }
   ],
   "source": [
    "history = model.fit(X_train, y_train, epochs=10, batch_size=100, validation_split=0.2)\n",
    "performance_test = model.evaluate(X_test, y_test, batch_size=100)\n",
    "print('Test Loss and Accuracy ->', performance_test)"
   ]
  },
  {
   "cell_type": "markdown",
   "metadata": {},
   "source": [
    "validation set : train - test 만 가지고 모델링을 학습하고 평가하면, overfitting에 대한 검증이 어렵고 overfitting이 일어날 확률도 높음. 적은 데이터셋인 경우엔 cross validation을 가지고 이를 극복하지만, 데이터가 큰 경우는 val set으로 test 전의 모델의 대략적인 성능을 가늠하고, test score와 비교하여 overfitting의 여부도 확인해보는 역할을 함.\n",
    "\n",
    "validation set -> epoch 마다 shuffle이 되는 게 아니고, 고정 데이터셋을 분리해서 사용함."
   ]
  },
  {
   "cell_type": "markdown",
   "metadata": {},
   "source": [
    "### color image 학습\n",
    "- cifar-10 data(3 channel)"
   ]
  },
  {
   "cell_type": "code",
   "execution_count": 4,
   "metadata": {},
   "outputs": [
    {
     "name": "stdout",
     "output_type": "stream",
     "text": [
      "50000\n",
      "32\n",
      "32\n",
      "3\n"
     ]
    }
   ],
   "source": [
    "(X_train, y_train), (X_test, y_test) = datasets.cifar10.load_data()\n",
    "Y_train = np_utils.to_categorical(y_train)\n",
    "Y_test = np_utils.to_categorical(y_test)\n",
    "  \n",
    "L,W,H,C = X_train.shape\n",
    "print(L) # data length\n",
    "print(W) # image W\n",
    "print(H) # image H\n",
    "print(C) # image Channel\n",
    "\n",
    "X_train = X_train.reshape(-1, W*H*C)\n",
    "X_test = X_test.reshape(-1, W*H*C)\n",
    "  \n",
    "X_train = X_train / 255.0\n",
    "X_test = X_test / 255.0"
   ]
  },
  {
   "cell_type": "code",
   "execution_count": 5,
   "metadata": {
    "collapsed": true
   },
   "outputs": [],
   "source": [
    "model=Sequential()\n",
    "model.add(Dense(128, activation='relu', input_dim=W*H*C))\n",
    "model.add(layers.Dropout(0.15))\n",
    "model.add(Dense(96, activation='relu'))\n",
    "model.add(layers.Dropout(0.3))\n",
    "model.add(Dense(32, activation='relu'))\n",
    "model.add(layers.Dropout(0.3))\n",
    "model.add(Dense(10, activation = 'softmax')) # 최종 class의 개수가 10개이므로, output dense도 10개로 맞춰줌\n",
    "model.compile(loss='categorical_crossentropy', optimizer='adam', metrics=['accuracy'])"
   ]
  },
  {
   "cell_type": "code",
   "execution_count": 6,
   "metadata": {},
   "outputs": [
    {
     "data": {
      "image/svg+xml": [
       "<svg height=\"612pt\" viewBox=\"0.00 0.00 274.92 612.00\" width=\"275pt\" xmlns=\"http://www.w3.org/2000/svg\" xmlns:xlink=\"http://www.w3.org/1999/xlink\">\n",
       "<g class=\"graph\" id=\"graph0\" transform=\"scale(1 1) rotate(0) translate(4 608)\">\n",
       "<title>G</title>\n",
       "<polygon fill=\"#ffffff\" points=\"-4,4 -4,-608 270.9209,-608 270.9209,4 -4,4\" stroke=\"transparent\"/>\n",
       "<!-- 104139741952 -->\n",
       "<g class=\"node\" id=\"node1\">\n",
       "<title>104139741952</title>\n",
       "<polygon fill=\"none\" points=\"8.1758,-486.5 8.1758,-530.5 258.7451,-530.5 258.7451,-486.5 8.1758,-486.5\" stroke=\"#000000\"/>\n",
       "<text fill=\"#000000\" font-family=\"Times,serif\" font-size=\"14.00\" text-anchor=\"middle\" x=\"60.3018\" y=\"-504.3\">dense_4: Dense</text>\n",
       "<polyline fill=\"none\" points=\"112.4277,-486.5 112.4277,-530.5 \" stroke=\"#000000\"/>\n",
       "<text fill=\"#000000\" font-family=\"Times,serif\" font-size=\"14.00\" text-anchor=\"middle\" x=\"140.2622\" y=\"-515.3\">input:</text>\n",
       "<polyline fill=\"none\" points=\"112.4277,-508.5 168.0967,-508.5 \" stroke=\"#000000\"/>\n",
       "<text fill=\"#000000\" font-family=\"Times,serif\" font-size=\"14.00\" text-anchor=\"middle\" x=\"140.2622\" y=\"-493.3\">output:</text>\n",
       "<polyline fill=\"none\" points=\"168.0967,-486.5 168.0967,-530.5 \" stroke=\"#000000\"/>\n",
       "<text fill=\"#000000\" font-family=\"Times,serif\" font-size=\"14.00\" text-anchor=\"middle\" x=\"213.4209\" y=\"-515.3\">(None, 3072)</text>\n",
       "<polyline fill=\"none\" points=\"168.0967,-508.5 258.7451,-508.5 \" stroke=\"#000000\"/>\n",
       "<text fill=\"#000000\" font-family=\"Times,serif\" font-size=\"14.00\" text-anchor=\"middle\" x=\"213.4209\" y=\"-493.3\">(None, 128)</text>\n",
       "</g>\n",
       "<!-- 104139742624 -->\n",
       "<g class=\"node\" id=\"node2\">\n",
       "<title>104139742624</title>\n",
       "<polygon fill=\"none\" points=\"0,-405.5 0,-449.5 266.9209,-449.5 266.9209,-405.5 0,-405.5\" stroke=\"#000000\"/>\n",
       "<text fill=\"#000000\" font-family=\"Times,serif\" font-size=\"14.00\" text-anchor=\"middle\" x=\"63.8018\" y=\"-423.3\">dropout_3: Dropout</text>\n",
       "<polyline fill=\"none\" points=\"127.6035,-405.5 127.6035,-449.5 \" stroke=\"#000000\"/>\n",
       "<text fill=\"#000000\" font-family=\"Times,serif\" font-size=\"14.00\" text-anchor=\"middle\" x=\"155.438\" y=\"-434.3\">input:</text>\n",
       "<polyline fill=\"none\" points=\"127.6035,-427.5 183.2725,-427.5 \" stroke=\"#000000\"/>\n",
       "<text fill=\"#000000\" font-family=\"Times,serif\" font-size=\"14.00\" text-anchor=\"middle\" x=\"155.438\" y=\"-412.3\">output:</text>\n",
       "<polyline fill=\"none\" points=\"183.2725,-405.5 183.2725,-449.5 \" stroke=\"#000000\"/>\n",
       "<text fill=\"#000000\" font-family=\"Times,serif\" font-size=\"14.00\" text-anchor=\"middle\" x=\"225.0967\" y=\"-434.3\">(None, 128)</text>\n",
       "<polyline fill=\"none\" points=\"183.2725,-427.5 266.9209,-427.5 \" stroke=\"#000000\"/>\n",
       "<text fill=\"#000000\" font-family=\"Times,serif\" font-size=\"14.00\" text-anchor=\"middle\" x=\"225.0967\" y=\"-412.3\">(None, 128)</text>\n",
       "</g>\n",
       "<!-- 104139741952&#45;&gt;104139742624 -->\n",
       "<g class=\"edge\" id=\"edge2\">\n",
       "<title>104139741952-&gt;104139742624</title>\n",
       "<path d=\"M133.4604,-486.3664C133.4604,-478.1516 133.4604,-468.6579 133.4604,-459.7252\" fill=\"none\" stroke=\"#000000\"/>\n",
       "<polygon fill=\"#000000\" points=\"136.9605,-459.6068 133.4604,-449.6068 129.9605,-459.6069 136.9605,-459.6068\" stroke=\"#000000\"/>\n",
       "</g>\n",
       "<!-- 104139742176 -->\n",
       "<g class=\"node\" id=\"node3\">\n",
       "<title>104139742176</title>\n",
       "<polygon fill=\"none\" points=\"11.6758,-324.5 11.6758,-368.5 255.2451,-368.5 255.2451,-324.5 11.6758,-324.5\" stroke=\"#000000\"/>\n",
       "<text fill=\"#000000\" font-family=\"Times,serif\" font-size=\"14.00\" text-anchor=\"middle\" x=\"63.8018\" y=\"-342.3\">dense_5: Dense</text>\n",
       "<polyline fill=\"none\" points=\"115.9277,-324.5 115.9277,-368.5 \" stroke=\"#000000\"/>\n",
       "<text fill=\"#000000\" font-family=\"Times,serif\" font-size=\"14.00\" text-anchor=\"middle\" x=\"143.7622\" y=\"-353.3\">input:</text>\n",
       "<polyline fill=\"none\" points=\"115.9277,-346.5 171.5967,-346.5 \" stroke=\"#000000\"/>\n",
       "<text fill=\"#000000\" font-family=\"Times,serif\" font-size=\"14.00\" text-anchor=\"middle\" x=\"143.7622\" y=\"-331.3\">output:</text>\n",
       "<polyline fill=\"none\" points=\"171.5967,-324.5 171.5967,-368.5 \" stroke=\"#000000\"/>\n",
       "<text fill=\"#000000\" font-family=\"Times,serif\" font-size=\"14.00\" text-anchor=\"middle\" x=\"213.4209\" y=\"-353.3\">(None, 128)</text>\n",
       "<polyline fill=\"none\" points=\"171.5967,-346.5 255.2451,-346.5 \" stroke=\"#000000\"/>\n",
       "<text fill=\"#000000\" font-family=\"Times,serif\" font-size=\"14.00\" text-anchor=\"middle\" x=\"213.4209\" y=\"-331.3\">(None, 96)</text>\n",
       "</g>\n",
       "<!-- 104139742624&#45;&gt;104139742176 -->\n",
       "<g class=\"edge\" id=\"edge3\">\n",
       "<title>104139742624-&gt;104139742176</title>\n",
       "<path d=\"M133.4604,-405.3664C133.4604,-397.1516 133.4604,-387.6579 133.4604,-378.7252\" fill=\"none\" stroke=\"#000000\"/>\n",
       "<polygon fill=\"#000000\" points=\"136.9605,-378.6068 133.4604,-368.6068 129.9605,-378.6069 136.9605,-378.6068\" stroke=\"#000000\"/>\n",
       "</g>\n",
       "<!-- 104141937800 -->\n",
       "<g class=\"node\" id=\"node4\">\n",
       "<title>104141937800</title>\n",
       "<polygon fill=\"none\" points=\"3.5,-243.5 3.5,-287.5 263.4209,-287.5 263.4209,-243.5 3.5,-243.5\" stroke=\"#000000\"/>\n",
       "<text fill=\"#000000\" font-family=\"Times,serif\" font-size=\"14.00\" text-anchor=\"middle\" x=\"67.3018\" y=\"-261.3\">dropout_4: Dropout</text>\n",
       "<polyline fill=\"none\" points=\"131.1035,-243.5 131.1035,-287.5 \" stroke=\"#000000\"/>\n",
       "<text fill=\"#000000\" font-family=\"Times,serif\" font-size=\"14.00\" text-anchor=\"middle\" x=\"158.938\" y=\"-272.3\">input:</text>\n",
       "<polyline fill=\"none\" points=\"131.1035,-265.5 186.7725,-265.5 \" stroke=\"#000000\"/>\n",
       "<text fill=\"#000000\" font-family=\"Times,serif\" font-size=\"14.00\" text-anchor=\"middle\" x=\"158.938\" y=\"-250.3\">output:</text>\n",
       "<polyline fill=\"none\" points=\"186.7725,-243.5 186.7725,-287.5 \" stroke=\"#000000\"/>\n",
       "<text fill=\"#000000\" font-family=\"Times,serif\" font-size=\"14.00\" text-anchor=\"middle\" x=\"225.0967\" y=\"-272.3\">(None, 96)</text>\n",
       "<polyline fill=\"none\" points=\"186.7725,-265.5 263.4209,-265.5 \" stroke=\"#000000\"/>\n",
       "<text fill=\"#000000\" font-family=\"Times,serif\" font-size=\"14.00\" text-anchor=\"middle\" x=\"225.0967\" y=\"-250.3\">(None, 96)</text>\n",
       "</g>\n",
       "<!-- 104139742176&#45;&gt;104141937800 -->\n",
       "<g class=\"edge\" id=\"edge4\">\n",
       "<title>104139742176-&gt;104141937800</title>\n",
       "<path d=\"M133.4604,-324.3664C133.4604,-316.1516 133.4604,-306.6579 133.4604,-297.7252\" fill=\"none\" stroke=\"#000000\"/>\n",
       "<polygon fill=\"#000000\" points=\"136.9605,-297.6068 133.4604,-287.6068 129.9605,-297.6069 136.9605,-297.6068\" stroke=\"#000000\"/>\n",
       "</g>\n",
       "<!-- 104141997056 -->\n",
       "<g class=\"node\" id=\"node5\">\n",
       "<title>104141997056</title>\n",
       "<polygon fill=\"none\" points=\"15.1758,-162.5 15.1758,-206.5 251.7451,-206.5 251.7451,-162.5 15.1758,-162.5\" stroke=\"#000000\"/>\n",
       "<text fill=\"#000000\" font-family=\"Times,serif\" font-size=\"14.00\" text-anchor=\"middle\" x=\"67.3018\" y=\"-180.3\">dense_6: Dense</text>\n",
       "<polyline fill=\"none\" points=\"119.4277,-162.5 119.4277,-206.5 \" stroke=\"#000000\"/>\n",
       "<text fill=\"#000000\" font-family=\"Times,serif\" font-size=\"14.00\" text-anchor=\"middle\" x=\"147.2622\" y=\"-191.3\">input:</text>\n",
       "<polyline fill=\"none\" points=\"119.4277,-184.5 175.0967,-184.5 \" stroke=\"#000000\"/>\n",
       "<text fill=\"#000000\" font-family=\"Times,serif\" font-size=\"14.00\" text-anchor=\"middle\" x=\"147.2622\" y=\"-169.3\">output:</text>\n",
       "<polyline fill=\"none\" points=\"175.0967,-162.5 175.0967,-206.5 \" stroke=\"#000000\"/>\n",
       "<text fill=\"#000000\" font-family=\"Times,serif\" font-size=\"14.00\" text-anchor=\"middle\" x=\"213.4209\" y=\"-191.3\">(None, 96)</text>\n",
       "<polyline fill=\"none\" points=\"175.0967,-184.5 251.7451,-184.5 \" stroke=\"#000000\"/>\n",
       "<text fill=\"#000000\" font-family=\"Times,serif\" font-size=\"14.00\" text-anchor=\"middle\" x=\"213.4209\" y=\"-169.3\">(None, 32)</text>\n",
       "</g>\n",
       "<!-- 104141937800&#45;&gt;104141997056 -->\n",
       "<g class=\"edge\" id=\"edge5\">\n",
       "<title>104141937800-&gt;104141997056</title>\n",
       "<path d=\"M133.4604,-243.3664C133.4604,-235.1516 133.4604,-225.6579 133.4604,-216.7252\" fill=\"none\" stroke=\"#000000\"/>\n",
       "<polygon fill=\"#000000\" points=\"136.9605,-216.6068 133.4604,-206.6068 129.9605,-216.6069 136.9605,-216.6068\" stroke=\"#000000\"/>\n",
       "</g>\n",
       "<!-- 104141780360 -->\n",
       "<g class=\"node\" id=\"node6\">\n",
       "<title>104141780360</title>\n",
       "<polygon fill=\"none\" points=\"3.5,-81.5 3.5,-125.5 263.4209,-125.5 263.4209,-81.5 3.5,-81.5\" stroke=\"#000000\"/>\n",
       "<text fill=\"#000000\" font-family=\"Times,serif\" font-size=\"14.00\" text-anchor=\"middle\" x=\"67.3018\" y=\"-99.3\">dropout_5: Dropout</text>\n",
       "<polyline fill=\"none\" points=\"131.1035,-81.5 131.1035,-125.5 \" stroke=\"#000000\"/>\n",
       "<text fill=\"#000000\" font-family=\"Times,serif\" font-size=\"14.00\" text-anchor=\"middle\" x=\"158.938\" y=\"-110.3\">input:</text>\n",
       "<polyline fill=\"none\" points=\"131.1035,-103.5 186.7725,-103.5 \" stroke=\"#000000\"/>\n",
       "<text fill=\"#000000\" font-family=\"Times,serif\" font-size=\"14.00\" text-anchor=\"middle\" x=\"158.938\" y=\"-88.3\">output:</text>\n",
       "<polyline fill=\"none\" points=\"186.7725,-81.5 186.7725,-125.5 \" stroke=\"#000000\"/>\n",
       "<text fill=\"#000000\" font-family=\"Times,serif\" font-size=\"14.00\" text-anchor=\"middle\" x=\"225.0967\" y=\"-110.3\">(None, 32)</text>\n",
       "<polyline fill=\"none\" points=\"186.7725,-103.5 263.4209,-103.5 \" stroke=\"#000000\"/>\n",
       "<text fill=\"#000000\" font-family=\"Times,serif\" font-size=\"14.00\" text-anchor=\"middle\" x=\"225.0967\" y=\"-88.3\">(None, 32)</text>\n",
       "</g>\n",
       "<!-- 104141997056&#45;&gt;104141780360 -->\n",
       "<g class=\"edge\" id=\"edge6\">\n",
       "<title>104141997056-&gt;104141780360</title>\n",
       "<path d=\"M133.4604,-162.3664C133.4604,-154.1516 133.4604,-144.6579 133.4604,-135.7252\" fill=\"none\" stroke=\"#000000\"/>\n",
       "<polygon fill=\"#000000\" points=\"136.9605,-135.6068 133.4604,-125.6068 129.9605,-135.6069 136.9605,-135.6068\" stroke=\"#000000\"/>\n",
       "</g>\n",
       "<!-- 104141670048 -->\n",
       "<g class=\"node\" id=\"node7\">\n",
       "<title>104141670048</title>\n",
       "<polygon fill=\"none\" points=\"15.1758,-.5 15.1758,-44.5 251.7451,-44.5 251.7451,-.5 15.1758,-.5\" stroke=\"#000000\"/>\n",
       "<text fill=\"#000000\" font-family=\"Times,serif\" font-size=\"14.00\" text-anchor=\"middle\" x=\"67.3018\" y=\"-18.3\">dense_7: Dense</text>\n",
       "<polyline fill=\"none\" points=\"119.4277,-.5 119.4277,-44.5 \" stroke=\"#000000\"/>\n",
       "<text fill=\"#000000\" font-family=\"Times,serif\" font-size=\"14.00\" text-anchor=\"middle\" x=\"147.2622\" y=\"-29.3\">input:</text>\n",
       "<polyline fill=\"none\" points=\"119.4277,-22.5 175.0967,-22.5 \" stroke=\"#000000\"/>\n",
       "<text fill=\"#000000\" font-family=\"Times,serif\" font-size=\"14.00\" text-anchor=\"middle\" x=\"147.2622\" y=\"-7.3\">output:</text>\n",
       "<polyline fill=\"none\" points=\"175.0967,-.5 175.0967,-44.5 \" stroke=\"#000000\"/>\n",
       "<text fill=\"#000000\" font-family=\"Times,serif\" font-size=\"14.00\" text-anchor=\"middle\" x=\"213.4209\" y=\"-29.3\">(None, 32)</text>\n",
       "<polyline fill=\"none\" points=\"175.0967,-22.5 251.7451,-22.5 \" stroke=\"#000000\"/>\n",
       "<text fill=\"#000000\" font-family=\"Times,serif\" font-size=\"14.00\" text-anchor=\"middle\" x=\"213.4209\" y=\"-7.3\">(None, 10)</text>\n",
       "</g>\n",
       "<!-- 104141780360&#45;&gt;104141670048 -->\n",
       "<g class=\"edge\" id=\"edge7\">\n",
       "<title>104141780360-&gt;104141670048</title>\n",
       "<path d=\"M133.4604,-81.3664C133.4604,-73.1516 133.4604,-63.6579 133.4604,-54.7252\" fill=\"none\" stroke=\"#000000\"/>\n",
       "<polygon fill=\"#000000\" points=\"136.9605,-54.6068 133.4604,-44.6068 129.9605,-54.6069 136.9605,-54.6068\" stroke=\"#000000\"/>\n",
       "</g>\n",
       "<!-- 104139743016 -->\n",
       "<g class=\"node\" id=\"node8\">\n",
       "<title>104139743016</title>\n",
       "<polygon fill=\"none\" points=\"83.4604,-567.5 83.4604,-603.5 183.4604,-603.5 183.4604,-567.5 83.4604,-567.5\" stroke=\"#000000\"/>\n",
       "<text fill=\"#000000\" font-family=\"Times,serif\" font-size=\"14.00\" text-anchor=\"middle\" x=\"133.4604\" y=\"-581.3\">104139743016</text>\n",
       "</g>\n",
       "<!-- 104139743016&#45;&gt;104139741952 -->\n",
       "<g class=\"edge\" id=\"edge1\">\n",
       "<title>104139743016-&gt;104139741952</title>\n",
       "<path d=\"M133.4604,-567.2521C133.4604,-559.3888 133.4604,-549.9498 133.4604,-540.9612\" fill=\"none\" stroke=\"#000000\"/>\n",
       "<polygon fill=\"#000000\" points=\"136.9605,-540.7376 133.4604,-530.7377 129.9605,-540.7377 136.9605,-540.7376\" stroke=\"#000000\"/>\n",
       "</g>\n",
       "</g>\n",
       "</svg>"
      ],
      "text/plain": [
       "<IPython.core.display.SVG object>"
      ]
     },
     "execution_count": 6,
     "metadata": {},
     "output_type": "execute_result"
    }
   ],
   "source": [
    "from IPython.display import SVG\n",
    "from keras.utils.vis_utils import model_to_dot\n",
    "\n",
    "%matplotlib inline\n",
    "\n",
    "SVG(model_to_dot(model, show_shapes=True).create(prog='dot', format='svg'))"
   ]
  },
  {
   "cell_type": "code",
   "execution_count": 7,
   "metadata": {},
   "outputs": [
    {
     "name": "stdout",
     "output_type": "stream",
     "text": [
      "Train on 40000 samples, validate on 10000 samples\n",
      "Epoch 1/50\n",
      "40000/40000 [==============================] - 3s 74us/step - loss: 2.3192 - acc: 0.1200 - val_loss: 2.2468 - val_acc: 0.1796\n",
      "Epoch 2/50\n",
      "40000/40000 [==============================] - 3s 63us/step - loss: 2.2157 - acc: 0.1727 - val_loss: 2.1184 - val_acc: 0.2418\n",
      "Epoch 3/50\n",
      "40000/40000 [==============================] - 3s 63us/step - loss: 2.1215 - acc: 0.2124 - val_loss: 2.0189 - val_acc: 0.2817\n",
      "Epoch 4/50\n",
      "40000/40000 [==============================] - 3s 63us/step - loss: 2.0513 - acc: 0.2399 - val_loss: 1.9591 - val_acc: 0.3041\n",
      "Epoch 5/50\n",
      "40000/40000 [==============================] - 3s 63us/step - loss: 1.9956 - acc: 0.2621 - val_loss: 1.8855 - val_acc: 0.3306\n",
      "Epoch 6/50\n",
      "40000/40000 [==============================] - 3s 64us/step - loss: 1.9507 - acc: 0.2820 - val_loss: 1.8495 - val_acc: 0.3445\n",
      "Epoch 7/50\n",
      "40000/40000 [==============================] - 3s 64us/step - loss: 1.9230 - acc: 0.2979 - val_loss: 1.8279 - val_acc: 0.3516\n",
      "Epoch 8/50\n",
      "40000/40000 [==============================] - 3s 64us/step - loss: 1.9005 - acc: 0.3056 - val_loss: 1.8124 - val_acc: 0.3612\n",
      "Epoch 9/50\n",
      "40000/40000 [==============================] - 3s 64us/step - loss: 1.8802 - acc: 0.3121 - val_loss: 1.7848 - val_acc: 0.3582\n",
      "Epoch 10/50\n",
      "40000/40000 [==============================] - 3s 70us/step - loss: 1.8648 - acc: 0.3219 - val_loss: 1.7926 - val_acc: 0.3559\n",
      "Epoch 11/50\n",
      "40000/40000 [==============================] - 3s 70us/step - loss: 1.8527 - acc: 0.3255 - val_loss: 1.7652 - val_acc: 0.3630\n",
      "Epoch 12/50\n",
      "40000/40000 [==============================] - 3s 73us/step - loss: 1.8358 - acc: 0.3320 - val_loss: 1.7496 - val_acc: 0.3693\n",
      "Epoch 13/50\n",
      "40000/40000 [==============================] - 3s 71us/step - loss: 1.8274 - acc: 0.3379 - val_loss: 1.7469 - val_acc: 0.3706\n",
      "Epoch 14/50\n",
      "40000/40000 [==============================] - 3s 67us/step - loss: 1.8156 - acc: 0.3428 - val_loss: 1.7398 - val_acc: 0.3786\n",
      "Epoch 15/50\n",
      "40000/40000 [==============================] - 4s 89us/step - loss: 1.8037 - acc: 0.3486 - val_loss: 1.7321 - val_acc: 0.3803\n",
      "Epoch 16/50\n",
      "40000/40000 [==============================] - 3s 64us/step - loss: 1.8035 - acc: 0.3500 - val_loss: 1.7169 - val_acc: 0.3847\n",
      "Epoch 17/50\n",
      "40000/40000 [==============================] - 2s 62us/step - loss: 1.7918 - acc: 0.3511 - val_loss: 1.7220 - val_acc: 0.3791\n",
      "Epoch 18/50\n",
      "40000/40000 [==============================] - 2s 61us/step - loss: 1.7785 - acc: 0.3579 - val_loss: 1.7024 - val_acc: 0.3912\n",
      "Epoch 19/50\n",
      "40000/40000 [==============================] - 3s 63us/step - loss: 1.7754 - acc: 0.3582 - val_loss: 1.6885 - val_acc: 0.3972\n",
      "Epoch 20/50\n",
      "40000/40000 [==============================] - 3s 69us/step - loss: 1.7631 - acc: 0.3621 - val_loss: 1.6854 - val_acc: 0.3981\n",
      "Epoch 21/50\n",
      "40000/40000 [==============================] - 3s 66us/step - loss: 1.7622 - acc: 0.3646 - val_loss: 1.6873 - val_acc: 0.4005\n",
      "Epoch 22/50\n",
      "40000/40000 [==============================] - 3s 65us/step - loss: 1.7577 - acc: 0.3662 - val_loss: 1.6836 - val_acc: 0.4049\n",
      "Epoch 23/50\n",
      "40000/40000 [==============================] - 3s 64us/step - loss: 1.7543 - acc: 0.3673 - val_loss: 1.6791 - val_acc: 0.3996\n",
      "Epoch 24/50\n",
      "40000/40000 [==============================] - 2s 61us/step - loss: 1.7502 - acc: 0.3684 - val_loss: 1.6711 - val_acc: 0.4051\n",
      "Epoch 25/50\n",
      "40000/40000 [==============================] - 3s 72us/step - loss: 1.7399 - acc: 0.3695 - val_loss: 1.6896 - val_acc: 0.3940\n",
      "Epoch 26/50\n",
      "40000/40000 [==============================] - 3s 64us/step - loss: 1.7447 - acc: 0.3705 - val_loss: 1.6657 - val_acc: 0.4030\n",
      "Epoch 27/50\n",
      "40000/40000 [==============================] - 2s 62us/step - loss: 1.7324 - acc: 0.3765 - val_loss: 1.6596 - val_acc: 0.4060\n",
      "Epoch 28/50\n",
      "40000/40000 [==============================] - 3s 63us/step - loss: 1.7283 - acc: 0.3761 - val_loss: 1.6583 - val_acc: 0.4045\n",
      "Epoch 29/50\n",
      "40000/40000 [==============================] - 2s 61us/step - loss: 1.7301 - acc: 0.3765 - val_loss: 1.6636 - val_acc: 0.4023\n",
      "Epoch 30/50\n",
      "40000/40000 [==============================] - 3s 64us/step - loss: 1.7232 - acc: 0.3772 - val_loss: 1.6431 - val_acc: 0.4140\n",
      "Epoch 31/50\n",
      "40000/40000 [==============================] - 2s 59us/step - loss: 1.7211 - acc: 0.3796 - val_loss: 1.6484 - val_acc: 0.4120\n",
      "Epoch 32/50\n",
      "40000/40000 [==============================] - 2s 60us/step - loss: 1.7196 - acc: 0.3807 - val_loss: 1.6480 - val_acc: 0.4079\n",
      "Epoch 33/50\n",
      "40000/40000 [==============================] - 2s 59us/step - loss: 1.7121 - acc: 0.3853 - val_loss: 1.6448 - val_acc: 0.4094\n",
      "Epoch 34/50\n",
      "40000/40000 [==============================] - 2s 60us/step - loss: 1.7097 - acc: 0.3851 - val_loss: 1.6280 - val_acc: 0.4159\n",
      "Epoch 35/50\n",
      "40000/40000 [==============================] - 2s 61us/step - loss: 1.7155 - acc: 0.3832 - val_loss: 1.6352 - val_acc: 0.4097\n",
      "Epoch 36/50\n",
      "40000/40000 [==============================] - 3s 63us/step - loss: 1.7107 - acc: 0.3845 - val_loss: 1.6312 - val_acc: 0.4194\n",
      "Epoch 37/50\n",
      "40000/40000 [==============================] - 3s 68us/step - loss: 1.6974 - acc: 0.3903 - val_loss: 1.6193 - val_acc: 0.4248\n",
      "Epoch 38/50\n",
      "40000/40000 [==============================] - 3s 67us/step - loss: 1.6974 - acc: 0.3879 - val_loss: 1.6363 - val_acc: 0.4178\n",
      "Epoch 39/50\n",
      "40000/40000 [==============================] - 3s 70us/step - loss: 1.6928 - acc: 0.3912 - val_loss: 1.6362 - val_acc: 0.4203\n",
      "Epoch 40/50\n",
      "40000/40000 [==============================] - 3s 75us/step - loss: 1.6943 - acc: 0.3921 - val_loss: 1.6311 - val_acc: 0.4213\n",
      "Epoch 41/50\n",
      "40000/40000 [==============================] - 3s 71us/step - loss: 1.6839 - acc: 0.3944 - val_loss: 1.6174 - val_acc: 0.4183\n",
      "Epoch 42/50\n",
      "40000/40000 [==============================] - 3s 70us/step - loss: 1.6779 - acc: 0.3949 - val_loss: 1.6174 - val_acc: 0.4183\n",
      "Epoch 43/50\n",
      "40000/40000 [==============================] - 3s 66us/step - loss: 1.6770 - acc: 0.3976 - val_loss: 1.6118 - val_acc: 0.4271\n",
      "Epoch 44/50\n",
      "40000/40000 [==============================] - 3s 74us/step - loss: 1.6771 - acc: 0.3975 - val_loss: 1.6070 - val_acc: 0.4288\n",
      "Epoch 45/50\n",
      "40000/40000 [==============================] - 3s 75us/step - loss: 1.6768 - acc: 0.4001 - val_loss: 1.6110 - val_acc: 0.4236\n",
      "Epoch 46/50\n",
      "40000/40000 [==============================] - 3s 66us/step - loss: 1.6837 - acc: 0.3939 - val_loss: 1.6156 - val_acc: 0.4221\n",
      "Epoch 47/50\n",
      "40000/40000 [==============================] - 3s 65us/step - loss: 1.6791 - acc: 0.3970 - val_loss: 1.6165 - val_acc: 0.4215\n",
      "Epoch 48/50\n",
      "40000/40000 [==============================] - 3s 67us/step - loss: 1.6765 - acc: 0.4006 - val_loss: 1.6035 - val_acc: 0.4254\n",
      "Epoch 49/50\n",
      "40000/40000 [==============================] - 3s 66us/step - loss: 1.6703 - acc: 0.3987 - val_loss: 1.6253 - val_acc: 0.4139\n",
      "Epoch 50/50\n",
      "40000/40000 [==============================] - 3s 65us/step - loss: 1.6671 - acc: 0.4029 - val_loss: 1.5996 - val_acc: 0.4274\n",
      "10000/10000 [==============================] - 0s 28us/step\n",
      "Test Loss and Accuracy -> [1.5827820301055908, 0.438600005209446]\n"
     ]
    }
   ],
   "source": [
    "import matplotlib.pyplot as plt\n",
    "\n",
    "history = model.fit(X_train, Y_train, epochs=50, batch_size=1500, validation_split=0.2)\n",
    "performance_test=model.evaluate(X_test,Y_test, batch_size=1500)\n",
    "print('Test Loss and Accuracy ->', performance_test)"
   ]
  },
  {
   "cell_type": "code",
   "execution_count": 8,
   "metadata": {},
   "outputs": [
    {
     "data": {
      "image/png": "[encoded data removed]",
      "text/plain": [
       "<matplotlib.figure.Figure at 0x1821a95828>"
      ]
     },
     "metadata": {},
     "output_type": "display_data"
    },
    {
     "data": {
      "image/png": "[encoded data removed]",
      "text/plain": [
       "<matplotlib.figure.Figure at 0x1821990a90>"
      ]
     },
     "metadata": {},
     "output_type": "display_data"
    }
   ],
   "source": [
    "# visualize model acc\n",
    "history = history.history\n",
    "plt.plot(history['acc'])\n",
    "plt.plot(history['val_acc'])\n",
    "plt.ylabel('Accracy')\n",
    "plt.xlabel('Epoch')\n",
    "plt.legend(['Training data', 'Validation data'], loc=0)\n",
    "plt.show()\n",
    "\n",
    "# visualize model loss\n",
    "history = history\n",
    "plt.plot(history['loss'])\n",
    "plt.plot(history['val_loss'])\n",
    "plt.ylabel('Loss')\n",
    "plt.xlabel('Epoch')\n",
    "plt.legend(['Training data', 'Validation data'], loc=0)\n",
    "plt.show()"
   ]
  },
  {
   "cell_type": "markdown",
   "metadata": {
    "collapsed": true
   },
   "source": [
    "### 텐서보드와 연동하기"
   ]
  },
  {
   "cell_type": "code",
   "execution_count": 10,
   "metadata": {},
   "outputs": [
    {
     "name": "stdout",
     "output_type": "stream",
     "text": [
      "Train on 40000 samples, validate on 10000 samples\n",
      "Epoch 1/10\n",
      "40000/40000 [==============================] - 3s 67us/step - loss: 1.6430 - acc: 0.4126 - val_loss: 1.5870 - val_acc: 0.4331\n",
      "Epoch 2/10\n",
      "40000/40000 [==============================] - 2s 61us/step - loss: 1.6391 - acc: 0.4131 - val_loss: 1.5765 - val_acc: 0.4355\n",
      "Epoch 3/10\n",
      "40000/40000 [==============================] - 3s 79us/step - loss: 1.6372 - acc: 0.4121 - val_loss: 1.5796 - val_acc: 0.4355\n",
      "Epoch 4/10\n",
      "40000/40000 [==============================] - 3s 67us/step - loss: 1.6315 - acc: 0.4104 - val_loss: 1.5725 - val_acc: 0.4364\n",
      "Epoch 5/10\n",
      "40000/40000 [==============================] - 2s 62us/step - loss: 1.6384 - acc: 0.4125 - val_loss: 1.5813 - val_acc: 0.4344\n",
      "Epoch 6/10\n",
      "40000/40000 [==============================] - 2s 62us/step - loss: 1.6389 - acc: 0.4115 - val_loss: 1.5825 - val_acc: 0.4317\n",
      "Epoch 7/10\n",
      "40000/40000 [==============================] - 2s 61us/step - loss: 1.6308 - acc: 0.4142 - val_loss: 1.5845 - val_acc: 0.4273\n",
      "Epoch 8/10\n",
      "40000/40000 [==============================] - 3s 63us/step - loss: 1.6313 - acc: 0.4154 - val_loss: 1.5793 - val_acc: 0.4301\n",
      "Epoch 9/10\n",
      "40000/40000 [==============================] - 2s 61us/step - loss: 1.6243 - acc: 0.4150 - val_loss: 1.5803 - val_acc: 0.4294\n",
      "Epoch 10/10\n",
      "40000/40000 [==============================] - 2s 62us/step - loss: 1.6272 - acc: 0.4149 - val_loss: 1.5690 - val_acc: 0.4381\n"
     ]
    }
   ],
   "source": [
    "tb_hist = keras.callbacks.TensorBoard(log_dir='./graph', histogram_freq=0, write_graph=True, write_images=True)\n",
    "history = model.fit(X_train, Y_train, epochs=10, batch_size=1500, validation_split=0.2, callbacks=[tb_hist])"
   ]
  },
  {
   "cell_type": "markdown",
   "metadata": {},
   "source": [
    "#### !(terminal) tensorboard --logdir={your log_dir path}\n",
    "http://127.0.0.1:6006/"
   ]
  },
  {
   "cell_type": "markdown",
   "metadata": {},
   "source": [
    "-----"
   ]
  },
  {
   "cell_type": "markdown",
   "metadata": {},
   "source": [
    "### Early Stopping 기법"
   ]
  },
  {
   "cell_type": "code",
   "execution_count": 13,
   "metadata": {},
   "outputs": [
    {
     "name": "stdout",
     "output_type": "stream",
     "text": [
      "Train on 40000 samples, validate on 10000 samples\n",
      "Epoch 1/10\n",
      "40000/40000 [==============================] - 3s 65us/step - loss: 1.6168 - acc: 0.4210 - val_loss: 1.5600 - val_acc: 0.4436\n",
      "Epoch 2/10\n",
      "40000/40000 [==============================] - 2s 62us/step - loss: 1.6140 - acc: 0.4189 - val_loss: 1.5908 - val_acc: 0.4356\n",
      "Epoch 3/10\n",
      "40000/40000 [==============================] - 3s 63us/step - loss: 1.6108 - acc: 0.4230 - val_loss: 1.5619 - val_acc: 0.4408\n",
      "Epoch 4/10\n",
      "40000/40000 [==============================] - 3s 64us/step - loss: 1.6072 - acc: 0.4226 - val_loss: 1.5724 - val_acc: 0.4305\n",
      "Epoch 5/10\n",
      "40000/40000 [==============================] - 3s 64us/step - loss: 1.6089 - acc: 0.4235 - val_loss: 1.5676 - val_acc: 0.4389\n",
      "Epoch 6/10\n",
      "40000/40000 [==============================] - 3s 63us/step - loss: 1.6039 - acc: 0.4233 - val_loss: 1.5626 - val_acc: 0.4418\n"
     ]
    }
   ],
   "source": [
    "from keras.callbacks import EarlyStopping\n",
    "early_stopping = EarlyStopping(patience=5) # 증감을 지켜보는 최소 에포크 개수\n",
    "history = model.fit(X_train, Y_train, epochs=10, batch_size=1500, validation_split=0.2, callbacks=[early_stopping])"
   ]
  },
  {
   "cell_type": "markdown",
   "metadata": {},
   "source": [
    "- val_loss가 감소하지 않는 기간동안(5개)의 epoch를 발견하면 종료됨"
   ]
  },
  {
   "cell_type": "code",
   "execution_count": 14,
   "metadata": {},
   "outputs": [
    {
     "data": {
      "image/png": "[encoded data removed]",
      "text/plain": [
       "<matplotlib.figure.Figure at 0x182580ca58>"
      ]
     },
     "metadata": {},
     "output_type": "display_data"
    },
    {
     "data": {
      "image/png": "[encoded data removed]",
      "text/plain": [
       "<matplotlib.figure.Figure at 0x18244c9f28>"
      ]
     },
     "metadata": {},
     "output_type": "display_data"
    }
   ],
   "source": [
    "# visualize model acc\n",
    "history = history.history\n",
    "plt.plot(history['acc'])\n",
    "plt.plot(history['val_acc'])\n",
    "plt.ylabel('Accracy')\n",
    "plt.xlabel('Epoch')\n",
    "plt.legend(['Training data', 'Validation data'], loc=0)\n",
    "plt.show()\n",
    "\n",
    "# visualize model loss\n",
    "history = history\n",
    "plt.plot(history['loss'])\n",
    "plt.plot(history['val_loss'])\n",
    "plt.ylabel('Loss')\n",
    "plt.xlabel('Epoch')\n",
    "plt.legend(['Training data', 'Validation data'], loc=0)\n",
    "plt.show()"
   ]
  },
  {
   "cell_type": "markdown",
   "metadata": {},
   "source": [
    "#### 참고 : ModelCheckpoint()를 사용하면, 각 epoch마다의 가중치를 파일형태로 저장할 수 있음. 학습이 완료된 후 가장 좋은 순간의 모델을 사용하고 싶은 경우 반드시 사용."
   ]
  },
  {
   "cell_type": "markdown",
   "metadata": {
    "collapsed": true
   },
   "source": [
    "-----"
   ]
  }
 ],
 "metadata": {
  "kernelspec": {
   "display_name": "Python 3",
   "language": "python",
   "name": "python3"
  },
  "language_info": {
   "codemirror_mode": {
    "name": "ipython",
    "version": 3
   },
   "file_extension": ".py",
   "mimetype": "text/x-python",
   "name": "python",
   "nbconvert_exporter": "python",
   "pygments_lexer": "ipython3",
   "version": "3.6.4"
  }
 },
 "nbformat": 4,
 "nbformat_minor": 2
}
