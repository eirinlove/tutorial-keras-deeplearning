{
  "nbformat": 4,
  "nbformat_minor": 0,
  "metadata": {
    "colab": {
      "name": "test-notebook.ipynb",
      "version": "0.3.2",
      "views": {},
      "default_view": {},
      "provenance": [],
      "collapsed_sections": []
    },
    "kernelspec": {
      "name": "python3",
      "display_name": "Python 3"
    }
  },
  "cells": [
    {
      "metadata": {
        "id": "P_tqDt9mp3YP",
        "colab_type": "text"
      },
      "cell_type": "markdown",
      "source": [
        ""
      ]
    },
    {
      "metadata": {
        "id": "-keTjF-tp8Od",
        "colab_type": "text"
      },
      "cell_type": "markdown",
      "source": [
        "#1. 언어 설정 및 GPU 설정\n",
        "\n",
        "수정 -> 노트설정 : GPU 가속"
      ]
    },
    {
      "metadata": {
        "id": "KUGA5UgNqHPf",
        "colab_type": "text"
      },
      "cell_type": "markdown",
      "source": [
        "# 2. 드라이브에 파일 읽기 / 쓰기"
      ]
    },
    {
      "metadata": {
        "id": "V5K8yo0VqOMy",
        "colab_type": "code",
        "colab": {
          "autoexec": {
            "startup": false,
            "wait_interval": 0
          },
          "base_uri": "https://localhost:8080/",
          "height": 51
        },
        "outputId": "054923be-e0be-44e8-f665-6eebcb3b2ee6",
        "executionInfo": {
          "status": "ok",
          "timestamp": 1528384598428,
          "user_tz": -540,
          "elapsed": 4429,
          "user": {
            "displayName": "윤기태",
            "photoUrl": "//lh3.googleusercontent.com/-ghOsS20kdy8/AAAAAAAAAAI/AAAAAAAABHM/QfZOr0OPEVg/s50-c-k-no/photo.jpg",
            "userId": "113616946393842504176"
          }
        }
      },
      "cell_type": "code",
      "source": [
        "!pip install -U -q PyDrive\n",
        "\n",
        "from pydrive.auth import GoogleAuth\n",
        "from pydrive.drive import GoogleDrive\n",
        "from google.colab import auth\n",
        "from oauth2client.client import GoogleCredentials\n",
        "\n",
        "# 1. Authenticate and create the PyDrive client.\n",
        "auth.authenticate_user()\n",
        "gauth = GoogleAuth()\n",
        "gauth.credentials = GoogleCredentials.get_application_default()\n",
        "drive = GoogleDrive(gauth)\n",
        "\n",
        "# PyDrive reference:\n",
        "# https://googledrive.github.io/PyDrive/docs/build/html/index.html\n",
        "\n",
        "# 2. Create & upload a file text file.\n",
        "# 특정 폴더 안으로 파일 삽입\n",
        "uploaded = drive.CreateFile({'title': 'Sample upload.txt', \"parents\": [{\"kind\": \"drive#fileLink\",\"id\": '1MhnuswhW5NCMYJKwUDHBSv9ZpDgypnYE'}]})\n",
        "uploaded.SetContentString('Sample upload file content')\n",
        "uploaded.Upload()\n",
        "print('Uploaded file with ID {}'.format(uploaded.get('id')))\n",
        "\n",
        "# 3. Load a file by ID and print its contents.\n",
        "downloaded = drive.CreateFile({'id': uploaded.get('id')})\n",
        "print('Downloaded content \"{}\"'.format(downloaded.GetContentString()))"
      ],
      "execution_count": 0,
      "outputs": [
        {
          "output_type": "stream",
          "text": [
            "Uploaded file with ID 1qsfy-U9Yr5PH8dmKMMuHdmRtvbpYJJKa\n",
            "Downloaded content \"Sample upload file content\"\n"
          ],
          "name": "stdout"
        }
      ]
    },
    {
      "metadata": {
        "id": "XzWiboC00zVT",
        "colab_type": "text"
      },
      "cell_type": "markdown",
      "source": [
        "# 3. 케라스 모델파일 읽기 / 쓰기"
      ]
    },
    {
      "metadata": {
        "id": "z2y4J-hU7B5v",
        "colab_type": "text"
      },
      "cell_type": "markdown",
      "source": [
        "\n",
        "## 일단 학습"
      ]
    },
    {
      "metadata": {
        "id": "XfC7VOGZ0yaM",
        "colab_type": "code",
        "colab": {
          "autoexec": {
            "startup": false,
            "wait_interval": 0
          },
          "base_uri": "https://localhost:8080/",
          "height": 136
        },
        "outputId": "a78a0dc4-3d76-4594-cfeb-cb7e18bfe1bd",
        "executionInfo": {
          "status": "ok",
          "timestamp": 1528385054666,
          "user_tz": -540,
          "elapsed": 10811,
          "user": {
            "displayName": "윤기태",
            "photoUrl": "//lh3.googleusercontent.com/-ghOsS20kdy8/AAAAAAAAAAI/AAAAAAAABHM/QfZOr0OPEVg/s50-c-k-no/photo.jpg",
            "userId": "113616946393842504176"
          }
        }
      },
      "cell_type": "code",
      "source": [
        "from keras.utils import np_utils\n",
        "from keras.datasets import mnist\n",
        "from keras.models import Sequential\n",
        "from keras.layers import Dense, Activation\n",
        "\n",
        "# mnist import\n",
        "(X_train, Y_train), (X_test, Y_test) = mnist.load_data()\n",
        "\n",
        "# 0~1 사이의 값으로 정규화\n",
        "X_train = X_train.reshape(60000, 784).astype('float32') / 255.0\n",
        "X_test = X_test.reshape(10000, 784).astype('float32') / 255.0\n",
        "\n",
        "# 원핫 인코딩\n",
        "Y_train = np_utils.to_categorical(Y_train)\n",
        "Y_test = np_utils.to_categorical(Y_test)\n",
        "\n",
        "model = Sequential()\n",
        "model.add(Dense(units=64, input_dim=28*28, activation='relu'))\n",
        "model.add(Dense(units=10, activation='softmax'))\n",
        "model.compile(loss='categorical_crossentropy', optimizer='sgd', metrics=['accuracy'])\n",
        "hist = model.fit(X_train, Y_train, epochs=2, batch_size=32)\n",
        "\n",
        "loss_and_metrics = model.evaluate(X_test, Y_test, batch_size=32)\n",
        "\n",
        "print('loss_and_metrics : ' + str(loss_and_metrics))"
      ],
      "execution_count": 0,
      "outputs": [
        {
          "output_type": "stream",
          "text": [
            "Using TensorFlow backend.\n"
          ],
          "name": "stderr"
        },
        {
          "output_type": "stream",
          "text": [
            "Epoch 1/2\n",
            "60000/60000 [==============================] - 4s 65us/step - loss: 0.6570 - acc: 0.8324\n",
            "Epoch 2/2\n",
            "60000/60000 [==============================] - 4s 69us/step - loss: 0.3383 - acc: 0.9063\n",
            "10000/10000 [==============================] - 0s 37us/step\n",
            "loss_and_metrics : [0.2929747213661671, 0.9193]\n"
          ],
          "name": "stdout"
        }
      ]
    },
    {
      "metadata": {
        "id": "Eb1Zgs4j7AF7",
        "colab_type": "text"
      },
      "cell_type": "markdown",
      "source": [
        "## 간단한 시각화"
      ]
    },
    {
      "metadata": {
        "id": "WX6eUuQB1SRY",
        "colab_type": "code",
        "colab": {
          "autoexec": {
            "startup": false,
            "wait_interval": 0
          },
          "base_uri": "https://localhost:8080/",
          "height": 435
        },
        "outputId": "8c1f8f90-8d1d-41eb-f7da-0ee57e884276",
        "executionInfo": {
          "status": "ok",
          "timestamp": 1528385060167,
          "user_tz": -540,
          "elapsed": 5460,
          "user": {
            "displayName": "윤기태",
            "photoUrl": "//lh3.googleusercontent.com/-ghOsS20kdy8/AAAAAAAAAAI/AAAAAAAABHM/QfZOr0OPEVg/s50-c-k-no/photo.jpg",
            "userId": "113616946393842504176"
          }
        }
      },
      "cell_type": "code",
      "source": [
        "# 학습된 모델 시각화\n",
        "\n",
        "!pip install pydot\n",
        "!apt-get install graphviz\n",
        "\n",
        "from IPython.display import SVG\n",
        "from keras.utils.vis_utils import model_to_dot\n",
        "\n",
        "%matplotlib inline\n",
        "\n",
        "SVG(model_to_dot(model, show_shapes=True).create(prog='dot', format='svg'))"
      ],
      "execution_count": 0,
      "outputs": [
        {
          "output_type": "stream",
          "text": [
            "Requirement already satisfied: pydot in /usr/local/lib/python3.6/dist-packages (1.2.4)\r\n",
            "Requirement already satisfied: pyparsing>=2.1.4 in /usr/local/lib/python3.6/dist-packages (from pydot) (2.2.0)\n",
            "Reading package lists... Done\n",
            "Building dependency tree       \n",
            "Reading state information... Done\n",
            "graphviz is already the newest version (2.38.0-16ubuntu2).\n",
            "0 upgraded, 0 newly installed, 0 to remove and 0 not upgraded.\n"
          ],
          "name": "stdout"
        },
        {
          "output_type": "execute_result",
          "data": {
            "text/plain": [
              "<IPython.core.display.SVG object>"
            ],
            "image/svg+xml": "<svg height=\"221pt\" viewBox=\"0.00 0.00 386.00 221.00\" width=\"386pt\" xmlns=\"http://www.w3.org/2000/svg\" xmlns:xlink=\"http://www.w3.org/1999/xlink\">\n<g class=\"graph\" id=\"graph0\" transform=\"scale(1 1) rotate(0) translate(4 217)\">\n<title>G</title>\n<polygon fill=\"white\" points=\"-4,4 -4,-217 382,-217 382,4 -4,4\" stroke=\"none\"/>\n<!-- 140256102981136 -->\n<g class=\"node\" id=\"node1\"><title>140256102981136</title>\n<polygon fill=\"none\" points=\"0,-166.5 0,-212.5 378,-212.5 378,-166.5 0,-166.5\" stroke=\"black\"/>\n<text font-family=\"Times,serif\" font-size=\"14.00\" text-anchor=\"middle\" x=\"104.5\" y=\"-185.8\">dense_1_input: InputLayer</text>\n<polyline fill=\"none\" points=\"209,-166.5 209,-212.5 \" stroke=\"black\"/>\n<text font-family=\"Times,serif\" font-size=\"14.00\" text-anchor=\"middle\" x=\"243\" y=\"-197.3\">input:</text>\n<polyline fill=\"none\" points=\"209,-189.5 277,-189.5 \" stroke=\"black\"/>\n<text font-family=\"Times,serif\" font-size=\"14.00\" text-anchor=\"middle\" x=\"243\" y=\"-174.3\">output:</text>\n<polyline fill=\"none\" points=\"277,-166.5 277,-212.5 \" stroke=\"black\"/>\n<text font-family=\"Times,serif\" font-size=\"14.00\" text-anchor=\"middle\" x=\"327.5\" y=\"-197.3\">(None, 784)</text>\n<polyline fill=\"none\" points=\"277,-189.5 378,-189.5 \" stroke=\"black\"/>\n<text font-family=\"Times,serif\" font-size=\"14.00\" text-anchor=\"middle\" x=\"327.5\" y=\"-174.3\">(None, 784)</text>\n</g>\n<!-- 140256273177736 -->\n<g class=\"node\" id=\"node2\"><title>140256273177736</title>\n<polygon fill=\"none\" points=\"40.5,-83.5 40.5,-129.5 337.5,-129.5 337.5,-83.5 40.5,-83.5\" stroke=\"black\"/>\n<text font-family=\"Times,serif\" font-size=\"14.00\" text-anchor=\"middle\" x=\"104.5\" y=\"-102.8\">dense_1: Dense</text>\n<polyline fill=\"none\" points=\"168.5,-83.5 168.5,-129.5 \" stroke=\"black\"/>\n<text font-family=\"Times,serif\" font-size=\"14.00\" text-anchor=\"middle\" x=\"202.5\" y=\"-114.3\">input:</text>\n<polyline fill=\"none\" points=\"168.5,-106.5 236.5,-106.5 \" stroke=\"black\"/>\n<text font-family=\"Times,serif\" font-size=\"14.00\" text-anchor=\"middle\" x=\"202.5\" y=\"-91.3\">output:</text>\n<polyline fill=\"none\" points=\"236.5,-83.5 236.5,-129.5 \" stroke=\"black\"/>\n<text font-family=\"Times,serif\" font-size=\"14.00\" text-anchor=\"middle\" x=\"287\" y=\"-114.3\">(None, 784)</text>\n<polyline fill=\"none\" points=\"236.5,-106.5 337.5,-106.5 \" stroke=\"black\"/>\n<text font-family=\"Times,serif\" font-size=\"14.00\" text-anchor=\"middle\" x=\"287\" y=\"-91.3\">(None, 64)</text>\n</g>\n<!-- 140256102981136&#45;&gt;140256273177736 -->\n<g class=\"edge\" id=\"edge1\"><title>140256102981136-&gt;140256273177736</title>\n<path d=\"M189,-166.366C189,-158.152 189,-148.658 189,-139.725\" fill=\"none\" stroke=\"black\"/>\n<polygon fill=\"black\" points=\"192.5,-139.607 189,-129.607 185.5,-139.607 192.5,-139.607\" stroke=\"black\"/>\n</g>\n<!-- 140256222321968 -->\n<g class=\"node\" id=\"node3\"><title>140256222321968</title>\n<polygon fill=\"none\" points=\"45,-0.5 45,-46.5 333,-46.5 333,-0.5 45,-0.5\" stroke=\"black\"/>\n<text font-family=\"Times,serif\" font-size=\"14.00\" text-anchor=\"middle\" x=\"109\" y=\"-19.8\">dense_2: Dense</text>\n<polyline fill=\"none\" points=\"173,-0.5 173,-46.5 \" stroke=\"black\"/>\n<text font-family=\"Times,serif\" font-size=\"14.00\" text-anchor=\"middle\" x=\"207\" y=\"-31.3\">input:</text>\n<polyline fill=\"none\" points=\"173,-23.5 241,-23.5 \" stroke=\"black\"/>\n<text font-family=\"Times,serif\" font-size=\"14.00\" text-anchor=\"middle\" x=\"207\" y=\"-8.3\">output:</text>\n<polyline fill=\"none\" points=\"241,-0.5 241,-46.5 \" stroke=\"black\"/>\n<text font-family=\"Times,serif\" font-size=\"14.00\" text-anchor=\"middle\" x=\"287\" y=\"-31.3\">(None, 64)</text>\n<polyline fill=\"none\" points=\"241,-23.5 333,-23.5 \" stroke=\"black\"/>\n<text font-family=\"Times,serif\" font-size=\"14.00\" text-anchor=\"middle\" x=\"287\" y=\"-8.3\">(None, 10)</text>\n</g>\n<!-- 140256273177736&#45;&gt;140256222321968 -->\n<g class=\"edge\" id=\"edge2\"><title>140256273177736-&gt;140256222321968</title>\n<path d=\"M189,-83.3664C189,-75.1516 189,-65.6579 189,-56.7252\" fill=\"none\" stroke=\"black\"/>\n<polygon fill=\"black\" points=\"192.5,-56.6068 189,-46.6068 185.5,-56.6069 192.5,-56.6068\" stroke=\"black\"/>\n</g>\n</g>\n</svg>"
          },
          "metadata": {
            "tags": []
          },
          "execution_count": 2
        }
      ]
    },
    {
      "metadata": {
        "id": "Uf9NgmB71ZIV",
        "colab_type": "code",
        "colab": {
          "autoexec": {
            "startup": false,
            "wait_interval": 0
          }
        }
      },
      "cell_type": "code",
      "source": [
        "# VM local root 경로에 모델파일 저장\n",
        "\n",
        "model.save('mnist_mlp_model.h5')"
      ],
      "execution_count": 0,
      "outputs": []
    },
    {
      "metadata": {
        "id": "gH70eIzW65_o",
        "colab_type": "text"
      },
      "cell_type": "markdown",
      "source": [
        "## 저장이 됐는지 확인"
      ]
    },
    {
      "metadata": {
        "id": "7c7cHqpr4G1G",
        "colab_type": "code",
        "colab": {
          "autoexec": {
            "startup": false,
            "wait_interval": 0
          },
          "base_uri": "https://localhost:8080/",
          "height": 221
        },
        "outputId": "3d5c341f-91fe-4e47-d3fb-ff5f8e213732",
        "executionInfo": {
          "status": "ok",
          "timestamp": 1528385552561,
          "user_tz": -540,
          "elapsed": 2668,
          "user": {
            "displayName": "윤기태",
            "photoUrl": "//lh3.googleusercontent.com/-ghOsS20kdy8/AAAAAAAAAAI/AAAAAAAABHM/QfZOr0OPEVg/s50-c-k-no/photo.jpg",
            "userId": "113616946393842504176"
          }
        }
      },
      "cell_type": "code",
      "source": [
        "!ls -al"
      ],
      "execution_count": 0,
      "outputs": [
        {
          "output_type": "stream",
          "text": [
            "total 460\r\n",
            "drwxr-xr-x 1 root root   4096 Jun  7 15:32 .\r\n",
            "drwxr-xr-x 1 root root   4096 Jun  7 11:54 ..\r\n",
            "drwx------ 4 root root   4096 Jun  7 11:55 .cache\r\n",
            "drwxr-xr-x 3 root root   4096 Jun  7 11:55 .config\r\n",
            "drwxr-xr-x 1 root root   4096 Jun  7 14:55 datalab\r\n",
            "drwxr-xr-x 4 root root   4096 Jun  7 11:55 .forever\r\n",
            "drwxr-xr-x 5 root root   4096 Jun  7 11:55 .ipython\r\n",
            "drwxr-xr-x 3 root root   4096 Jun  7 15:19 .keras\r\n",
            "drwx------ 3 root root   4096 Jun  7 11:55 .local\r\n",
            "-rw-r--r-- 1 root root 428056 Jun  7 15:32 mnist_mlp_model.h5\r\n",
            "-rw------- 1 root root   1024 Jun  7 11:55 .rnd\r\n"
          ],
          "name": "stdout"
        }
      ]
    },
    {
      "metadata": {
        "id": "eOIJqD-D7Foe",
        "colab_type": "text"
      },
      "cell_type": "markdown",
      "source": [
        "## root 경로에 저장된 모델파일을 드라이브의 원하는 폴더에 저장\n",
        "\n"
      ]
    },
    {
      "metadata": {
        "id": "iIKP0iYf4LYK",
        "colab_type": "code",
        "colab": {
          "autoexec": {
            "startup": false,
            "wait_interval": 0
          },
          "base_uri": "https://localhost:8080/",
          "height": 34
        },
        "outputId": "0a643752-62d0-4f27-cbec-aca6df44f09b",
        "executionInfo": {
          "status": "ok",
          "timestamp": 1528391123086,
          "user_tz": -540,
          "elapsed": 2073,
          "user": {
            "displayName": "윤기태",
            "photoUrl": "//lh3.googleusercontent.com/-ghOsS20kdy8/AAAAAAAAAAI/AAAAAAAABHM/QfZOr0OPEVg/s50-c-k-no/photo.jpg",
            "userId": "113616946393842504176"
          }
        }
      },
      "cell_type": "code",
      "source": [
        "# 1. Authenticate and create the PyDrive client.\n",
        "auth.authenticate_user()\n",
        "gauth = GoogleAuth()\n",
        "gauth.credentials = GoogleCredentials.get_application_default()\n",
        "drive = GoogleDrive(gauth)\n",
        "\n",
        "# PyDrive reference:\n",
        "# https://googledrive.github.io/PyDrive/docs/build/html/index.html\n",
        "\n",
        "# 2. Create & upload a file text file.\n",
        "# 특정 폴더 안으로 파일 삽입\n",
        "uploaded = drive.CreateFile({'title': 'mnist_mlp_model.h5', \"parents\": [{\"kind\": \"drive#fileLink\",\"id\": '1MhnuswhW5NCMYJKwUDHBSv9ZpDgypnYE'}]})\n",
        "uploaded.SetContentFile('mnist_mlp_model.h5')\n",
        "uploaded.Upload()\n",
        "print('Uploaded file with ID {}'.format(uploaded.get('id')))\n",
        "\n",
        "# 3. Load a file by ID and print its contents.\n",
        "downloaded = drive.CreateFile({'id': uploaded.get('id')})"
      ],
      "execution_count": 0,
      "outputs": [
        {
          "output_type": "stream",
          "text": [
            "Uploaded file with ID 11RMJNeeZLgUtuuvmyq3LkLBTnTc4vhHh\n"
          ],
          "name": "stdout"
        }
      ]
    },
    {
      "metadata": {
        "id": "b1khIkLE7P3B",
        "colab_type": "text"
      },
      "cell_type": "markdown",
      "source": [
        "## REST API로 드라이브에 있는 모델파일을 BytesIO로 다운로드\n",
        "- 다운로드한 buffer를 tmp 폴더에 파일로 저장"
      ]
    },
    {
      "metadata": {
        "id": "gKBoxwQy59QJ",
        "colab_type": "code",
        "colab": {
          "autoexec": {
            "startup": false,
            "wait_interval": 0
          },
          "base_uri": "https://localhost:8080/",
          "height": 51
        },
        "outputId": "02e4c09b-72fa-4449-d1c4-9dcd33459e3f",
        "executionInfo": {
          "status": "ok",
          "timestamp": 1528391166245,
          "user_tz": -540,
          "elapsed": 1324,
          "user": {
            "displayName": "윤기태",
            "photoUrl": "//lh3.googleusercontent.com/-ghOsS20kdy8/AAAAAAAAAAI/AAAAAAAABHM/QfZOr0OPEVg/s50-c-k-no/photo.jpg",
            "userId": "113616946393842504176"
          }
        }
      },
      "cell_type": "code",
      "source": [
        "from google.colab import auth\n",
        "auth.authenticate_user()\n",
        "\n",
        "from googleapiclient.discovery import build\n",
        "drive_service = build('drive', 'v3')\n",
        "\n",
        "import io\n",
        "from io import BytesIO   \n",
        "from googleapiclient.http import MediaIoBaseDownload\n",
        "\n",
        "request = drive_service.files().get_media(fileId='11RMJNeeZLgUtuuvmyq3LkLBTnTc4vhHh')\n",
        "downloaded = io.BytesIO()\n",
        "downloader = MediaIoBaseDownload(downloaded, request)\n",
        "done = False\n",
        "while done is False:\n",
        "  status, done = downloader.next_chunk()\n",
        "  if status:\n",
        "      print(\"Download %%%d%%.\" % int(status.progress() * 100))\n",
        "  print(\"Download Complete!\")\n",
        "\n",
        "downloaded.seek(0)\n",
        "\n",
        "with open('/tmp/mnist_mlp_model.h5', 'wb') as f:\n",
        "    f.write(downloaded.read())"
      ],
      "execution_count": 0,
      "outputs": [
        {
          "output_type": "stream",
          "text": [
            "Download %100%.\n",
            "Download Complete!\n"
          ],
          "name": "stdout"
        }
      ]
    },
    {
      "metadata": {
        "id": "pS4EF9JBA0gr",
        "colab_type": "text"
      },
      "cell_type": "markdown",
      "source": [
        "## 원하는 경로에 제대로 다운로드 되었는지 확인"
      ]
    },
    {
      "metadata": {
        "id": "AIJrREWk-14z",
        "colab_type": "code",
        "colab": {
          "autoexec": {
            "startup": false,
            "wait_interval": 0
          }
        }
      },
      "cell_type": "code",
      "source": [
        "from keras.models import load_model\n",
        "\n",
        "loaded_model = load_model('/tmp/mnist_mlp_model.h5')"
      ],
      "execution_count": 0,
      "outputs": []
    },
    {
      "metadata": {
        "id": "fYyhhS1kA2z0",
        "colab_type": "text"
      },
      "cell_type": "markdown",
      "source": [
        "## 다운로드한 모델파일을 import하여 predict로 테스트"
      ]
    },
    {
      "metadata": {
        "id": "PUlJQB0W_BZy",
        "colab_type": "code",
        "colab": {
          "autoexec": {
            "startup": false,
            "wait_interval": 0
          },
          "base_uri": "https://localhost:8080/",
          "height": 102
        },
        "outputId": "e36bb790-3c26-4c10-cafc-ccdf0b8dd6a7",
        "executionInfo": {
          "status": "ok",
          "timestamp": 1528387912202,
          "user_tz": -540,
          "elapsed": 906,
          "user": {
            "displayName": "윤기태",
            "photoUrl": "//lh3.googleusercontent.com/-ghOsS20kdy8/AAAAAAAAAAI/AAAAAAAABHM/QfZOr0OPEVg/s50-c-k-no/photo.jpg",
            "userId": "113616946393842504176"
          }
        }
      },
      "cell_type": "code",
      "source": [
        "import numpy as np\n",
        "from numpy import argmax\n",
        "\n",
        "xhat_idx = np.random.choice(X_test.shape[0], 5)\n",
        "xhat = X_test[xhat_idx]\n",
        "yhat = loaded_model.predict_classes(xhat)\n",
        "\n",
        "for i in range(5):\n",
        "    print('True : ' + str(argmax(Y_test[xhat_idx[i]])) + ', Predict : ' + str(yhat[i]))"
      ],
      "execution_count": 0,
      "outputs": [
        {
          "output_type": "stream",
          "text": [
            "True : 6, Predict : 6\n",
            "True : 7, Predict : 7\n",
            "True : 9, Predict : 8\n",
            "True : 1, Predict : 1\n",
            "True : 5, Predict : 5\n"
          ],
          "name": "stdout"
        }
      ]
    },
    {
      "metadata": {
        "id": "g5gY9mSfAOzT",
        "colab_type": "code",
        "colab": {
          "autoexec": {
            "startup": false,
            "wait_interval": 0
          }
        }
      },
      "cell_type": "code",
      "source": [
        ""
      ],
      "execution_count": 0,
      "outputs": []
    }
  ]
}