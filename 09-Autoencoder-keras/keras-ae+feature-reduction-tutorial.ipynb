{
 "cells": [
  {
   "cell_type": "code",
   "execution_count": 24,
   "metadata": {},
   "outputs": [],
   "source": [
    "# -*- coding: utf-8 -*-\n",
    "\n",
    "%matplotlib inline\n",
    "\n",
    "import pandas as pd\n",
    "import numpy as np\n",
    "import matplotlib.pyplot as plt\n",
    "import seaborn as sns\n",
    "\n",
    "import warnings\n",
    "warnings.filterwarnings(\"ignore\")"
   ]
  },
  {
   "cell_type": "markdown",
   "metadata": {},
   "source": [
    "-----"
   ]
  },
  {
   "cell_type": "markdown",
   "metadata": {},
   "source": [
    "# AE (Auto Encoder)"
   ]
  },
  {
   "cell_type": "code",
   "execution_count": 25,
   "metadata": {},
   "outputs": [
    {
     "name": "stdout",
     "output_type": "stream",
     "text": [
      "(60000, 784)\n",
      "(10000, 784)\n"
     ]
    }
   ],
   "source": [
    "from keras.datasets import mnist\n",
    "\n",
    "(x_train, y_train), (x_test, y_test) = mnist.load_data()\n",
    "x_train = x_train.astype('float32') / 255.\n",
    "x_test = x_test.astype('float32') / 255.\n",
    "x_train = x_train.reshape((len(x_train), np.prod(x_train.shape[1:])))\n",
    "x_test = x_test.reshape((len(x_test), np.prod(x_test.shape[1:])))\n",
    "print (x_train.shape)\n",
    "print (x_test.shape)"
   ]
  },
  {
   "cell_type": "code",
   "execution_count": 3,
   "metadata": {},
   "outputs": [],
   "source": [
    "from keras.layers import Input, Dense\n",
    "from keras.models import Model\n",
    "from keras import backend as K\n",
    "\n",
    "# configure\n",
    "encoding_dim = 32\n",
    "input_img = Input(shape=(784,))\n",
    "\n",
    "\n",
    "# layers\n",
    "encoded = Dense(encoding_dim, activation='relu')(input_img)\n",
    "decoded = Dense(784, activation='sigmoid')(encoded)\n",
    "\n",
    "\n",
    "# Models\n",
    "autoencoder = Model(input_img, decoded) # autoencoder\n",
    "\n",
    "encoder = Model(input_img, encoded) # encoder\n",
    "\n",
    "encoded_input = Input(shape=(encoding_dim,))\n",
    "decoder_layer = autoencoder.layers[-1]\n",
    "decoder = Model(encoded_input, decoder_layer(encoded_input)) # decoder"
   ]
  },
  {
   "cell_type": "code",
   "execution_count": 4,
   "metadata": {},
   "outputs": [
    {
     "name": "stdout",
     "output_type": "stream",
     "text": [
      "Train on 60000 samples, validate on 10000 samples\n",
      "Epoch 1/50\n",
      "60000/60000 [==============================] - 2s 35us/step - loss: 0.3601 - rmse: 0.3039 - recall: 0.2390 - val_loss: 0.2703 - val_rmse: 0.2595 - val_recall: 0.2043\n",
      "Epoch 2/50\n",
      "60000/60000 [==============================] - 2s 30us/step - loss: 0.2626 - rmse: 0.2538 - recall: 0.2422 - val_loss: 0.2512 - val_rmse: 0.2460 - val_recall: 0.3215\n",
      "Epoch 3/50\n",
      "60000/60000 [==============================] - 2s 29us/step - loss: 0.2410 - rmse: 0.2373 - recall: 0.3931 - val_loss: 0.2287 - val_rmse: 0.2281 - val_recall: 0.4780\n",
      "Epoch 4/50\n",
      "60000/60000 [==============================] - 2s 30us/step - loss: 0.2205 - rmse: 0.2210 - recall: 0.5166 - val_loss: 0.2101 - val_rmse: 0.2132 - val_recall: 0.5599\n",
      "Epoch 5/50\n",
      "60000/60000 [==============================] - 2s 31us/step - loss: 0.2047 - rmse: 0.2085 - recall: 0.5910 - val_loss: 0.1970 - val_rmse: 0.2027 - val_recall: 0.6182\n",
      "Epoch 6/50\n",
      "60000/60000 [==============================] - 2s 30us/step - loss: 0.1938 - rmse: 0.1998 - recall: 0.6342 - val_loss: 0.1879 - val_rmse: 0.1953 - val_recall: 0.6453\n",
      "Epoch 7/50\n",
      "60000/60000 [==============================] - 2s 30us/step - loss: 0.1856 - rmse: 0.1931 - recall: 0.6626 - val_loss: 0.1806 - val_rmse: 0.1891 - val_recall: 0.6737\n",
      "Epoch 8/50\n",
      "60000/60000 [==============================] - 2s 31us/step - loss: 0.1790 - rmse: 0.1874 - recall: 0.6840 - val_loss: 0.1745 - val_rmse: 0.1838 - val_recall: 0.6990\n",
      "Epoch 9/50\n",
      "60000/60000 [==============================] - 2s 32us/step - loss: 0.1734 - rmse: 0.1826 - recall: 0.7013 - val_loss: 0.1695 - val_rmse: 0.1794 - val_recall: 0.7007\n",
      "Epoch 10/50\n",
      "60000/60000 [==============================] - 2s 31us/step - loss: 0.1684 - rmse: 0.1781 - recall: 0.7153 - val_loss: 0.1647 - val_rmse: 0.1751 - val_recall: 0.7153\n",
      "Epoch 11/50\n",
      "60000/60000 [==============================] - 2s 30us/step - loss: 0.1639 - rmse: 0.1740 - recall: 0.7278 - val_loss: 0.1602 - val_rmse: 0.1709 - val_recall: 0.7391\n",
      "Epoch 12/50\n",
      "60000/60000 [==============================] - 2s 31us/step - loss: 0.1596 - rmse: 0.1699 - recall: 0.7396 - val_loss: 0.1561 - val_rmse: 0.1669 - val_recall: 0.7427\n",
      "Epoch 13/50\n",
      "60000/60000 [==============================] - 2s 31us/step - loss: 0.1556 - rmse: 0.1661 - recall: 0.7500 - val_loss: 0.1522 - val_rmse: 0.1631 - val_recall: 0.7518\n",
      "Epoch 14/50\n",
      "60000/60000 [==============================] - 2s 30us/step - loss: 0.1518 - rmse: 0.1624 - recall: 0.7594 - val_loss: 0.1486 - val_rmse: 0.1595 - val_recall: 0.7634\n",
      "Epoch 15/50\n",
      "60000/60000 [==============================] - 2s 30us/step - loss: 0.1483 - rmse: 0.1589 - recall: 0.7678 - val_loss: 0.1451 - val_rmse: 0.1561 - val_recall: 0.7753\n",
      "Epoch 16/50\n",
      "60000/60000 [==============================] - 2s 32us/step - loss: 0.1451 - rmse: 0.1557 - recall: 0.7756 - val_loss: 0.1421 - val_rmse: 0.1530 - val_recall: 0.7777\n",
      "Epoch 17/50\n",
      "60000/60000 [==============================] - 2s 30us/step - loss: 0.1421 - rmse: 0.1527 - recall: 0.7824 - val_loss: 0.1392 - val_rmse: 0.1502 - val_recall: 0.7815\n",
      "Epoch 18/50\n",
      "60000/60000 [==============================] - 2s 30us/step - loss: 0.1393 - rmse: 0.1499 - recall: 0.7884 - val_loss: 0.1367 - val_rmse: 0.1476 - val_recall: 0.7841\n",
      "Epoch 19/50\n",
      "60000/60000 [==============================] - 2s 30us/step - loss: 0.1368 - rmse: 0.1473 - recall: 0.7937 - val_loss: 0.1342 - val_rmse: 0.1450 - val_recall: 0.7908\n",
      "Epoch 20/50\n",
      "60000/60000 [==============================] - 2s 30us/step - loss: 0.1345 - rmse: 0.1449 - recall: 0.7985 - val_loss: 0.1319 - val_rmse: 0.1426 - val_recall: 0.7965\n",
      "Epoch 21/50\n",
      "60000/60000 [==============================] - 2s 31us/step - loss: 0.1323 - rmse: 0.1426 - recall: 0.8028 - val_loss: 0.1297 - val_rmse: 0.1403 - val_recall: 0.8038\n",
      "Epoch 22/50\n",
      "60000/60000 [==============================] - 2s 30us/step - loss: 0.1302 - rmse: 0.1405 - recall: 0.8065 - val_loss: 0.1277 - val_rmse: 0.1381 - val_recall: 0.8124\n",
      "Epoch 23/50\n",
      "60000/60000 [==============================] - 2s 30us/step - loss: 0.1283 - rmse: 0.1384 - recall: 0.8102 - val_loss: 0.1259 - val_rmse: 0.1362 - val_recall: 0.8093\n",
      "Epoch 24/50\n",
      "60000/60000 [==============================] - 2s 31us/step - loss: 0.1265 - rmse: 0.1365 - recall: 0.8132 - val_loss: 0.1241 - val_rmse: 0.1342 - val_recall: 0.8132\n",
      "Epoch 25/50\n",
      "60000/60000 [==============================] - 2s 30us/step - loss: 0.1247 - rmse: 0.1346 - recall: 0.8161 - val_loss: 0.1223 - val_rmse: 0.1323 - val_recall: 0.8191\n",
      "Epoch 26/50\n",
      "60000/60000 [==============================] - 2s 31us/step - loss: 0.1231 - rmse: 0.1328 - recall: 0.8189 - val_loss: 0.1207 - val_rmse: 0.1304 - val_recall: 0.8236\n",
      "Epoch 27/50\n",
      "60000/60000 [==============================] - 2s 31us/step - loss: 0.1215 - rmse: 0.1310 - recall: 0.8215 - val_loss: 0.1192 - val_rmse: 0.1288 - val_recall: 0.8216\n",
      "Epoch 28/50\n",
      "60000/60000 [==============================] - 2s 30us/step - loss: 0.1200 - rmse: 0.1294 - recall: 0.8238 - val_loss: 0.1177 - val_rmse: 0.1271 - val_recall: 0.8275\n",
      "Epoch 29/50\n",
      "60000/60000 [==============================] - 2s 31us/step - loss: 0.1186 - rmse: 0.1278 - recall: 0.8262 - val_loss: 0.1164 - val_rmse: 0.1256 - val_recall: 0.8255\n",
      "Epoch 30/50\n",
      "60000/60000 [==============================] - 2s 31us/step - loss: 0.1173 - rmse: 0.1263 - recall: 0.8281 - val_loss: 0.1151 - val_rmse: 0.1240 - val_recall: 0.8311\n",
      "Epoch 31/50\n",
      "60000/60000 [==============================] - 2s 30us/step - loss: 0.1161 - rmse: 0.1248 - recall: 0.8301 - val_loss: 0.1139 - val_rmse: 0.1226 - val_recall: 0.8340\n",
      "Epoch 32/50\n",
      "60000/60000 [==============================] - 2s 32us/step - loss: 0.1149 - rmse: 0.1235 - recall: 0.8319 - val_loss: 0.1127 - val_rmse: 0.1213 - val_recall: 0.8338\n",
      "Epoch 33/50\n",
      "60000/60000 [==============================] - 2s 31us/step - loss: 0.1138 - rmse: 0.1222 - recall: 0.8335 - val_loss: 0.1117 - val_rmse: 0.1200 - val_recall: 0.8364\n",
      "Epoch 34/50\n",
      "60000/60000 [==============================] - 2s 30us/step - loss: 0.1128 - rmse: 0.1210 - recall: 0.8351 - val_loss: 0.1107 - val_rmse: 0.1189 - val_recall: 0.8356\n",
      "Epoch 35/50\n",
      "60000/60000 [==============================] - 2s 31us/step - loss: 0.1118 - rmse: 0.1198 - recall: 0.8365 - val_loss: 0.1097 - val_rmse: 0.1177 - val_recall: 0.8407\n",
      "Epoch 36/50\n",
      "60000/60000 [==============================] - 2s 31us/step - loss: 0.1109 - rmse: 0.1188 - recall: 0.8379 - val_loss: 0.1089 - val_rmse: 0.1166 - val_recall: 0.8448\n",
      "Epoch 37/50\n",
      "60000/60000 [==============================] - 2s 33us/step - loss: 0.1101 - rmse: 0.1178 - recall: 0.8393 - val_loss: 0.1081 - val_rmse: 0.1157 - val_recall: 0.8445\n",
      "Epoch 38/50\n",
      "60000/60000 [==============================] - 2s 33us/step - loss: 0.1093 - rmse: 0.1169 - recall: 0.8406 - val_loss: 0.1073 - val_rmse: 0.1148 - val_recall: 0.8447\n",
      "Epoch 39/50\n",
      "60000/60000 [==============================] - 2s 31us/step - loss: 0.1086 - rmse: 0.1160 - recall: 0.8416 - val_loss: 0.1066 - val_rmse: 0.1138 - val_recall: 0.8491\n",
      "Epoch 40/50\n",
      "60000/60000 [==============================] - 2s 33us/step - loss: 0.1079 - rmse: 0.1152 - recall: 0.8430 - val_loss: 0.1060 - val_rmse: 0.1131 - val_recall: 0.8485\n",
      "Epoch 41/50\n",
      "60000/60000 [==============================] - 2s 31us/step - loss: 0.1073 - rmse: 0.1144 - recall: 0.8440 - val_loss: 0.1054 - val_rmse: 0.1123 - val_recall: 0.8481\n",
      "Epoch 42/50\n",
      "60000/60000 [==============================] - 2s 31us/step - loss: 0.1067 - rmse: 0.1137 - recall: 0.8450 - val_loss: 0.1048 - val_rmse: 0.1116 - val_recall: 0.8508\n",
      "Epoch 43/50\n",
      "60000/60000 [==============================] - 2s 31us/step - loss: 0.1062 - rmse: 0.1130 - recall: 0.8461 - val_loss: 0.1043 - val_rmse: 0.1110 - val_recall: 0.8502\n",
      "Epoch 44/50\n",
      "60000/60000 [==============================] - 2s 31us/step - loss: 0.1056 - rmse: 0.1123 - recall: 0.8471 - val_loss: 0.1038 - val_rmse: 0.1102 - val_recall: 0.8541\n",
      "Epoch 45/50\n",
      "60000/60000 [==============================] - 2s 33us/step - loss: 0.1051 - rmse: 0.1117 - recall: 0.8481 - val_loss: 0.1033 - val_rmse: 0.1097 - val_recall: 0.8517\n",
      "Epoch 46/50\n",
      "60000/60000 [==============================] - 2s 32us/step - loss: 0.1047 - rmse: 0.1111 - recall: 0.8491 - val_loss: 0.1028 - val_rmse: 0.1091 - val_recall: 0.8520\n"
     ]
    },
    {
     "name": "stdout",
     "output_type": "stream",
     "text": [
      "Epoch 47/50\n",
      "60000/60000 [==============================] - 2s 31us/step - loss: 0.1042 - rmse: 0.1106 - recall: 0.8499 - val_loss: 0.1024 - val_rmse: 0.1085 - val_recall: 0.8551\n",
      "Epoch 48/50\n",
      "60000/60000 [==============================] - 2s 31us/step - loss: 0.1038 - rmse: 0.1100 - recall: 0.8509 - val_loss: 0.1020 - val_rmse: 0.1081 - val_recall: 0.8541\n",
      "Epoch 49/50\n",
      "60000/60000 [==============================] - 2s 32us/step - loss: 0.1034 - rmse: 0.1095 - recall: 0.8517 - val_loss: 0.1016 - val_rmse: 0.1075 - val_recall: 0.8561\n",
      "Epoch 50/50\n",
      "60000/60000 [==============================] - 2s 31us/step - loss: 0.1030 - rmse: 0.1091 - recall: 0.8525 - val_loss: 0.1012 - val_rmse: 0.1070 - val_recall: 0.8609\n"
     ]
    }
   ],
   "source": [
    "def rmse(y_true, y_pred):\n",
    "    return K.sqrt(K.mean(K.square(y_pred - y_true), axis=-1))\n",
    "\n",
    "def recall(y_true, y_pred):\n",
    "    y_true_yn = K.round(K.clip(y_true, 0, 1))\n",
    "    y_pred_yn = K.round(K.clip(y_pred, 0, 1))\n",
    "\n",
    "    count_true_positive = K.sum(y_true_yn * y_pred_yn)\n",
    "    count_true_positive_false_negative = K.sum(y_true_yn)\n",
    "    recall = count_true_positive / (count_true_positive_false_negative + K.epsilon())\n",
    "    return recall\n",
    "\n",
    "\n",
    "# train autoencoder\n",
    "autoencoder.compile(optimizer='adadelta', loss='binary_crossentropy', metrics=[rmse, recall])\n",
    "autoencoder.fit(x_train, x_train,\n",
    "                epochs=50,\n",
    "                batch_size=256,\n",
    "                shuffle=True,\n",
    "                validation_data=(x_test, x_test))\n",
    "\n",
    "\n",
    "# encoding result\n",
    "encoded_imgs = encoder.predict(x_test)\n",
    "decoded_imgs = decoder.predict(encoded_imgs)"
   ]
  },
  {
   "cell_type": "code",
   "execution_count": 5,
   "metadata": {},
   "outputs": [],
   "source": [
    "np.set_printoptions(suppress=True)"
   ]
  },
  {
   "cell_type": "code",
   "execution_count": 6,
   "metadata": {},
   "outputs": [
    {
     "data": {
      "text/plain": [
       "(10000, 32)"
      ]
     },
     "execution_count": 6,
     "metadata": {},
     "output_type": "execute_result"
    }
   ],
   "source": [
    "encoded_imgs.shape"
   ]
  },
  {
   "cell_type": "code",
   "execution_count": 7,
   "metadata": {},
   "outputs": [
    {
     "data": {
      "text/plain": [
       "array([[ 6.3763433 , 10.697407  ,  6.32076   , ...,  1.0930234 ,\n",
       "         4.918487  ,  0.96055055],\n",
       "       [10.730854  ,  4.0360937 , 11.519238  , ...,  2.345777  ,\n",
       "         6.7017703 ,  8.453162  ],\n",
       "       [ 0.11287993,  1.6944015 ,  6.056198  , ...,  2.642245  ,\n",
       "         1.2720426 ,  2.938009  ],\n",
       "       ...,\n",
       "       [ 9.286157  ,  4.192349  , 15.971061  , ...,  7.5206766 ,\n",
       "         9.507512  ,  4.18503   ],\n",
       "       [ 9.254978  ,  0.        , 10.685984  , ...,  2.9746552 ,\n",
       "         8.3398485 ,  3.0615594 ],\n",
       "       [ 9.218382  ,  6.188239  , 18.660156  , ...,  9.215693  ,\n",
       "        13.732598  , 18.18651   ]], dtype=float32)"
      ]
     },
     "execution_count": 7,
     "metadata": {},
     "output_type": "execute_result"
    }
   ],
   "source": [
    "encoded_imgs"
   ]
  },
  {
   "cell_type": "code",
   "execution_count": 8,
   "metadata": {},
   "outputs": [
    {
     "data": {
      "text/plain": [
       "array([[0.00003127, 0.0000094 , 0.00001687, ..., 0.00002388, 0.00000471,\n",
       "        0.00001549],\n",
       "       [0.00000545, 0.00000814, 0.00004065, ..., 0.00006705, 0.00001795,\n",
       "        0.00001101],\n",
       "       [0.00021891, 0.00011071, 0.00018751, ..., 0.00011635, 0.00006125,\n",
       "        0.00013148],\n",
       "       ...,\n",
       "       [0.00000003, 0.00000001, 0.00000001, ..., 0.00000001, 0.00000001,\n",
       "        0.00000001],\n",
       "       [0.00000085, 0.00000016, 0.00000244, ..., 0.00000174, 0.00000092,\n",
       "        0.00000097],\n",
       "       [0.        , 0.        , 0.00000026, ..., 0.00000004, 0.00000004,\n",
       "        0.        ]], dtype=float32)"
      ]
     },
     "execution_count": 8,
     "metadata": {},
     "output_type": "execute_result"
    }
   ],
   "source": [
    "decoded_imgs"
   ]
  },
  {
   "cell_type": "code",
   "execution_count": 9,
   "metadata": {},
   "outputs": [
    {
     "data": {
      "image/png": "[encoded data removed]",
      "text/plain": [
       "<Figure size 1440x288 with 20 Axes>"
      ]
     },
     "metadata": {
      "needs_background": "light"
     },
     "output_type": "display_data"
    }
   ],
   "source": [
    "n = 10\n",
    "plt.figure(figsize=(20, 4))\n",
    "for i in range(n):\n",
    "    ax = plt.subplot(2, n, i + 1)\n",
    "    plt.imshow(x_test[i].reshape(28, 28))\n",
    "    plt.gray()\n",
    "    ax.get_xaxis().set_visible(False)\n",
    "    ax.get_yaxis().set_visible(False)\n",
    "\n",
    "    ax = plt.subplot(2, n, i + 1 + n)\n",
    "    plt.imshow(decoded_imgs[i].reshape(28, 28))\n",
    "    plt.gray()\n",
    "    ax.get_xaxis().set_visible(False)\n",
    "    ax.get_yaxis().set_visible(False)\n",
    "plt.show()"
   ]
  },
  {
   "cell_type": "code",
   "execution_count": 10,
   "metadata": {},
   "outputs": [
    {
     "data": {
      "text/plain": [
       "(10000, 32)"
      ]
     },
     "execution_count": 10,
     "metadata": {},
     "output_type": "execute_result"
    }
   ],
   "source": [
    "encoded_imgs.shape"
   ]
  },
  {
   "cell_type": "markdown",
   "metadata": {},
   "source": [
    "-----"
   ]
  },
  {
   "cell_type": "markdown",
   "metadata": {},
   "source": [
    "# Projected vector (feature reduction test)"
   ]
  },
  {
   "cell_type": "code",
   "execution_count": 11,
   "metadata": {},
   "outputs": [],
   "source": [
    "feature_cols=['x0', 'x1', 'x2', 'x3', 'x4', 'x5', \n",
    "              'x6', 'x7', 'x8', 'x9', 'x10', 'x11', \n",
    "              'x12', 'x13', 'x14', 'x15', 'x16', 'x17', \n",
    "              'x18', 'x19', 'x20', 'x21', 'x22', 'x23', \n",
    "              'x24', 'x25', 'x26', 'x27', 'x28', 'x29', 'x30', 'x31']\n",
    "df = pd.DataFrame(encoded_imgs, columns=feature_cols)"
   ]
  },
  {
   "cell_type": "code",
   "execution_count": 12,
   "metadata": {},
   "outputs": [
    {
     "name": "stdout",
     "output_type": "stream",
     "text": [
      "k: 1 | cost: 4758724.5801922325\n",
      "k: 2 | cost: 3816152.5562725374\n",
      "k: 3 | cost: 3557510.4202446467\n",
      "k: 4 | cost: 3345392.245199546\n",
      "k: 5 | cost: 3206985.177979756\n",
      "k: 6 | cost: 3079228.072029741\n",
      "k: 7 | cost: 2965349.784726162\n",
      "k: 8 | cost: 2885292.093935602\n",
      "k: 9 | cost: 2814794.611192748\n",
      "k: 10 | cost: 2750466.9586672634\n",
      "k: 11 | cost: 2686893.7413742524\n",
      "k: 12 | cost: 2630499.212320446\n",
      "k: 13 | cost: 2570749.053694904\n",
      "k: 14 | cost: 2522300.11913658\n"
     ]
    },
    {
     "data": {
      "text/plain": [
       "[<matplotlib.lines.Line2D at 0x13a6edef0>]"
      ]
     },
     "execution_count": 12,
     "metadata": {},
     "output_type": "execute_result"
    },
    {
     "data": {
      "image/png": "[encoded data removed]",
      "text/plain": [
       "<Figure size 432x288 with 1 Axes>"
      ]
     },
     "metadata": {
      "needs_background": "light"
     },
     "output_type": "display_data"
    }
   ],
   "source": [
    "from sklearn.cluster import KMeans\n",
    "\n",
    "X = df\n",
    "\n",
    "k_list = []\n",
    "cost_list = []\n",
    "for k in range (1, 15):\n",
    "    kmeans = KMeans(n_clusters=k).fit(X)\n",
    "    interia = kmeans.inertia_\n",
    "    print (\"k:\", k, \"| cost:\", interia)\n",
    "    k_list.append(k)\n",
    "    cost_list.append(interia)\n",
    "    \n",
    "plt.plot(k_list, cost_list)"
   ]
  },
  {
   "cell_type": "code",
   "execution_count": 15,
   "metadata": {},
   "outputs": [],
   "source": [
    "from sklearn.manifold import TSNE\n",
    "\n",
    "model = TSNE(learning_rate=300)\n",
    "transformed = model.fit_transform(X)\n",
    "\n",
    "xs = transformed[:,0]\n",
    "ys = transformed[:,1]\n",
    "plt.scatter(xs,ys)\n",
    "plt.show()"
   ]
  },
  {
   "cell_type": "markdown",
   "metadata": {},
   "source": [
    "-----"
   ]
  },
  {
   "cell_type": "markdown",
   "metadata": {},
   "source": [
    "# Classification using reducted feature"
   ]
  },
  {
   "cell_type": "code",
   "execution_count": 32,
   "metadata": {},
   "outputs": [],
   "source": [
    "from keras.models import Sequential\n",
    "from keras.layers import Dense\n",
    "from keras import layers\n",
    "from keras.utils import np_utils\n",
    "import keras\n",
    "\n",
    "y_train = np_utils.to_categorical(y_train)\n",
    "y_test = np_utils.to_categorical(y_test)\n",
    "\n",
    "reducted_x_train = encoder.predict(x_train)\n",
    "reducted_x_test = encoder.predict(x_test)"
   ]
  },
  {
   "cell_type": "code",
   "execution_count": 33,
   "metadata": {},
   "outputs": [],
   "source": [
    "model=Sequential()\n",
    "model.add(Dense(64, activation='relu', input_dim=encoding_dim))\n",
    "model.add(layers.Dropout(0.2))\n",
    "model.add(Dense(32, activation='relu'))\n",
    "model.add(layers.Dropout(0.2))\n",
    "model.add(Dense(10, activation='softmax'))\n",
    "model.compile(loss='categorical_crossentropy', optimizer='adam', metrics=['accuracy'])"
   ]
  },
  {
   "cell_type": "code",
   "execution_count": 34,
   "metadata": {},
   "outputs": [
    {
     "name": "stdout",
     "output_type": "stream",
     "text": [
      "Train on 48000 samples, validate on 12000 samples\n",
      "Epoch 1/10\n",
      "48000/48000 [==============================] - 1s 25us/step - loss: 1.3601 - acc: 0.5836 - val_loss: 0.4691 - val_acc: 0.8634\n",
      "Epoch 2/10\n",
      "48000/48000 [==============================] - 1s 17us/step - loss: 0.6316 - acc: 0.7998 - val_loss: 0.3434 - val_acc: 0.8994\n",
      "Epoch 3/10\n",
      "48000/48000 [==============================] - 1s 15us/step - loss: 0.5076 - acc: 0.8419 - val_loss: 0.2789 - val_acc: 0.9142\n",
      "Epoch 4/10\n",
      "48000/48000 [==============================] - 1s 16us/step - loss: 0.4422 - acc: 0.8626 - val_loss: 0.2475 - val_acc: 0.9253\n",
      "Epoch 5/10\n",
      "48000/48000 [==============================] - 1s 15us/step - loss: 0.4038 - acc: 0.8777 - val_loss: 0.2302 - val_acc: 0.9323\n",
      "Epoch 6/10\n",
      "48000/48000 [==============================] - 1s 15us/step - loss: 0.3703 - acc: 0.8868 - val_loss: 0.2115 - val_acc: 0.9371\n",
      "Epoch 7/10\n",
      "48000/48000 [==============================] - 1s 16us/step - loss: 0.3475 - acc: 0.8932 - val_loss: 0.1963 - val_acc: 0.9395\n",
      "Epoch 8/10\n",
      "48000/48000 [==============================] - 1s 16us/step - loss: 0.3268 - acc: 0.9009 - val_loss: 0.1923 - val_acc: 0.9411\n",
      "Epoch 9/10\n",
      "48000/48000 [==============================] - 1s 16us/step - loss: 0.3108 - acc: 0.9033 - val_loss: 0.1849 - val_acc: 0.9448\n",
      "Epoch 10/10\n",
      "48000/48000 [==============================] - 1s 16us/step - loss: 0.3034 - acc: 0.9075 - val_loss: 0.1765 - val_acc: 0.9443\n",
      "10000/10000 [==============================] - 0s 5us/step\n",
      "Test Loss and Accuracy -> [0.17936846714699642, 0.9452000051736832]\n"
     ]
    }
   ],
   "source": [
    "history = model.fit(reducted_x_train, y_train, epochs=10, batch_size=100, validation_split=0.2)\n",
    "performance_test = model.evaluate(reducted_x_test, y_test, batch_size=100)\n",
    "print('Test Loss and Accuracy ->', performance_test)"
   ]
  },
  {
   "cell_type": "code",
   "execution_count": null,
   "metadata": {},
   "outputs": [],
   "source": []
  }
 ],
 "metadata": {
  "kernelspec": {
   "display_name": "Python 3",
   "language": "python",
   "name": "python3"
  },
  "language_info": {
   "codemirror_mode": {
    "name": "ipython",
    "version": 3
   },
   "file_extension": ".py",
   "mimetype": "text/x-python",
   "name": "python",
   "nbconvert_exporter": "python",
   "pygments_lexer": "ipython3",
   "version": "3.7.2"
  },
  "toc": {
   "base_numbering": 1,
   "nav_menu": {},
   "number_sections": true,
   "sideBar": true,
   "skip_h1_title": false,
   "title_cell": "Table of Contents",
   "title_sidebar": "Contents",
   "toc_cell": false,
   "toc_position": {},
   "toc_section_display": true,
   "toc_window_display": false
  }
 },
 "nbformat": 4,
 "nbformat_minor": 2
}
