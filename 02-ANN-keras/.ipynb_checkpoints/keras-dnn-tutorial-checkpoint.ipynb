{
 "cells": [
  {
   "cell_type": "markdown",
   "metadata": {},
   "source": [
    "-----"
   ]
  },
  {
   "cell_type": "markdown",
   "metadata": {},
   "source": [
    "### DNN의 기본 구성과 레이어 학습과정\n",
    "- mnist 데이터(binary image) 학습모델"
   ]
  },
  {
   "cell_type": "code",
   "execution_count": 46,
   "metadata": {},
   "outputs": [
    {
     "name": "stdout",
     "output_type": "stream",
     "text": [
      "60000\n",
      "28\n",
      "28\n"
     ]
    }
   ],
   "source": [
    "from keras.models import Sequential\n",
    "from keras.layers import Dense\n",
    "from keras import layers\n",
    "import numpy as np\n",
    "from keras import datasets\n",
    "from keras.utils import np_utils\n",
    "import keras\n",
    "\n",
    "(X_train, y_train), (X_test, y_test) = datasets.mnist.load_data()\n",
    "y_train = np_utils.to_categorical(y_train)\n",
    "y_test = np_utils.to_categorical(y_test)\n",
    "L,W,H = X_train.shape\n",
    "print(L) # data length\n",
    "print(W) # image W\n",
    "print(H) # image H\n",
    "\n",
    "X_train = X_train.reshape(-1,W*H)\n",
    "X_test = X_test.reshape(-1, W*H)\n",
    "X_train = X_train / 255.0\n",
    "X_test = X_test / 255.0"
   ]
  },
  {
   "cell_type": "code",
   "execution_count": 17,
   "metadata": {},
   "outputs": [],
   "source": [
    "model=Sequential()\n",
    "model.add(Dense(64, activation='relu', input_dim=W*H))\n",
    "model.add(layers.Dropout(0.2)) # keras 에서 dropout의 의미 : 20%의 node를 drop하여 학습.\n",
    "model.add(Dense(32, activation='relu'))\n",
    "model.add(layers.Dropout(0.2))\n",
    "model.add(Dense(10, activation='softmax'))\n",
    "model.compile(loss='categorical_crossentropy', optimizer='adam', metrics=['accuracy'])"
   ]
  },
  {
   "cell_type": "code",
   "execution_count": 18,
   "metadata": {},
   "outputs": [
    {
     "name": "stdout",
     "output_type": "stream",
     "text": [
      "Train on 48000 samples, validate on 12000 samples\n",
      "Epoch 1/10\n",
      "48000/48000 [==============================] - 2s 41us/step - loss: 0.6561 - acc: 0.7962 - val_loss: 0.2418 - val_acc: 0.9299\n",
      "Epoch 2/10\n",
      "48000/48000 [==============================] - 2s 33us/step - loss: 0.3131 - acc: 0.9079 - val_loss: 0.1717 - val_acc: 0.9509\n",
      "Epoch 3/10\n",
      "48000/48000 [==============================] - 2s 35us/step - loss: 0.2475 - acc: 0.9273 - val_loss: 0.1483 - val_acc: 0.9572\n",
      "Epoch 4/10\n",
      "48000/48000 [==============================] - 2s 35us/step - loss: 0.2131 - acc: 0.9370 - val_loss: 0.1357 - val_acc: 0.9617\n",
      "Epoch 5/10\n",
      "48000/48000 [==============================] - 2s 36us/step - loss: 0.1884 - acc: 0.9439 - val_loss: 0.1207 - val_acc: 0.9665\n",
      "Epoch 6/10\n",
      "48000/48000 [==============================] - 2s 38us/step - loss: 0.1679 - acc: 0.9498 - val_loss: 0.1153 - val_acc: 0.9676\n",
      "Epoch 7/10\n",
      "48000/48000 [==============================] - 2s 35us/step - loss: 0.1590 - acc: 0.9526 - val_loss: 0.1178 - val_acc: 0.9656\n",
      "Epoch 8/10\n",
      "48000/48000 [==============================] - 2s 35us/step - loss: 0.1484 - acc: 0.9555 - val_loss: 0.1052 - val_acc: 0.9689\n",
      "Epoch 9/10\n",
      "48000/48000 [==============================] - 2s 37us/step - loss: 0.1427 - acc: 0.9568 - val_loss: 0.1068 - val_acc: 0.9688\n",
      "Epoch 10/10\n",
      "48000/48000 [==============================] - 2s 35us/step - loss: 0.1341 - acc: 0.9591 - val_loss: 0.1044 - val_acc: 0.9693\n",
      "10000/10000 [==============================] - 0s 16us/step\n",
      "Test Loss and Accuracy -> [0.10149011807574425, 0.9708000034093857]\n"
     ]
    }
   ],
   "source": [
    "history = model.fit(X_train, y_train, epochs=10, batch_size=100, validation_split=0.2)\n",
    "performance_test = model.evaluate(X_test, y_test, batch_size=100)\n",
    "print('Test Loss and Accuracy ->', performance_test)"
   ]
  },
  {
   "cell_type": "markdown",
   "metadata": {},
   "source": [
    "validation set : train - test 만 가지고 모델링을 학습하고 평가하면, overfitting에 대한 검증이 어렵고 overfitting이 일어날 확률도 높음. 적은 데이터셋인 경우엔 cross validation을 가지고 이를 극복하지만, 데이터가 큰 경우는 val set으로 test 전의 모델의 대략적인 성능을 가늠하고, test score와 비교하여 overfitting의 여부도 확인해보는 역할을 함.\n",
    "\n",
    "validation set -> epoch 마다 shuffle이 되는 게 아니고, 고정 데이터셋을 분리해서 사용함."
   ]
  },
  {
   "cell_type": "markdown",
   "metadata": {},
   "source": [
    "### color image 학습\n",
    "- cifar-10 data(3 channel)"
   ]
  },
  {
   "cell_type": "code",
   "execution_count": 52,
   "metadata": {},
   "outputs": [
    {
     "name": "stdout",
     "output_type": "stream",
     "text": [
      "50000\n",
      "32\n",
      "32\n",
      "3\n"
     ]
    }
   ],
   "source": [
    "(X_train, y_train), (X_test, y_test) = datasets.cifar10.load_data()\n",
    "Y_train = np_utils.to_categorical(y_train)\n",
    "Y_test = np_utils.to_categorical(y_test)\n",
    "  \n",
    "L,W,H,C = X_train.shape\n",
    "print(L) # data length\n",
    "print(W) # image W\n",
    "print(H) # image H\n",
    "print(C) # image Channel\n",
    "\n",
    "X_train = X_train.reshape(-1, W*H*C)\n",
    "X_test = X_test.reshape(-1, W*H*C)\n",
    "  \n",
    "X_train = X_train / 255.0\n",
    "X_test = X_test / 255.0"
   ]
  },
  {
   "cell_type": "code",
   "execution_count": 61,
   "metadata": {},
   "outputs": [],
   "source": [
    "model=Sequential()\n",
    "model.add(Dense(128, activation='relu', input_dim=W*H*C))\n",
    "model.add(layers.Dropout(0.15))\n",
    "model.add(Dense(96, activation='relu'))\n",
    "model.add(layers.Dropout(0.3))\n",
    "model.add(Dense(32, activation='relu'))\n",
    "model.add(layers.Dropout(0.3))\n",
    "model.add(Dense(10, activation = 'softmax')) # 최종 class의 개수가 10개이므로, output dense도 10개로 맞춰줌\n",
    "model.compile(loss='categorical_crossentropy', optimizer='adam', metrics=['accuracy'])"
   ]
  },
  {
   "cell_type": "code",
   "execution_count": 62,
   "metadata": {},
   "outputs": [
    {
     "data": {
      "image/svg+xml": [
       "<svg height=\"612pt\" viewBox=\"0.00 0.00 281.92 612.00\" width=\"282pt\" xmlns=\"http://www.w3.org/2000/svg\" xmlns:xlink=\"http://www.w3.org/1999/xlink\">\n",
       "<g class=\"graph\" id=\"graph0\" transform=\"scale(1 1) rotate(0) translate(4 608)\">\n",
       "<title>G</title>\n",
       "<polygon fill=\"#ffffff\" points=\"-4,4 -4,-608 277.9209,-608 277.9209,4 -4,4\" stroke=\"transparent\"/>\n",
       "<!-- 103687520096 -->\n",
       "<g class=\"node\" id=\"node1\">\n",
       "<title>103687520096</title>\n",
       "<polygon fill=\"none\" points=\"8.1758,-486.5 8.1758,-530.5 265.7451,-530.5 265.7451,-486.5 8.1758,-486.5\" stroke=\"#000000\"/>\n",
       "<text fill=\"#000000\" font-family=\"Times,serif\" font-size=\"14.00\" text-anchor=\"middle\" x=\"63.8018\" y=\"-504.3\">dense_39: Dense</text>\n",
       "<polyline fill=\"none\" points=\"119.4277,-486.5 119.4277,-530.5 \" stroke=\"#000000\"/>\n",
       "<text fill=\"#000000\" font-family=\"Times,serif\" font-size=\"14.00\" text-anchor=\"middle\" x=\"147.2622\" y=\"-515.3\">input:</text>\n",
       "<polyline fill=\"none\" points=\"119.4277,-508.5 175.0967,-508.5 \" stroke=\"#000000\"/>\n",
       "<text fill=\"#000000\" font-family=\"Times,serif\" font-size=\"14.00\" text-anchor=\"middle\" x=\"147.2622\" y=\"-493.3\">output:</text>\n",
       "<polyline fill=\"none\" points=\"175.0967,-486.5 175.0967,-530.5 \" stroke=\"#000000\"/>\n",
       "<text fill=\"#000000\" font-family=\"Times,serif\" font-size=\"14.00\" text-anchor=\"middle\" x=\"220.4209\" y=\"-515.3\">(None, 3072)</text>\n",
       "<polyline fill=\"none\" points=\"175.0967,-508.5 265.7451,-508.5 \" stroke=\"#000000\"/>\n",
       "<text fill=\"#000000\" font-family=\"Times,serif\" font-size=\"14.00\" text-anchor=\"middle\" x=\"220.4209\" y=\"-493.3\">(None, 128)</text>\n",
       "</g>\n",
       "<!-- 103696898144 -->\n",
       "<g class=\"node\" id=\"node2\">\n",
       "<title>103696898144</title>\n",
       "<polygon fill=\"none\" points=\"0,-405.5 0,-449.5 273.9209,-449.5 273.9209,-405.5 0,-405.5\" stroke=\"#000000\"/>\n",
       "<text fill=\"#000000\" font-family=\"Times,serif\" font-size=\"14.00\" text-anchor=\"middle\" x=\"67.3018\" y=\"-423.3\">dropout_35: Dropout</text>\n",
       "<polyline fill=\"none\" points=\"134.6035,-405.5 134.6035,-449.5 \" stroke=\"#000000\"/>\n",
       "<text fill=\"#000000\" font-family=\"Times,serif\" font-size=\"14.00\" text-anchor=\"middle\" x=\"162.438\" y=\"-434.3\">input:</text>\n",
       "<polyline fill=\"none\" points=\"134.6035,-427.5 190.2725,-427.5 \" stroke=\"#000000\"/>\n",
       "<text fill=\"#000000\" font-family=\"Times,serif\" font-size=\"14.00\" text-anchor=\"middle\" x=\"162.438\" y=\"-412.3\">output:</text>\n",
       "<polyline fill=\"none\" points=\"190.2725,-405.5 190.2725,-449.5 \" stroke=\"#000000\"/>\n",
       "<text fill=\"#000000\" font-family=\"Times,serif\" font-size=\"14.00\" text-anchor=\"middle\" x=\"232.0967\" y=\"-434.3\">(None, 128)</text>\n",
       "<polyline fill=\"none\" points=\"190.2725,-427.5 273.9209,-427.5 \" stroke=\"#000000\"/>\n",
       "<text fill=\"#000000\" font-family=\"Times,serif\" font-size=\"14.00\" text-anchor=\"middle\" x=\"232.0967\" y=\"-412.3\">(None, 128)</text>\n",
       "</g>\n",
       "<!-- 103687520096&#45;&gt;103696898144 -->\n",
       "<g class=\"edge\" id=\"edge2\">\n",
       "<title>103687520096-&gt;103696898144</title>\n",
       "<path d=\"M136.9604,-486.3664C136.9604,-478.1516 136.9604,-468.6579 136.9604,-459.7252\" fill=\"none\" stroke=\"#000000\"/>\n",
       "<polygon fill=\"#000000\" points=\"140.4605,-459.6068 136.9604,-449.6068 133.4605,-459.6069 140.4605,-459.6068\" stroke=\"#000000\"/>\n",
       "</g>\n",
       "<!-- 103696899376 -->\n",
       "<g class=\"node\" id=\"node3\">\n",
       "<title>103696899376</title>\n",
       "<polygon fill=\"none\" points=\"11.6758,-324.5 11.6758,-368.5 262.2451,-368.5 262.2451,-324.5 11.6758,-324.5\" stroke=\"#000000\"/>\n",
       "<text fill=\"#000000\" font-family=\"Times,serif\" font-size=\"14.00\" text-anchor=\"middle\" x=\"67.3018\" y=\"-342.3\">dense_40: Dense</text>\n",
       "<polyline fill=\"none\" points=\"122.9277,-324.5 122.9277,-368.5 \" stroke=\"#000000\"/>\n",
       "<text fill=\"#000000\" font-family=\"Times,serif\" font-size=\"14.00\" text-anchor=\"middle\" x=\"150.7622\" y=\"-353.3\">input:</text>\n",
       "<polyline fill=\"none\" points=\"122.9277,-346.5 178.5967,-346.5 \" stroke=\"#000000\"/>\n",
       "<text fill=\"#000000\" font-family=\"Times,serif\" font-size=\"14.00\" text-anchor=\"middle\" x=\"150.7622\" y=\"-331.3\">output:</text>\n",
       "<polyline fill=\"none\" points=\"178.5967,-324.5 178.5967,-368.5 \" stroke=\"#000000\"/>\n",
       "<text fill=\"#000000\" font-family=\"Times,serif\" font-size=\"14.00\" text-anchor=\"middle\" x=\"220.4209\" y=\"-353.3\">(None, 128)</text>\n",
       "<polyline fill=\"none\" points=\"178.5967,-346.5 262.2451,-346.5 \" stroke=\"#000000\"/>\n",
       "<text fill=\"#000000\" font-family=\"Times,serif\" font-size=\"14.00\" text-anchor=\"middle\" x=\"220.4209\" y=\"-331.3\">(None, 96)</text>\n",
       "</g>\n",
       "<!-- 103696898144&#45;&gt;103696899376 -->\n",
       "<g class=\"edge\" id=\"edge3\">\n",
       "<title>103696898144-&gt;103696899376</title>\n",
       "<path d=\"M136.9604,-405.3664C136.9604,-397.1516 136.9604,-387.6579 136.9604,-378.7252\" fill=\"none\" stroke=\"#000000\"/>\n",
       "<polygon fill=\"#000000\" points=\"140.4605,-378.6068 136.9604,-368.6068 133.4605,-378.6069 140.4605,-378.6068\" stroke=\"#000000\"/>\n",
       "</g>\n",
       "<!-- 103698298472 -->\n",
       "<g class=\"node\" id=\"node4\">\n",
       "<title>103698298472</title>\n",
       "<polygon fill=\"none\" points=\"3.5,-243.5 3.5,-287.5 270.4209,-287.5 270.4209,-243.5 3.5,-243.5\" stroke=\"#000000\"/>\n",
       "<text fill=\"#000000\" font-family=\"Times,serif\" font-size=\"14.00\" text-anchor=\"middle\" x=\"70.8018\" y=\"-261.3\">dropout_36: Dropout</text>\n",
       "<polyline fill=\"none\" points=\"138.1035,-243.5 138.1035,-287.5 \" stroke=\"#000000\"/>\n",
       "<text fill=\"#000000\" font-family=\"Times,serif\" font-size=\"14.00\" text-anchor=\"middle\" x=\"165.938\" y=\"-272.3\">input:</text>\n",
       "<polyline fill=\"none\" points=\"138.1035,-265.5 193.7725,-265.5 \" stroke=\"#000000\"/>\n",
       "<text fill=\"#000000\" font-family=\"Times,serif\" font-size=\"14.00\" text-anchor=\"middle\" x=\"165.938\" y=\"-250.3\">output:</text>\n",
       "<polyline fill=\"none\" points=\"193.7725,-243.5 193.7725,-287.5 \" stroke=\"#000000\"/>\n",
       "<text fill=\"#000000\" font-family=\"Times,serif\" font-size=\"14.00\" text-anchor=\"middle\" x=\"232.0967\" y=\"-272.3\">(None, 96)</text>\n",
       "<polyline fill=\"none\" points=\"193.7725,-265.5 270.4209,-265.5 \" stroke=\"#000000\"/>\n",
       "<text fill=\"#000000\" font-family=\"Times,serif\" font-size=\"14.00\" text-anchor=\"middle\" x=\"232.0967\" y=\"-250.3\">(None, 96)</text>\n",
       "</g>\n",
       "<!-- 103696899376&#45;&gt;103698298472 -->\n",
       "<g class=\"edge\" id=\"edge4\">\n",
       "<title>103696899376-&gt;103698298472</title>\n",
       "<path d=\"M136.9604,-324.3664C136.9604,-316.1516 136.9604,-306.6579 136.9604,-297.7252\" fill=\"none\" stroke=\"#000000\"/>\n",
       "<polygon fill=\"#000000\" points=\"140.4605,-297.6068 136.9604,-287.6068 133.4605,-297.6069 140.4605,-297.6068\" stroke=\"#000000\"/>\n",
       "</g>\n",
       "<!-- 103703450960 -->\n",
       "<g class=\"node\" id=\"node5\">\n",
       "<title>103703450960</title>\n",
       "<polygon fill=\"none\" points=\"15.1758,-162.5 15.1758,-206.5 258.7451,-206.5 258.7451,-162.5 15.1758,-162.5\" stroke=\"#000000\"/>\n",
       "<text fill=\"#000000\" font-family=\"Times,serif\" font-size=\"14.00\" text-anchor=\"middle\" x=\"70.8018\" y=\"-180.3\">dense_41: Dense</text>\n",
       "<polyline fill=\"none\" points=\"126.4277,-162.5 126.4277,-206.5 \" stroke=\"#000000\"/>\n",
       "<text fill=\"#000000\" font-family=\"Times,serif\" font-size=\"14.00\" text-anchor=\"middle\" x=\"154.2622\" y=\"-191.3\">input:</text>\n",
       "<polyline fill=\"none\" points=\"126.4277,-184.5 182.0967,-184.5 \" stroke=\"#000000\"/>\n",
       "<text fill=\"#000000\" font-family=\"Times,serif\" font-size=\"14.00\" text-anchor=\"middle\" x=\"154.2622\" y=\"-169.3\">output:</text>\n",
       "<polyline fill=\"none\" points=\"182.0967,-162.5 182.0967,-206.5 \" stroke=\"#000000\"/>\n",
       "<text fill=\"#000000\" font-family=\"Times,serif\" font-size=\"14.00\" text-anchor=\"middle\" x=\"220.4209\" y=\"-191.3\">(None, 96)</text>\n",
       "<polyline fill=\"none\" points=\"182.0967,-184.5 258.7451,-184.5 \" stroke=\"#000000\"/>\n",
       "<text fill=\"#000000\" font-family=\"Times,serif\" font-size=\"14.00\" text-anchor=\"middle\" x=\"220.4209\" y=\"-169.3\">(None, 32)</text>\n",
       "</g>\n",
       "<!-- 103698298472&#45;&gt;103703450960 -->\n",
       "<g class=\"edge\" id=\"edge5\">\n",
       "<title>103698298472-&gt;103703450960</title>\n",
       "<path d=\"M136.9604,-243.3664C136.9604,-235.1516 136.9604,-225.6579 136.9604,-216.7252\" fill=\"none\" stroke=\"#000000\"/>\n",
       "<polygon fill=\"#000000\" points=\"140.4605,-216.6068 136.9604,-206.6068 133.4605,-216.6069 140.4605,-216.6068\" stroke=\"#000000\"/>\n",
       "</g>\n",
       "<!-- 103758718232 -->\n",
       "<g class=\"node\" id=\"node6\">\n",
       "<title>103758718232</title>\n",
       "<polygon fill=\"none\" points=\"3.5,-81.5 3.5,-125.5 270.4209,-125.5 270.4209,-81.5 3.5,-81.5\" stroke=\"#000000\"/>\n",
       "<text fill=\"#000000\" font-family=\"Times,serif\" font-size=\"14.00\" text-anchor=\"middle\" x=\"70.8018\" y=\"-99.3\">dropout_37: Dropout</text>\n",
       "<polyline fill=\"none\" points=\"138.1035,-81.5 138.1035,-125.5 \" stroke=\"#000000\"/>\n",
       "<text fill=\"#000000\" font-family=\"Times,serif\" font-size=\"14.00\" text-anchor=\"middle\" x=\"165.938\" y=\"-110.3\">input:</text>\n",
       "<polyline fill=\"none\" points=\"138.1035,-103.5 193.7725,-103.5 \" stroke=\"#000000\"/>\n",
       "<text fill=\"#000000\" font-family=\"Times,serif\" font-size=\"14.00\" text-anchor=\"middle\" x=\"165.938\" y=\"-88.3\">output:</text>\n",
       "<polyline fill=\"none\" points=\"193.7725,-81.5 193.7725,-125.5 \" stroke=\"#000000\"/>\n",
       "<text fill=\"#000000\" font-family=\"Times,serif\" font-size=\"14.00\" text-anchor=\"middle\" x=\"232.0967\" y=\"-110.3\">(None, 32)</text>\n",
       "<polyline fill=\"none\" points=\"193.7725,-103.5 270.4209,-103.5 \" stroke=\"#000000\"/>\n",
       "<text fill=\"#000000\" font-family=\"Times,serif\" font-size=\"14.00\" text-anchor=\"middle\" x=\"232.0967\" y=\"-88.3\">(None, 32)</text>\n",
       "</g>\n",
       "<!-- 103703450960&#45;&gt;103758718232 -->\n",
       "<g class=\"edge\" id=\"edge6\">\n",
       "<title>103703450960-&gt;103758718232</title>\n",
       "<path d=\"M136.9604,-162.3664C136.9604,-154.1516 136.9604,-144.6579 136.9604,-135.7252\" fill=\"none\" stroke=\"#000000\"/>\n",
       "<polygon fill=\"#000000\" points=\"140.4605,-135.6068 136.9604,-125.6068 133.4605,-135.6069 140.4605,-135.6068\" stroke=\"#000000\"/>\n",
       "</g>\n",
       "<!-- 103696367288 -->\n",
       "<g class=\"node\" id=\"node7\">\n",
       "<title>103696367288</title>\n",
       "<polygon fill=\"none\" points=\"15.1758,-.5 15.1758,-44.5 258.7451,-44.5 258.7451,-.5 15.1758,-.5\" stroke=\"#000000\"/>\n",
       "<text fill=\"#000000\" font-family=\"Times,serif\" font-size=\"14.00\" text-anchor=\"middle\" x=\"70.8018\" y=\"-18.3\">dense_42: Dense</text>\n",
       "<polyline fill=\"none\" points=\"126.4277,-.5 126.4277,-44.5 \" stroke=\"#000000\"/>\n",
       "<text fill=\"#000000\" font-family=\"Times,serif\" font-size=\"14.00\" text-anchor=\"middle\" x=\"154.2622\" y=\"-29.3\">input:</text>\n",
       "<polyline fill=\"none\" points=\"126.4277,-22.5 182.0967,-22.5 \" stroke=\"#000000\"/>\n",
       "<text fill=\"#000000\" font-family=\"Times,serif\" font-size=\"14.00\" text-anchor=\"middle\" x=\"154.2622\" y=\"-7.3\">output:</text>\n",
       "<polyline fill=\"none\" points=\"182.0967,-.5 182.0967,-44.5 \" stroke=\"#000000\"/>\n",
       "<text fill=\"#000000\" font-family=\"Times,serif\" font-size=\"14.00\" text-anchor=\"middle\" x=\"220.4209\" y=\"-29.3\">(None, 32)</text>\n",
       "<polyline fill=\"none\" points=\"182.0967,-22.5 258.7451,-22.5 \" stroke=\"#000000\"/>\n",
       "<text fill=\"#000000\" font-family=\"Times,serif\" font-size=\"14.00\" text-anchor=\"middle\" x=\"220.4209\" y=\"-7.3\">(None, 10)</text>\n",
       "</g>\n",
       "<!-- 103758718232&#45;&gt;103696367288 -->\n",
       "<g class=\"edge\" id=\"edge7\">\n",
       "<title>103758718232-&gt;103696367288</title>\n",
       "<path d=\"M136.9604,-81.3664C136.9604,-73.1516 136.9604,-63.6579 136.9604,-54.7252\" fill=\"none\" stroke=\"#000000\"/>\n",
       "<polygon fill=\"#000000\" points=\"140.4605,-54.6068 136.9604,-44.6068 133.4605,-54.6069 140.4605,-54.6068\" stroke=\"#000000\"/>\n",
       "</g>\n",
       "<!-- 103758719296 -->\n",
       "<g class=\"node\" id=\"node8\">\n",
       "<title>103758719296</title>\n",
       "<polygon fill=\"none\" points=\"86.9604,-567.5 86.9604,-603.5 186.9604,-603.5 186.9604,-567.5 86.9604,-567.5\" stroke=\"#000000\"/>\n",
       "<text fill=\"#000000\" font-family=\"Times,serif\" font-size=\"14.00\" text-anchor=\"middle\" x=\"136.9604\" y=\"-581.3\">103758719296</text>\n",
       "</g>\n",
       "<!-- 103758719296&#45;&gt;103687520096 -->\n",
       "<g class=\"edge\" id=\"edge1\">\n",
       "<title>103758719296-&gt;103687520096</title>\n",
       "<path d=\"M136.9604,-567.2521C136.9604,-559.3888 136.9604,-549.9498 136.9604,-540.9612\" fill=\"none\" stroke=\"#000000\"/>\n",
       "<polygon fill=\"#000000\" points=\"140.4605,-540.7376 136.9604,-530.7377 133.4605,-540.7377 140.4605,-540.7376\" stroke=\"#000000\"/>\n",
       "</g>\n",
       "</g>\n",
       "</svg>"
      ],
      "text/plain": [
       "<IPython.core.display.SVG object>"
      ]
     },
     "execution_count": 62,
     "metadata": {},
     "output_type": "execute_result"
    }
   ],
   "source": [
    "from IPython.display import SVG\n",
    "from keras.utils.vis_utils import model_to_dot\n",
    "\n",
    "%matplotlib inline\n",
    "\n",
    "SVG(model_to_dot(model, show_shapes=True).create(prog='dot', format='svg'))"
   ]
  },
  {
   "cell_type": "code",
   "execution_count": 63,
   "metadata": {},
   "outputs": [
    {
     "name": "stdout",
     "output_type": "stream",
     "text": [
      "Train on 40000 samples, validate on 10000 samples\n",
      "Epoch 1/50\n",
      "40000/40000 [==============================] - 4s 94us/step - loss: 2.3268 - acc: 0.1309 - val_loss: 2.2264 - val_acc: 0.2096\n",
      "Epoch 2/50\n",
      "40000/40000 [==============================] - 3s 68us/step - loss: 2.1866 - acc: 0.1811 - val_loss: 2.0840 - val_acc: 0.2577\n",
      "Epoch 3/50\n",
      "40000/40000 [==============================] - 3s 69us/step - loss: 2.0913 - acc: 0.2130 - val_loss: 1.9990 - val_acc: 0.2767\n",
      "Epoch 4/50\n",
      "40000/40000 [==============================] - 3s 68us/step - loss: 2.0320 - acc: 0.2381 - val_loss: 1.9367 - val_acc: 0.2951\n",
      "Epoch 5/50\n",
      "40000/40000 [==============================] - 3s 69us/step - loss: 1.9863 - acc: 0.2608 - val_loss: 1.8835 - val_acc: 0.3211\n",
      "Epoch 6/50\n",
      "40000/40000 [==============================] - 3s 69us/step - loss: 1.9599 - acc: 0.2744 - val_loss: 1.8883 - val_acc: 0.3234\n",
      "Epoch 7/50\n",
      "40000/40000 [==============================] - 3s 73us/step - loss: 1.9407 - acc: 0.2809 - val_loss: 1.8515 - val_acc: 0.3386\n",
      "Epoch 8/50\n",
      "40000/40000 [==============================] - 3s 71us/step - loss: 1.9083 - acc: 0.2987 - val_loss: 1.8294 - val_acc: 0.3452\n",
      "Epoch 9/50\n",
      "40000/40000 [==============================] - 3s 72us/step - loss: 1.8789 - acc: 0.3119 - val_loss: 1.7941 - val_acc: 0.3599\n",
      "Epoch 10/50\n",
      "40000/40000 [==============================] - 3s 72us/step - loss: 1.8596 - acc: 0.3214 - val_loss: 1.7853 - val_acc: 0.3680\n",
      "Epoch 11/50\n",
      "40000/40000 [==============================] - 3s 70us/step - loss: 1.8506 - acc: 0.3269 - val_loss: 1.7775 - val_acc: 0.3633\n",
      "Epoch 12/50\n",
      "40000/40000 [==============================] - 3s 70us/step - loss: 1.8385 - acc: 0.3315 - val_loss: 1.7583 - val_acc: 0.3749\n",
      "Epoch 13/50\n",
      "40000/40000 [==============================] - 3s 72us/step - loss: 1.8245 - acc: 0.3380 - val_loss: 1.7451 - val_acc: 0.3749\n",
      "Epoch 14/50\n",
      "40000/40000 [==============================] - 3s 75us/step - loss: 1.8158 - acc: 0.3458 - val_loss: 1.7269 - val_acc: 0.3914\n",
      "Epoch 15/50\n",
      "40000/40000 [==============================] - 3s 77us/step - loss: 1.7957 - acc: 0.3549 - val_loss: 1.7175 - val_acc: 0.3830\n",
      "Epoch 16/50\n",
      "40000/40000 [==============================] - 3s 69us/step - loss: 1.7939 - acc: 0.3513 - val_loss: 1.7320 - val_acc: 0.3801\n",
      "Epoch 17/50\n",
      "40000/40000 [==============================] - 3s 69us/step - loss: 1.7859 - acc: 0.3558 - val_loss: 1.7294 - val_acc: 0.3779\n",
      "Epoch 18/50\n",
      "40000/40000 [==============================] - 3s 69us/step - loss: 1.7742 - acc: 0.3609 - val_loss: 1.6931 - val_acc: 0.4036\n",
      "Epoch 19/50\n",
      "40000/40000 [==============================] - 3s 68us/step - loss: 1.7623 - acc: 0.3665 - val_loss: 1.6751 - val_acc: 0.4068\n",
      "Epoch 20/50\n",
      "40000/40000 [==============================] - 3s 69us/step - loss: 1.7561 - acc: 0.3691 - val_loss: 1.6805 - val_acc: 0.4129\n",
      "Epoch 21/50\n",
      "40000/40000 [==============================] - 3s 69us/step - loss: 1.7545 - acc: 0.3697 - val_loss: 1.6785 - val_acc: 0.4017\n",
      "Epoch 22/50\n",
      "40000/40000 [==============================] - 3s 69us/step - loss: 1.7513 - acc: 0.3716 - val_loss: 1.6659 - val_acc: 0.4140\n",
      "Epoch 23/50\n",
      "40000/40000 [==============================] - 3s 69us/step - loss: 1.7492 - acc: 0.3699 - val_loss: 1.6642 - val_acc: 0.4119\n",
      "Epoch 24/50\n",
      "40000/40000 [==============================] - 3s 69us/step - loss: 1.7409 - acc: 0.3768 - val_loss: 1.6549 - val_acc: 0.4133\n",
      "Epoch 25/50\n",
      "40000/40000 [==============================] - 3s 69us/step - loss: 1.7333 - acc: 0.3783 - val_loss: 1.6535 - val_acc: 0.4134\n",
      "Epoch 26/50\n",
      "40000/40000 [==============================] - 3s 68us/step - loss: 1.7361 - acc: 0.3786 - val_loss: 1.6579 - val_acc: 0.4099\n",
      "Epoch 27/50\n",
      "40000/40000 [==============================] - 3s 69us/step - loss: 1.7240 - acc: 0.3823 - val_loss: 1.6582 - val_acc: 0.4049\n",
      "Epoch 28/50\n",
      "40000/40000 [==============================] - 3s 69us/step - loss: 1.7141 - acc: 0.3880 - val_loss: 1.6394 - val_acc: 0.4189\n",
      "Epoch 29/50\n",
      "40000/40000 [==============================] - 3s 70us/step - loss: 1.7018 - acc: 0.3940 - val_loss: 1.6395 - val_acc: 0.4167\n",
      "Epoch 30/50\n",
      "40000/40000 [==============================] - 3s 69us/step - loss: 1.7030 - acc: 0.3899 - val_loss: 1.6207 - val_acc: 0.4280\n",
      "Epoch 31/50\n",
      "40000/40000 [==============================] - 3s 71us/step - loss: 1.6945 - acc: 0.3906 - val_loss: 1.6472 - val_acc: 0.4208\n",
      "Epoch 32/50\n",
      "40000/40000 [==============================] - 3s 81us/step - loss: 1.6955 - acc: 0.3944 - val_loss: 1.6433 - val_acc: 0.4172\n",
      "Epoch 33/50\n",
      "40000/40000 [==============================] - 3s 79us/step - loss: 1.6976 - acc: 0.3915 - val_loss: 1.6204 - val_acc: 0.4291\n",
      "Epoch 34/50\n",
      "40000/40000 [==============================] - 3s 83us/step - loss: 1.6821 - acc: 0.3974 - val_loss: 1.6074 - val_acc: 0.4358\n",
      "Epoch 35/50\n",
      "40000/40000 [==============================] - 3s 80us/step - loss: 1.6825 - acc: 0.3973 - val_loss: 1.6099 - val_acc: 0.4290\n",
      "Epoch 36/50\n",
      "40000/40000 [==============================] - 3s 75us/step - loss: 1.6817 - acc: 0.4015 - val_loss: 1.6054 - val_acc: 0.4221\n",
      "Epoch 37/50\n",
      "40000/40000 [==============================] - 3s 68us/step - loss: 1.6748 - acc: 0.4016 - val_loss: 1.6169 - val_acc: 0.4268\n",
      "Epoch 38/50\n",
      "40000/40000 [==============================] - 3s 87us/step - loss: 1.6810 - acc: 0.3998 - val_loss: 1.6087 - val_acc: 0.4341\n",
      "Epoch 39/50\n",
      "40000/40000 [==============================] - 3s 74us/step - loss: 1.6683 - acc: 0.4022 - val_loss: 1.6219 - val_acc: 0.4228\n",
      "Epoch 40/50\n",
      "40000/40000 [==============================] - 3s 69us/step - loss: 1.6660 - acc: 0.4043 - val_loss: 1.5951 - val_acc: 0.4376\n",
      "Epoch 41/50\n",
      "40000/40000 [==============================] - 3s 69us/step - loss: 1.6590 - acc: 0.4087 - val_loss: 1.5896 - val_acc: 0.4363\n",
      "Epoch 42/50\n",
      "40000/40000 [==============================] - 3s 70us/step - loss: 1.6593 - acc: 0.4081 - val_loss: 1.5931 - val_acc: 0.4369\n",
      "Epoch 43/50\n",
      "40000/40000 [==============================] - 3s 70us/step - loss: 1.6598 - acc: 0.4085 - val_loss: 1.5967 - val_acc: 0.4355\n",
      "Epoch 44/50\n",
      "40000/40000 [==============================] - 3s 69us/step - loss: 1.6546 - acc: 0.4097 - val_loss: 1.5966 - val_acc: 0.4349\n",
      "Epoch 45/50\n",
      "40000/40000 [==============================] - 3s 70us/step - loss: 1.6495 - acc: 0.4124 - val_loss: 1.6052 - val_acc: 0.4326\n",
      "Epoch 46/50\n",
      "40000/40000 [==============================] - 3s 70us/step - loss: 1.6461 - acc: 0.4124 - val_loss: 1.5881 - val_acc: 0.4431\n",
      "Epoch 47/50\n",
      "40000/40000 [==============================] - 3s 72us/step - loss: 1.6464 - acc: 0.4123 - val_loss: 1.6098 - val_acc: 0.4363\n",
      "Epoch 48/50\n",
      "40000/40000 [==============================] - 3s 81us/step - loss: 1.6445 - acc: 0.4135 - val_loss: 1.5894 - val_acc: 0.4384\n",
      "Epoch 49/50\n",
      "40000/40000 [==============================] - 3s 75us/step - loss: 1.6327 - acc: 0.4170 - val_loss: 1.5886 - val_acc: 0.4366\n",
      "Epoch 50/50\n",
      "40000/40000 [==============================] - 3s 77us/step - loss: 1.6420 - acc: 0.4160 - val_loss: 1.5777 - val_acc: 0.4466\n",
      "10000/10000 [==============================] - 0s 34us/step\n",
      "Test Loss and Accuracy -> [1.5539183139801025, 0.44520000368356705]\n"
     ]
    }
   ],
   "source": [
    "import matplotlib.pyplot as plt\n",
    "\n",
    "history = model.fit(X_train, Y_train, epochs=50, batch_size=1500, validation_split=0.2)\n",
    "performance_test=model.evaluate(X_test,Y_test, batch_size=1500)\n",
    "print('Test Loss and Accuracy ->', performance_test)"
   ]
  },
  {
   "cell_type": "code",
   "execution_count": 64,
   "metadata": {},
   "outputs": [
    {
     "data": {
      "image/png": "[encoded data removed]",
      "text/plain": [
       "<matplotlib.figure.Figure at 0x182b483320>"
      ]
     },
     "metadata": {},
     "output_type": "display_data"
    },
    {
     "data": {
      "image/png": "[encoded data removed]",
      "text/plain": [
       "<matplotlib.figure.Figure at 0x1824d00518>"
      ]
     },
     "metadata": {},
     "output_type": "display_data"
    }
   ],
   "source": [
    "# visualize model acc\n",
    "history = history.history\n",
    "plt.plot(history['acc'])\n",
    "plt.plot(history['val_acc'])\n",
    "plt.ylabel('Accracy')\n",
    "plt.xlabel('Epoch')\n",
    "plt.legend(['Training data', 'Validation data'], loc=0)\n",
    "plt.show()\n",
    "\n",
    "# visualize model loss\n",
    "history = history\n",
    "plt.plot(history['loss'])\n",
    "plt.plot(history['val_loss'])\n",
    "plt.ylabel('Loss')\n",
    "plt.xlabel('Epoch')\n",
    "plt.legend(['Training data', 'Validation data'], loc=0)\n",
    "plt.show()"
   ]
  },
  {
   "cell_type": "code",
   "execution_count": null,
   "metadata": {
    "collapsed": true
   },
   "outputs": [],
   "source": []
  }
 ],
 "metadata": {
  "kernelspec": {
   "display_name": "Python 3",
   "language": "python",
   "name": "python3"
  },
  "language_info": {
   "codemirror_mode": {
    "name": "ipython",
    "version": 3
   },
   "file_extension": ".py",
   "mimetype": "text/x-python",
   "name": "python",
   "nbconvert_exporter": "python",
   "pygments_lexer": "ipython3",
   "version": "3.6.2"
  }
 },
 "nbformat": 4,
 "nbformat_minor": 2
}
