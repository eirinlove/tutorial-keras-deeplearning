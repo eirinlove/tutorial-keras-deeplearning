{
 "cells": [
  {
   "cell_type": "markdown",
   "metadata": {},
   "source": [
    "## CNN tutorial"
   ]
  },
  {
   "cell_type": "markdown",
   "metadata": {},
   "source": [
    "#### running on GCP : menu - runtime - edit runtime // python3, GPU"
   ]
  },
  {
   "cell_type": "code",
   "execution_count": 30,
   "metadata": {},
   "outputs": [
    {
     "name": "stdout",
     "output_type": "stream",
     "text": [
      "==== DEVICE: name: \"/device:CPU:0\"\n",
      "device_type: \"CPU\"\n",
      "memory_limit: 268435456\n",
      "locality {\n",
      "}\n",
      "incarnation: 13832542899423033574\n",
      "\n"
     ]
    }
   ],
   "source": [
    "from tensorflow.python.client import device_lib\n",
    "\n",
    "# device 목록을 살펴보고 GPU가 있는지 확인.\n",
    "for device in device_lib.list_local_devices():\n",
    "    print('==== DEVICE:', device)"
   ]
  },
  {
   "cell_type": "markdown",
   "metadata": {},
   "source": [
    "#### import modules"
   ]
  },
  {
   "cell_type": "code",
   "execution_count": 1,
   "metadata": {},
   "outputs": [
    {
     "name": "stderr",
     "output_type": "stream",
     "text": [
      "Using TensorFlow backend.\n"
     ]
    }
   ],
   "source": [
    "import os\n",
    "import numpy\n",
    "import matplotlib.pyplot as plt\n",
    "from keras.models import Sequential\n",
    "from keras.layers import Dense\n",
    "from keras.layers import Dropout\n",
    "from keras.layers import Flatten\n",
    "from keras.layers.convolutional import Conv2D\n",
    "from keras.layers.convolutional import MaxPooling2D\n",
    "from keras.utils import np_utils\n",
    "from keras.datasets import cifar10\n",
    "from keras import optimizers"
   ]
  },
  {
   "cell_type": "markdown",
   "metadata": {},
   "source": [
    "-----"
   ]
  },
  {
   "cell_type": "markdown",
   "metadata": {},
   "source": [
    "- config"
   ]
  },
  {
   "cell_type": "code",
   "execution_count": 3,
   "metadata": {},
   "outputs": [],
   "source": [
    "batch_size = 128\n",
    "num_classes = 10\n",
    "epochs = 50\n",
    "validation_split = 0.2\n",
    "learning_rate = 0.001"
   ]
  },
  {
   "cell_type": "markdown",
   "metadata": {},
   "source": [
    "-----"
   ]
  },
  {
   "cell_type": "markdown",
   "metadata": {},
   "source": [
    "- data import"
   ]
  },
  {
   "cell_type": "code",
   "execution_count": 33,
   "metadata": {},
   "outputs": [
    {
     "name": "stdout",
     "output_type": "stream",
     "text": [
      "x_train shape: (50000, 32, 32, 3)\n",
      "50000 train samples\n",
      "10000 test samples\n"
     ]
    }
   ],
   "source": [
    "(x_train, y_train), (x_test, y_test) = cifar10.load_data()\n",
    "print('x_train shape:', x_train.shape)\n",
    "print(x_train.shape[0], 'train samples')\n",
    "print(x_test.shape[0], 'test samples')\n",
    "\n",
    "y_train = np_utils.to_categorical(y_train, num_classes)\n",
    "y_test = np_utils.to_categorical(y_test, num_classes)\n",
    "\n",
    "x_train = x_train.astype(float)\n",
    "x_test = x_test.astype(float)\n",
    "\n",
    "x_train /= 255\n",
    "x_test /= 255"
   ]
  },
  {
   "cell_type": "code",
   "execution_count": 34,
   "metadata": {},
   "outputs": [],
   "source": [
    "def visualize_image(X, Y):\n",
    "    rgb = X[0]\n",
    "    img = rgb.reshape(3,32,32).transpose([1, 2, 0])\n",
    "    plt.imshow(img)\n",
    "    plt.show()"
   ]
  },
  {
   "cell_type": "code",
   "execution_count": 35,
   "metadata": {},
   "outputs": [
    {
     "data": {
      "image/png": "[encoded data removed]",
      "text/plain": [
       "<Figure size 432x288 with 1 Axes>"
      ]
     },
     "metadata": {},
     "output_type": "display_data"
    }
   ],
   "source": [
    "visualize_image(x_train, y_train)"
   ]
  },
  {
   "cell_type": "markdown",
   "metadata": {},
   "source": [
    "-----"
   ]
  },
  {
   "cell_type": "code",
   "execution_count": 4,
   "metadata": {},
   "outputs": [],
   "source": [
    "model = Sequential()\n",
    "\n",
    "# 3X3 사이즈, input channel 숫자와 동일한 channel의 필터가 32개\n",
    "# padding 'same' : input size와 output size가 동일하도록 padding, 'valid' : padding 없음\n",
    "# 첫 conv layer에만 input size 기입\n",
    "model.add(Conv2D(64, (5, 5), padding='same', activation='relu', input_shape=(32,32,3)))\n",
    "model.add(MaxPooling2D(pool_size=(2,2), strides=2)) # 2X2 strides=2 풀링 layer\n",
    "model.add(Conv2D(64, (5, 5), padding='same', activation='relu'))\n",
    "model.add(MaxPooling2D(pool_size=(2,2), strides=2))\n",
    "model.add(Conv2D(128, (3, 3), padding='same', activation='relu'))\n",
    "model.add(Dropout(0.15))\n",
    "model.add(Conv2D(128, (3, 3), padding='same', activation='relu'))\n",
    "model.add(Conv2D(128, (3, 3), padding='same', activation='relu'))\n",
    "model.add(Dropout(0.15))\n",
    "\n",
    "# flatten한 뒤, fully-connected layer와 분류 activation 추가\n",
    "model.add(Flatten())\n",
    "model.add(Dense(384, activation='relu')) # output size 384\n",
    "model.add(Dropout(0.3))\n",
    "model.add(Dense(10, activation='softmax')) # output size 10\n",
    "\n",
    "optimizer = optimizers.RMSprop(lr=learning_rate, rho=0.9, epsilon=None, decay=0.0)\n",
    "model.compile(loss='categorical_crossentropy', optimizer=optimizer, metrics=['accuracy'])"
   ]
  },
  {
   "cell_type": "code",
   "execution_count": 5,
   "metadata": {},
   "outputs": [
    {
     "data": {
      "image/svg+xml": [
       "<svg height=\"1106pt\" viewBox=\"0.00 0.00 393.93 1106.00\" width=\"394pt\" xmlns=\"http://www.w3.org/2000/svg\" xmlns:xlink=\"http://www.w3.org/1999/xlink\">\n",
       "<g class=\"graph\" id=\"graph0\" transform=\"scale(1 1) rotate(0) translate(4 1102)\">\n",
       "<title>G</title>\n",
       "<polygon fill=\"#ffffff\" points=\"-4,4 -4,-1102 389.9277,-1102 389.9277,4 -4,4\" stroke=\"transparent\"/>\n",
       "<!-- 4875365960 -->\n",
       "<g class=\"node\" id=\"node1\">\n",
       "<title>4875365960</title>\n",
       "<polygon fill=\"none\" points=\"21.0171,-1053.5 21.0171,-1097.5 364.9106,-1097.5 364.9106,-1053.5 21.0171,-1053.5\" stroke=\"#000000\"/>\n",
       "<text fill=\"#000000\" font-family=\"Times,serif\" font-size=\"14.00\" text-anchor=\"middle\" x=\"109.3052\" y=\"-1071.3\">conv2d_6_input: InputLayer</text>\n",
       "<polyline fill=\"none\" points=\"197.5933,-1053.5 197.5933,-1097.5 \" stroke=\"#000000\"/>\n",
       "<text fill=\"#000000\" font-family=\"Times,serif\" font-size=\"14.00\" text-anchor=\"middle\" x=\"225.4277\" y=\"-1082.3\">input:</text>\n",
       "<polyline fill=\"none\" points=\"197.5933,-1075.5 253.2622,-1075.5 \" stroke=\"#000000\"/>\n",
       "<text fill=\"#000000\" font-family=\"Times,serif\" font-size=\"14.00\" text-anchor=\"middle\" x=\"225.4277\" y=\"-1060.3\">output:</text>\n",
       "<polyline fill=\"none\" points=\"253.2622,-1053.5 253.2622,-1097.5 \" stroke=\"#000000\"/>\n",
       "<text fill=\"#000000\" font-family=\"Times,serif\" font-size=\"14.00\" text-anchor=\"middle\" x=\"309.0864\" y=\"-1082.3\">(None, 32, 32, 3)</text>\n",
       "<polyline fill=\"none\" points=\"253.2622,-1075.5 364.9106,-1075.5 \" stroke=\"#000000\"/>\n",
       "<text fill=\"#000000\" font-family=\"Times,serif\" font-size=\"14.00\" text-anchor=\"middle\" x=\"309.0864\" y=\"-1060.3\">(None, 32, 32, 3)</text>\n",
       "</g>\n",
       "<!-- 4875365512 -->\n",
       "<g class=\"node\" id=\"node2\">\n",
       "<title>4875365512</title>\n",
       "<polygon fill=\"none\" points=\"42.7793,-972.5 42.7793,-1016.5 343.1484,-1016.5 343.1484,-972.5 42.7793,-972.5\" stroke=\"#000000\"/>\n",
       "<text fill=\"#000000\" font-family=\"Times,serif\" font-size=\"14.00\" text-anchor=\"middle\" x=\"105.8052\" y=\"-990.3\">conv2d_6: Conv2D</text>\n",
       "<polyline fill=\"none\" points=\"168.8311,-972.5 168.8311,-1016.5 \" stroke=\"#000000\"/>\n",
       "<text fill=\"#000000\" font-family=\"Times,serif\" font-size=\"14.00\" text-anchor=\"middle\" x=\"196.6655\" y=\"-1001.3\">input:</text>\n",
       "<polyline fill=\"none\" points=\"168.8311,-994.5 224.5,-994.5 \" stroke=\"#000000\"/>\n",
       "<text fill=\"#000000\" font-family=\"Times,serif\" font-size=\"14.00\" text-anchor=\"middle\" x=\"196.6655\" y=\"-979.3\">output:</text>\n",
       "<polyline fill=\"none\" points=\"224.5,-972.5 224.5,-1016.5 \" stroke=\"#000000\"/>\n",
       "<text fill=\"#000000\" font-family=\"Times,serif\" font-size=\"14.00\" text-anchor=\"middle\" x=\"283.8242\" y=\"-1001.3\">(None, 32, 32, 3)</text>\n",
       "<polyline fill=\"none\" points=\"224.5,-994.5 343.1484,-994.5 \" stroke=\"#000000\"/>\n",
       "<text fill=\"#000000\" font-family=\"Times,serif\" font-size=\"14.00\" text-anchor=\"middle\" x=\"283.8242\" y=\"-979.3\">(None, 32, 32, 64)</text>\n",
       "</g>\n",
       "<!-- 4875365960&#45;&gt;4875365512 -->\n",
       "<g class=\"edge\" id=\"edge1\">\n",
       "<title>4875365960-&gt;4875365512</title>\n",
       "<path d=\"M192.9639,-1053.3664C192.9639,-1045.1516 192.9639,-1035.6579 192.9639,-1026.7252\" fill=\"none\" stroke=\"#000000\"/>\n",
       "<polygon fill=\"#000000\" points=\"196.464,-1026.6068 192.9639,-1016.6068 189.464,-1026.6069 196.464,-1026.6068\" stroke=\"#000000\"/>\n",
       "</g>\n",
       "<!-- 4875366240 -->\n",
       "<g class=\"node\" id=\"node3\">\n",
       "<title>4875366240</title>\n",
       "<polygon fill=\"none\" points=\"0,-891.5 0,-935.5 385.9277,-935.5 385.9277,-891.5 0,-891.5\" stroke=\"#000000\"/>\n",
       "<text fill=\"#000000\" font-family=\"Times,serif\" font-size=\"14.00\" text-anchor=\"middle\" x=\"105.8052\" y=\"-909.3\">max_pooling2d_3: MaxPooling2D</text>\n",
       "<polyline fill=\"none\" points=\"211.6104,-891.5 211.6104,-935.5 \" stroke=\"#000000\"/>\n",
       "<text fill=\"#000000\" font-family=\"Times,serif\" font-size=\"14.00\" text-anchor=\"middle\" x=\"239.4448\" y=\"-920.3\">input:</text>\n",
       "<polyline fill=\"none\" points=\"211.6104,-913.5 267.2793,-913.5 \" stroke=\"#000000\"/>\n",
       "<text fill=\"#000000\" font-family=\"Times,serif\" font-size=\"14.00\" text-anchor=\"middle\" x=\"239.4448\" y=\"-898.3\">output:</text>\n",
       "<polyline fill=\"none\" points=\"267.2793,-891.5 267.2793,-935.5 \" stroke=\"#000000\"/>\n",
       "<text fill=\"#000000\" font-family=\"Times,serif\" font-size=\"14.00\" text-anchor=\"middle\" x=\"326.6035\" y=\"-920.3\">(None, 32, 32, 64)</text>\n",
       "<polyline fill=\"none\" points=\"267.2793,-913.5 385.9277,-913.5 \" stroke=\"#000000\"/>\n",
       "<text fill=\"#000000\" font-family=\"Times,serif\" font-size=\"14.00\" text-anchor=\"middle\" x=\"326.6035\" y=\"-898.3\">(None, 16, 16, 64)</text>\n",
       "</g>\n",
       "<!-- 4875365512&#45;&gt;4875366240 -->\n",
       "<g class=\"edge\" id=\"edge2\">\n",
       "<title>4875365512-&gt;4875366240</title>\n",
       "<path d=\"M192.9639,-972.3664C192.9639,-964.1516 192.9639,-954.6579 192.9639,-945.7252\" fill=\"none\" stroke=\"#000000\"/>\n",
       "<polygon fill=\"#000000\" points=\"196.464,-945.6068 192.9639,-935.6068 189.464,-945.6069 196.464,-945.6068\" stroke=\"#000000\"/>\n",
       "</g>\n",
       "<!-- 4875365624 -->\n",
       "<g class=\"node\" id=\"node4\">\n",
       "<title>4875365624</title>\n",
       "<polygon fill=\"none\" points=\"42.7793,-810.5 42.7793,-854.5 343.1484,-854.5 343.1484,-810.5 42.7793,-810.5\" stroke=\"#000000\"/>\n",
       "<text fill=\"#000000\" font-family=\"Times,serif\" font-size=\"14.00\" text-anchor=\"middle\" x=\"105.8052\" y=\"-828.3\">conv2d_7: Conv2D</text>\n",
       "<polyline fill=\"none\" points=\"168.8311,-810.5 168.8311,-854.5 \" stroke=\"#000000\"/>\n",
       "<text fill=\"#000000\" font-family=\"Times,serif\" font-size=\"14.00\" text-anchor=\"middle\" x=\"196.6655\" y=\"-839.3\">input:</text>\n",
       "<polyline fill=\"none\" points=\"168.8311,-832.5 224.5,-832.5 \" stroke=\"#000000\"/>\n",
       "<text fill=\"#000000\" font-family=\"Times,serif\" font-size=\"14.00\" text-anchor=\"middle\" x=\"196.6655\" y=\"-817.3\">output:</text>\n",
       "<polyline fill=\"none\" points=\"224.5,-810.5 224.5,-854.5 \" stroke=\"#000000\"/>\n",
       "<text fill=\"#000000\" font-family=\"Times,serif\" font-size=\"14.00\" text-anchor=\"middle\" x=\"283.8242\" y=\"-839.3\">(None, 16, 16, 64)</text>\n",
       "<polyline fill=\"none\" points=\"224.5,-832.5 343.1484,-832.5 \" stroke=\"#000000\"/>\n",
       "<text fill=\"#000000\" font-family=\"Times,serif\" font-size=\"14.00\" text-anchor=\"middle\" x=\"283.8242\" y=\"-817.3\">(None, 16, 16, 64)</text>\n",
       "</g>\n",
       "<!-- 4875366240&#45;&gt;4875365624 -->\n",
       "<g class=\"edge\" id=\"edge3\">\n",
       "<title>4875366240-&gt;4875365624</title>\n",
       "<path d=\"M192.9639,-891.3664C192.9639,-883.1516 192.9639,-873.6579 192.9639,-864.7252\" fill=\"none\" stroke=\"#000000\"/>\n",
       "<polygon fill=\"#000000\" points=\"196.464,-864.6068 192.9639,-854.6068 189.464,-864.6069 196.464,-864.6068\" stroke=\"#000000\"/>\n",
       "</g>\n",
       "<!-- 4875386552 -->\n",
       "<g class=\"node\" id=\"node5\">\n",
       "<title>4875386552</title>\n",
       "<polygon fill=\"none\" points=\"0,-729.5 0,-773.5 385.9277,-773.5 385.9277,-729.5 0,-729.5\" stroke=\"#000000\"/>\n",
       "<text fill=\"#000000\" font-family=\"Times,serif\" font-size=\"14.00\" text-anchor=\"middle\" x=\"105.8052\" y=\"-747.3\">max_pooling2d_4: MaxPooling2D</text>\n",
       "<polyline fill=\"none\" points=\"211.6104,-729.5 211.6104,-773.5 \" stroke=\"#000000\"/>\n",
       "<text fill=\"#000000\" font-family=\"Times,serif\" font-size=\"14.00\" text-anchor=\"middle\" x=\"239.4448\" y=\"-758.3\">input:</text>\n",
       "<polyline fill=\"none\" points=\"211.6104,-751.5 267.2793,-751.5 \" stroke=\"#000000\"/>\n",
       "<text fill=\"#000000\" font-family=\"Times,serif\" font-size=\"14.00\" text-anchor=\"middle\" x=\"239.4448\" y=\"-736.3\">output:</text>\n",
       "<polyline fill=\"none\" points=\"267.2793,-729.5 267.2793,-773.5 \" stroke=\"#000000\"/>\n",
       "<text fill=\"#000000\" font-family=\"Times,serif\" font-size=\"14.00\" text-anchor=\"middle\" x=\"326.6035\" y=\"-758.3\">(None, 16, 16, 64)</text>\n",
       "<polyline fill=\"none\" points=\"267.2793,-751.5 385.9277,-751.5 \" stroke=\"#000000\"/>\n",
       "<text fill=\"#000000\" font-family=\"Times,serif\" font-size=\"14.00\" text-anchor=\"middle\" x=\"326.6035\" y=\"-736.3\">(None, 8, 8, 64)</text>\n",
       "</g>\n",
       "<!-- 4875365624&#45;&gt;4875386552 -->\n",
       "<g class=\"edge\" id=\"edge4\">\n",
       "<title>4875365624-&gt;4875386552</title>\n",
       "<path d=\"M192.9639,-810.3664C192.9639,-802.1516 192.9639,-792.6579 192.9639,-783.7252\" fill=\"none\" stroke=\"#000000\"/>\n",
       "<polygon fill=\"#000000\" points=\"196.464,-783.6068 192.9639,-773.6068 189.464,-783.6069 196.464,-783.6068\" stroke=\"#000000\"/>\n",
       "</g>\n",
       "<!-- 4875322816 -->\n",
       "<g class=\"node\" id=\"node6\">\n",
       "<title>4875322816</title>\n",
       "<polygon fill=\"none\" points=\"46.2793,-648.5 46.2793,-692.5 339.6484,-692.5 339.6484,-648.5 46.2793,-648.5\" stroke=\"#000000\"/>\n",
       "<text fill=\"#000000\" font-family=\"Times,serif\" font-size=\"14.00\" text-anchor=\"middle\" x=\"109.3052\" y=\"-666.3\">conv2d_8: Conv2D</text>\n",
       "<polyline fill=\"none\" points=\"172.3311,-648.5 172.3311,-692.5 \" stroke=\"#000000\"/>\n",
       "<text fill=\"#000000\" font-family=\"Times,serif\" font-size=\"14.00\" text-anchor=\"middle\" x=\"200.1655\" y=\"-677.3\">input:</text>\n",
       "<polyline fill=\"none\" points=\"172.3311,-670.5 228,-670.5 \" stroke=\"#000000\"/>\n",
       "<text fill=\"#000000\" font-family=\"Times,serif\" font-size=\"14.00\" text-anchor=\"middle\" x=\"200.1655\" y=\"-655.3\">output:</text>\n",
       "<polyline fill=\"none\" points=\"228,-648.5 228,-692.5 \" stroke=\"#000000\"/>\n",
       "<text fill=\"#000000\" font-family=\"Times,serif\" font-size=\"14.00\" text-anchor=\"middle\" x=\"283.8242\" y=\"-677.3\">(None, 8, 8, 64)</text>\n",
       "<polyline fill=\"none\" points=\"228,-670.5 339.6484,-670.5 \" stroke=\"#000000\"/>\n",
       "<text fill=\"#000000\" font-family=\"Times,serif\" font-size=\"14.00\" text-anchor=\"middle\" x=\"283.8242\" y=\"-655.3\">(None, 8, 8, 128)</text>\n",
       "</g>\n",
       "<!-- 4875386552&#45;&gt;4875322816 -->\n",
       "<g class=\"edge\" id=\"edge5\">\n",
       "<title>4875386552-&gt;4875322816</title>\n",
       "<path d=\"M192.9639,-729.3664C192.9639,-721.1516 192.9639,-711.6579 192.9639,-702.7252\" fill=\"none\" stroke=\"#000000\"/>\n",
       "<polygon fill=\"#000000\" points=\"196.464,-702.6068 192.9639,-692.6068 189.464,-702.6069 196.464,-702.6068\" stroke=\"#000000\"/>\n",
       "</g>\n",
       "<!-- 4875476720 -->\n",
       "<g class=\"node\" id=\"node7\">\n",
       "<title>4875476720</title>\n",
       "<polygon fill=\"none\" points=\"45.5034,-567.5 45.5034,-611.5 340.4243,-611.5 340.4243,-567.5 45.5034,-567.5\" stroke=\"#000000\"/>\n",
       "<text fill=\"#000000\" font-family=\"Times,serif\" font-size=\"14.00\" text-anchor=\"middle\" x=\"109.3052\" y=\"-585.3\">dropout_4: Dropout</text>\n",
       "<polyline fill=\"none\" points=\"173.1069,-567.5 173.1069,-611.5 \" stroke=\"#000000\"/>\n",
       "<text fill=\"#000000\" font-family=\"Times,serif\" font-size=\"14.00\" text-anchor=\"middle\" x=\"200.9414\" y=\"-596.3\">input:</text>\n",
       "<polyline fill=\"none\" points=\"173.1069,-589.5 228.7759,-589.5 \" stroke=\"#000000\"/>\n",
       "<text fill=\"#000000\" font-family=\"Times,serif\" font-size=\"14.00\" text-anchor=\"middle\" x=\"200.9414\" y=\"-574.3\">output:</text>\n",
       "<polyline fill=\"none\" points=\"228.7759,-567.5 228.7759,-611.5 \" stroke=\"#000000\"/>\n",
       "<text fill=\"#000000\" font-family=\"Times,serif\" font-size=\"14.00\" text-anchor=\"middle\" x=\"284.6001\" y=\"-596.3\">(None, 8, 8, 128)</text>\n",
       "<polyline fill=\"none\" points=\"228.7759,-589.5 340.4243,-589.5 \" stroke=\"#000000\"/>\n",
       "<text fill=\"#000000\" font-family=\"Times,serif\" font-size=\"14.00\" text-anchor=\"middle\" x=\"284.6001\" y=\"-574.3\">(None, 8, 8, 128)</text>\n",
       "</g>\n",
       "<!-- 4875322816&#45;&gt;4875476720 -->\n",
       "<g class=\"edge\" id=\"edge6\">\n",
       "<title>4875322816-&gt;4875476720</title>\n",
       "<path d=\"M192.9639,-648.3664C192.9639,-640.1516 192.9639,-630.6579 192.9639,-621.7252\" fill=\"none\" stroke=\"#000000\"/>\n",
       "<polygon fill=\"#000000\" points=\"196.464,-621.6068 192.9639,-611.6068 189.464,-621.6069 196.464,-621.6068\" stroke=\"#000000\"/>\n",
       "</g>\n",
       "<!-- 4875476608 -->\n",
       "<g class=\"node\" id=\"node8\">\n",
       "<title>4875476608</title>\n",
       "<polygon fill=\"none\" points=\"46.2793,-486.5 46.2793,-530.5 339.6484,-530.5 339.6484,-486.5 46.2793,-486.5\" stroke=\"#000000\"/>\n",
       "<text fill=\"#000000\" font-family=\"Times,serif\" font-size=\"14.00\" text-anchor=\"middle\" x=\"109.3052\" y=\"-504.3\">conv2d_9: Conv2D</text>\n",
       "<polyline fill=\"none\" points=\"172.3311,-486.5 172.3311,-530.5 \" stroke=\"#000000\"/>\n",
       "<text fill=\"#000000\" font-family=\"Times,serif\" font-size=\"14.00\" text-anchor=\"middle\" x=\"200.1655\" y=\"-515.3\">input:</text>\n",
       "<polyline fill=\"none\" points=\"172.3311,-508.5 228,-508.5 \" stroke=\"#000000\"/>\n",
       "<text fill=\"#000000\" font-family=\"Times,serif\" font-size=\"14.00\" text-anchor=\"middle\" x=\"200.1655\" y=\"-493.3\">output:</text>\n",
       "<polyline fill=\"none\" points=\"228,-486.5 228,-530.5 \" stroke=\"#000000\"/>\n",
       "<text fill=\"#000000\" font-family=\"Times,serif\" font-size=\"14.00\" text-anchor=\"middle\" x=\"283.8242\" y=\"-515.3\">(None, 8, 8, 128)</text>\n",
       "<polyline fill=\"none\" points=\"228,-508.5 339.6484,-508.5 \" stroke=\"#000000\"/>\n",
       "<text fill=\"#000000\" font-family=\"Times,serif\" font-size=\"14.00\" text-anchor=\"middle\" x=\"283.8242\" y=\"-493.3\">(None, 8, 8, 128)</text>\n",
       "</g>\n",
       "<!-- 4875476720&#45;&gt;4875476608 -->\n",
       "<g class=\"edge\" id=\"edge7\">\n",
       "<title>4875476720-&gt;4875476608</title>\n",
       "<path d=\"M192.9639,-567.3664C192.9639,-559.1516 192.9639,-549.6579 192.9639,-540.7252\" fill=\"none\" stroke=\"#000000\"/>\n",
       "<polygon fill=\"#000000\" points=\"196.464,-540.6068 192.9639,-530.6068 189.464,-540.6069 196.464,-540.6068\" stroke=\"#000000\"/>\n",
       "</g>\n",
       "<!-- 4875550560 -->\n",
       "<g class=\"node\" id=\"node9\">\n",
       "<title>4875550560</title>\n",
       "<polygon fill=\"none\" points=\"42.7793,-405.5 42.7793,-449.5 343.1484,-449.5 343.1484,-405.5 42.7793,-405.5\" stroke=\"#000000\"/>\n",
       "<text fill=\"#000000\" font-family=\"Times,serif\" font-size=\"14.00\" text-anchor=\"middle\" x=\"109.3052\" y=\"-423.3\">conv2d_10: Conv2D</text>\n",
       "<polyline fill=\"none\" points=\"175.8311,-405.5 175.8311,-449.5 \" stroke=\"#000000\"/>\n",
       "<text fill=\"#000000\" font-family=\"Times,serif\" font-size=\"14.00\" text-anchor=\"middle\" x=\"203.6655\" y=\"-434.3\">input:</text>\n",
       "<polyline fill=\"none\" points=\"175.8311,-427.5 231.5,-427.5 \" stroke=\"#000000\"/>\n",
       "<text fill=\"#000000\" font-family=\"Times,serif\" font-size=\"14.00\" text-anchor=\"middle\" x=\"203.6655\" y=\"-412.3\">output:</text>\n",
       "<polyline fill=\"none\" points=\"231.5,-405.5 231.5,-449.5 \" stroke=\"#000000\"/>\n",
       "<text fill=\"#000000\" font-family=\"Times,serif\" font-size=\"14.00\" text-anchor=\"middle\" x=\"287.3242\" y=\"-434.3\">(None, 8, 8, 128)</text>\n",
       "<polyline fill=\"none\" points=\"231.5,-427.5 343.1484,-427.5 \" stroke=\"#000000\"/>\n",
       "<text fill=\"#000000\" font-family=\"Times,serif\" font-size=\"14.00\" text-anchor=\"middle\" x=\"287.3242\" y=\"-412.3\">(None, 8, 8, 128)</text>\n",
       "</g>\n",
       "<!-- 4875476608&#45;&gt;4875550560 -->\n",
       "<g class=\"edge\" id=\"edge8\">\n",
       "<title>4875476608-&gt;4875550560</title>\n",
       "<path d=\"M192.9639,-486.3664C192.9639,-478.1516 192.9639,-468.6579 192.9639,-459.7252\" fill=\"none\" stroke=\"#000000\"/>\n",
       "<polygon fill=\"#000000\" points=\"196.464,-459.6068 192.9639,-449.6068 189.464,-459.6069 196.464,-459.6068\" stroke=\"#000000\"/>\n",
       "</g>\n",
       "<!-- 4875547704 -->\n",
       "<g class=\"node\" id=\"node10\">\n",
       "<title>4875547704</title>\n",
       "<polygon fill=\"none\" points=\"45.5034,-324.5 45.5034,-368.5 340.4243,-368.5 340.4243,-324.5 45.5034,-324.5\" stroke=\"#000000\"/>\n",
       "<text fill=\"#000000\" font-family=\"Times,serif\" font-size=\"14.00\" text-anchor=\"middle\" x=\"109.3052\" y=\"-342.3\">dropout_5: Dropout</text>\n",
       "<polyline fill=\"none\" points=\"173.1069,-324.5 173.1069,-368.5 \" stroke=\"#000000\"/>\n",
       "<text fill=\"#000000\" font-family=\"Times,serif\" font-size=\"14.00\" text-anchor=\"middle\" x=\"200.9414\" y=\"-353.3\">input:</text>\n",
       "<polyline fill=\"none\" points=\"173.1069,-346.5 228.7759,-346.5 \" stroke=\"#000000\"/>\n",
       "<text fill=\"#000000\" font-family=\"Times,serif\" font-size=\"14.00\" text-anchor=\"middle\" x=\"200.9414\" y=\"-331.3\">output:</text>\n",
       "<polyline fill=\"none\" points=\"228.7759,-324.5 228.7759,-368.5 \" stroke=\"#000000\"/>\n",
       "<text fill=\"#000000\" font-family=\"Times,serif\" font-size=\"14.00\" text-anchor=\"middle\" x=\"284.6001\" y=\"-353.3\">(None, 8, 8, 128)</text>\n",
       "<polyline fill=\"none\" points=\"228.7759,-346.5 340.4243,-346.5 \" stroke=\"#000000\"/>\n",
       "<text fill=\"#000000\" font-family=\"Times,serif\" font-size=\"14.00\" text-anchor=\"middle\" x=\"284.6001\" y=\"-331.3\">(None, 8, 8, 128)</text>\n",
       "</g>\n",
       "<!-- 4875550560&#45;&gt;4875547704 -->\n",
       "<g class=\"edge\" id=\"edge9\">\n",
       "<title>4875550560-&gt;4875547704</title>\n",
       "<path d=\"M192.9639,-405.3664C192.9639,-397.1516 192.9639,-387.6579 192.9639,-378.7252\" fill=\"none\" stroke=\"#000000\"/>\n",
       "<polygon fill=\"#000000\" points=\"196.464,-378.6068 192.9639,-368.6068 189.464,-378.6069 196.464,-378.6068\" stroke=\"#000000\"/>\n",
       "</g>\n",
       "<!-- 4876120864 -->\n",
       "<g class=\"node\" id=\"node11\">\n",
       "<title>4876120864</title>\n",
       "<polygon fill=\"none\" points=\"53.6724,-243.5 53.6724,-287.5 332.2554,-287.5 332.2554,-243.5 53.6724,-243.5\" stroke=\"#000000\"/>\n",
       "<text fill=\"#000000\" font-family=\"Times,serif\" font-size=\"14.00\" text-anchor=\"middle\" x=\"109.3052\" y=\"-261.3\">flatten_2: Flatten</text>\n",
       "<polyline fill=\"none\" points=\"164.938,-243.5 164.938,-287.5 \" stroke=\"#000000\"/>\n",
       "<text fill=\"#000000\" font-family=\"Times,serif\" font-size=\"14.00\" text-anchor=\"middle\" x=\"192.7725\" y=\"-272.3\">input:</text>\n",
       "<polyline fill=\"none\" points=\"164.938,-265.5 220.6069,-265.5 \" stroke=\"#000000\"/>\n",
       "<text fill=\"#000000\" font-family=\"Times,serif\" font-size=\"14.00\" text-anchor=\"middle\" x=\"192.7725\" y=\"-250.3\">output:</text>\n",
       "<polyline fill=\"none\" points=\"220.6069,-243.5 220.6069,-287.5 \" stroke=\"#000000\"/>\n",
       "<text fill=\"#000000\" font-family=\"Times,serif\" font-size=\"14.00\" text-anchor=\"middle\" x=\"276.4312\" y=\"-272.3\">(None, 8, 8, 128)</text>\n",
       "<polyline fill=\"none\" points=\"220.6069,-265.5 332.2554,-265.5 \" stroke=\"#000000\"/>\n",
       "<text fill=\"#000000\" font-family=\"Times,serif\" font-size=\"14.00\" text-anchor=\"middle\" x=\"276.4312\" y=\"-250.3\">(None, 8192)</text>\n",
       "</g>\n",
       "<!-- 4875547704&#45;&gt;4876120864 -->\n",
       "<g class=\"edge\" id=\"edge10\">\n",
       "<title>4875547704-&gt;4876120864</title>\n",
       "<path d=\"M192.9639,-324.3664C192.9639,-316.1516 192.9639,-306.6579 192.9639,-297.7252\" fill=\"none\" stroke=\"#000000\"/>\n",
       "<polygon fill=\"#000000\" points=\"196.464,-297.6068 192.9639,-287.6068 189.464,-297.6069 196.464,-297.6068\" stroke=\"#000000\"/>\n",
       "</g>\n",
       "<!-- 4876039504 -->\n",
       "<g class=\"node\" id=\"node12\">\n",
       "<title>4876039504</title>\n",
       "<polygon fill=\"none\" points=\"67.6792,-162.5 67.6792,-206.5 318.2485,-206.5 318.2485,-162.5 67.6792,-162.5\" stroke=\"#000000\"/>\n",
       "<text fill=\"#000000\" font-family=\"Times,serif\" font-size=\"14.00\" text-anchor=\"middle\" x=\"119.8052\" y=\"-180.3\">dense_3: Dense</text>\n",
       "<polyline fill=\"none\" points=\"171.9312,-162.5 171.9312,-206.5 \" stroke=\"#000000\"/>\n",
       "<text fill=\"#000000\" font-family=\"Times,serif\" font-size=\"14.00\" text-anchor=\"middle\" x=\"199.7656\" y=\"-191.3\">input:</text>\n",
       "<polyline fill=\"none\" points=\"171.9312,-184.5 227.6001,-184.5 \" stroke=\"#000000\"/>\n",
       "<text fill=\"#000000\" font-family=\"Times,serif\" font-size=\"14.00\" text-anchor=\"middle\" x=\"199.7656\" y=\"-169.3\">output:</text>\n",
       "<polyline fill=\"none\" points=\"227.6001,-162.5 227.6001,-206.5 \" stroke=\"#000000\"/>\n",
       "<text fill=\"#000000\" font-family=\"Times,serif\" font-size=\"14.00\" text-anchor=\"middle\" x=\"272.9243\" y=\"-191.3\">(None, 8192)</text>\n",
       "<polyline fill=\"none\" points=\"227.6001,-184.5 318.2485,-184.5 \" stroke=\"#000000\"/>\n",
       "<text fill=\"#000000\" font-family=\"Times,serif\" font-size=\"14.00\" text-anchor=\"middle\" x=\"272.9243\" y=\"-169.3\">(None, 384)</text>\n",
       "</g>\n",
       "<!-- 4876120864&#45;&gt;4876039504 -->\n",
       "<g class=\"edge\" id=\"edge11\">\n",
       "<title>4876120864-&gt;4876039504</title>\n",
       "<path d=\"M192.9639,-243.3664C192.9639,-235.1516 192.9639,-225.6579 192.9639,-216.7252\" fill=\"none\" stroke=\"#000000\"/>\n",
       "<polygon fill=\"#000000\" points=\"196.464,-216.6068 192.9639,-206.6068 189.464,-216.6069 196.464,-216.6068\" stroke=\"#000000\"/>\n",
       "</g>\n",
       "<!-- 4876227696 -->\n",
       "<g class=\"node\" id=\"node13\">\n",
       "<title>4876227696</title>\n",
       "<polygon fill=\"none\" points=\"59.5034,-81.5 59.5034,-125.5 326.4243,-125.5 326.4243,-81.5 59.5034,-81.5\" stroke=\"#000000\"/>\n",
       "<text fill=\"#000000\" font-family=\"Times,serif\" font-size=\"14.00\" text-anchor=\"middle\" x=\"123.3052\" y=\"-99.3\">dropout_6: Dropout</text>\n",
       "<polyline fill=\"none\" points=\"187.1069,-81.5 187.1069,-125.5 \" stroke=\"#000000\"/>\n",
       "<text fill=\"#000000\" font-family=\"Times,serif\" font-size=\"14.00\" text-anchor=\"middle\" x=\"214.9414\" y=\"-110.3\">input:</text>\n",
       "<polyline fill=\"none\" points=\"187.1069,-103.5 242.7759,-103.5 \" stroke=\"#000000\"/>\n",
       "<text fill=\"#000000\" font-family=\"Times,serif\" font-size=\"14.00\" text-anchor=\"middle\" x=\"214.9414\" y=\"-88.3\">output:</text>\n",
       "<polyline fill=\"none\" points=\"242.7759,-81.5 242.7759,-125.5 \" stroke=\"#000000\"/>\n",
       "<text fill=\"#000000\" font-family=\"Times,serif\" font-size=\"14.00\" text-anchor=\"middle\" x=\"284.6001\" y=\"-110.3\">(None, 384)</text>\n",
       "<polyline fill=\"none\" points=\"242.7759,-103.5 326.4243,-103.5 \" stroke=\"#000000\"/>\n",
       "<text fill=\"#000000\" font-family=\"Times,serif\" font-size=\"14.00\" text-anchor=\"middle\" x=\"284.6001\" y=\"-88.3\">(None, 384)</text>\n",
       "</g>\n",
       "<!-- 4876039504&#45;&gt;4876227696 -->\n",
       "<g class=\"edge\" id=\"edge12\">\n",
       "<title>4876039504-&gt;4876227696</title>\n",
       "<path d=\"M192.9639,-162.3664C192.9639,-154.1516 192.9639,-144.6579 192.9639,-135.7252\" fill=\"none\" stroke=\"#000000\"/>\n",
       "<polygon fill=\"#000000\" points=\"196.464,-135.6068 192.9639,-125.6068 189.464,-135.6069 196.464,-135.6068\" stroke=\"#000000\"/>\n",
       "</g>\n",
       "<!-- 4876624000 -->\n",
       "<g class=\"node\" id=\"node14\">\n",
       "<title>4876624000</title>\n",
       "<polygon fill=\"none\" points=\"71.1792,-.5 71.1792,-44.5 314.7485,-44.5 314.7485,-.5 71.1792,-.5\" stroke=\"#000000\"/>\n",
       "<text fill=\"#000000\" font-family=\"Times,serif\" font-size=\"14.00\" text-anchor=\"middle\" x=\"123.3052\" y=\"-18.3\">dense_4: Dense</text>\n",
       "<polyline fill=\"none\" points=\"175.4312,-.5 175.4312,-44.5 \" stroke=\"#000000\"/>\n",
       "<text fill=\"#000000\" font-family=\"Times,serif\" font-size=\"14.00\" text-anchor=\"middle\" x=\"203.2656\" y=\"-29.3\">input:</text>\n",
       "<polyline fill=\"none\" points=\"175.4312,-22.5 231.1001,-22.5 \" stroke=\"#000000\"/>\n",
       "<text fill=\"#000000\" font-family=\"Times,serif\" font-size=\"14.00\" text-anchor=\"middle\" x=\"203.2656\" y=\"-7.3\">output:</text>\n",
       "<polyline fill=\"none\" points=\"231.1001,-.5 231.1001,-44.5 \" stroke=\"#000000\"/>\n",
       "<text fill=\"#000000\" font-family=\"Times,serif\" font-size=\"14.00\" text-anchor=\"middle\" x=\"272.9243\" y=\"-29.3\">(None, 384)</text>\n",
       "<polyline fill=\"none\" points=\"231.1001,-22.5 314.7485,-22.5 \" stroke=\"#000000\"/>\n",
       "<text fill=\"#000000\" font-family=\"Times,serif\" font-size=\"14.00\" text-anchor=\"middle\" x=\"272.9243\" y=\"-7.3\">(None, 10)</text>\n",
       "</g>\n",
       "<!-- 4876227696&#45;&gt;4876624000 -->\n",
       "<g class=\"edge\" id=\"edge13\">\n",
       "<title>4876227696-&gt;4876624000</title>\n",
       "<path d=\"M192.9639,-81.3664C192.9639,-73.1516 192.9639,-63.6579 192.9639,-54.7252\" fill=\"none\" stroke=\"#000000\"/>\n",
       "<polygon fill=\"#000000\" points=\"196.464,-54.6068 192.9639,-44.6068 189.464,-54.6069 196.464,-54.6068\" stroke=\"#000000\"/>\n",
       "</g>\n",
       "</g>\n",
       "</svg>"
      ],
      "text/plain": [
       "<IPython.core.display.SVG object>"
      ]
     },
     "execution_count": 5,
     "metadata": {},
     "output_type": "execute_result"
    }
   ],
   "source": [
    "from IPython.display import SVG\n",
    "from keras.utils.vis_utils import model_to_dot\n",
    "\n",
    "%matplotlib inline\n",
    "\n",
    "SVG(model_to_dot(model, show_shapes=True).create(prog='dot', format='svg'))"
   ]
  },
  {
   "cell_type": "code",
   "execution_count": 29,
   "metadata": {},
   "outputs": [
    {
     "name": "stdout",
     "output_type": "stream",
     "text": [
      "Train on 40000 samples, validate on 10000 samples\n",
      "Epoch 1/50\n",
      " 4480/40000 [==>...........................] - ETA: 2:55 - loss: 2.5551 - acc: 0.1143"
     ]
    },
    {
     "ename": "KeyboardInterrupt",
     "evalue": "",
     "output_type": "error",
     "traceback": [
      "\u001b[0;31m---------------------------------------------------------------------------\u001b[0m",
      "\u001b[0;31mKeyboardInterrupt\u001b[0m                         Traceback (most recent call last)",
      "\u001b[0;32m<ipython-input-29-13872d276eff>\u001b[0m in \u001b[0;36m<module>\u001b[0;34m()\u001b[0m\n\u001b[1;32m      3\u001b[0m \u001b[0;31m# Test Loss and Accuracy -> [1.2675443865776062, 0.7175]\u001b[0m\u001b[0;34m\u001b[0m\u001b[0;34m\u001b[0m\u001b[0m\n\u001b[1;32m      4\u001b[0m \u001b[0;34m\u001b[0m\u001b[0m\n\u001b[0;32m----> 5\u001b[0;31m \u001b[0mhistory\u001b[0m \u001b[0;34m=\u001b[0m \u001b[0mmodel\u001b[0m\u001b[0;34m.\u001b[0m\u001b[0mfit\u001b[0m\u001b[0;34m(\u001b[0m\u001b[0mx_train\u001b[0m\u001b[0;34m,\u001b[0m \u001b[0my_train\u001b[0m\u001b[0;34m,\u001b[0m \u001b[0mepochs\u001b[0m\u001b[0;34m=\u001b[0m\u001b[0mepochs\u001b[0m\u001b[0;34m,\u001b[0m \u001b[0mbatch_size\u001b[0m\u001b[0;34m=\u001b[0m\u001b[0mbatch_size\u001b[0m\u001b[0;34m,\u001b[0m \u001b[0mvalidation_split\u001b[0m\u001b[0;34m=\u001b[0m\u001b[0mvalidation_split\u001b[0m\u001b[0;34m)\u001b[0m\u001b[0;34m\u001b[0m\u001b[0m\n\u001b[0m\u001b[1;32m      6\u001b[0m \u001b[0mperformance_test\u001b[0m \u001b[0;34m=\u001b[0m \u001b[0mmodel\u001b[0m\u001b[0;34m.\u001b[0m\u001b[0mevaluate\u001b[0m\u001b[0;34m(\u001b[0m\u001b[0mx_test\u001b[0m\u001b[0;34m,\u001b[0m \u001b[0my_test\u001b[0m\u001b[0;34m,\u001b[0m \u001b[0mbatch_size\u001b[0m\u001b[0;34m=\u001b[0m\u001b[0mbatch_size\u001b[0m\u001b[0;34m)\u001b[0m\u001b[0;34m\u001b[0m\u001b[0m\n\u001b[1;32m      7\u001b[0m \u001b[0mprint\u001b[0m\u001b[0;34m(\u001b[0m\u001b[0;34m'Test Loss and Accuracy ->'\u001b[0m\u001b[0;34m,\u001b[0m \u001b[0mperformance_test\u001b[0m\u001b[0;34m)\u001b[0m\u001b[0;34m\u001b[0m\u001b[0m\n",
      "\u001b[0;32m~/anaconda3/envs/gsshop/lib/python3.6/site-packages/keras/engine/training.py\u001b[0m in \u001b[0;36mfit\u001b[0;34m(self, x, y, batch_size, epochs, verbose, callbacks, validation_split, validation_data, shuffle, class_weight, sample_weight, initial_epoch, steps_per_epoch, validation_steps, **kwargs)\u001b[0m\n\u001b[1;32m   1035\u001b[0m                                         \u001b[0minitial_epoch\u001b[0m\u001b[0;34m=\u001b[0m\u001b[0minitial_epoch\u001b[0m\u001b[0;34m,\u001b[0m\u001b[0;34m\u001b[0m\u001b[0m\n\u001b[1;32m   1036\u001b[0m                                         \u001b[0msteps_per_epoch\u001b[0m\u001b[0;34m=\u001b[0m\u001b[0msteps_per_epoch\u001b[0m\u001b[0;34m,\u001b[0m\u001b[0;34m\u001b[0m\u001b[0m\n\u001b[0;32m-> 1037\u001b[0;31m                                         validation_steps=validation_steps)\n\u001b[0m\u001b[1;32m   1038\u001b[0m \u001b[0;34m\u001b[0m\u001b[0m\n\u001b[1;32m   1039\u001b[0m     def evaluate(self, x=None, y=None,\n",
      "\u001b[0;32m~/anaconda3/envs/gsshop/lib/python3.6/site-packages/keras/engine/training_arrays.py\u001b[0m in \u001b[0;36mfit_loop\u001b[0;34m(model, f, ins, out_labels, batch_size, epochs, verbose, callbacks, val_f, val_ins, shuffle, callback_metrics, initial_epoch, steps_per_epoch, validation_steps)\u001b[0m\n\u001b[1;32m    197\u001b[0m                     \u001b[0mins_batch\u001b[0m\u001b[0;34m[\u001b[0m\u001b[0mi\u001b[0m\u001b[0;34m]\u001b[0m \u001b[0;34m=\u001b[0m \u001b[0mins_batch\u001b[0m\u001b[0;34m[\u001b[0m\u001b[0mi\u001b[0m\u001b[0;34m]\u001b[0m\u001b[0;34m.\u001b[0m\u001b[0mtoarray\u001b[0m\u001b[0;34m(\u001b[0m\u001b[0;34m)\u001b[0m\u001b[0;34m\u001b[0m\u001b[0m\n\u001b[1;32m    198\u001b[0m \u001b[0;34m\u001b[0m\u001b[0m\n\u001b[0;32m--> 199\u001b[0;31m                 \u001b[0mouts\u001b[0m \u001b[0;34m=\u001b[0m \u001b[0mf\u001b[0m\u001b[0;34m(\u001b[0m\u001b[0mins_batch\u001b[0m\u001b[0;34m)\u001b[0m\u001b[0;34m\u001b[0m\u001b[0m\n\u001b[0m\u001b[1;32m    200\u001b[0m                 \u001b[0mouts\u001b[0m \u001b[0;34m=\u001b[0m \u001b[0mto_list\u001b[0m\u001b[0;34m(\u001b[0m\u001b[0mouts\u001b[0m\u001b[0;34m)\u001b[0m\u001b[0;34m\u001b[0m\u001b[0m\n\u001b[1;32m    201\u001b[0m                 \u001b[0;32mfor\u001b[0m \u001b[0ml\u001b[0m\u001b[0;34m,\u001b[0m \u001b[0mo\u001b[0m \u001b[0;32min\u001b[0m \u001b[0mzip\u001b[0m\u001b[0;34m(\u001b[0m\u001b[0mout_labels\u001b[0m\u001b[0;34m,\u001b[0m \u001b[0mouts\u001b[0m\u001b[0;34m)\u001b[0m\u001b[0;34m:\u001b[0m\u001b[0;34m\u001b[0m\u001b[0m\n",
      "\u001b[0;32m~/anaconda3/envs/gsshop/lib/python3.6/site-packages/keras/backend/tensorflow_backend.py\u001b[0m in \u001b[0;36m__call__\u001b[0;34m(self, inputs)\u001b[0m\n\u001b[1;32m   2664\u001b[0m                 \u001b[0;32mreturn\u001b[0m \u001b[0mself\u001b[0m\u001b[0;34m.\u001b[0m\u001b[0m_legacy_call\u001b[0m\u001b[0;34m(\u001b[0m\u001b[0minputs\u001b[0m\u001b[0;34m)\u001b[0m\u001b[0;34m\u001b[0m\u001b[0m\n\u001b[1;32m   2665\u001b[0m \u001b[0;34m\u001b[0m\u001b[0m\n\u001b[0;32m-> 2666\u001b[0;31m             \u001b[0;32mreturn\u001b[0m \u001b[0mself\u001b[0m\u001b[0;34m.\u001b[0m\u001b[0m_call\u001b[0m\u001b[0;34m(\u001b[0m\u001b[0minputs\u001b[0m\u001b[0;34m)\u001b[0m\u001b[0;34m\u001b[0m\u001b[0m\n\u001b[0m\u001b[1;32m   2667\u001b[0m         \u001b[0;32melse\u001b[0m\u001b[0;34m:\u001b[0m\u001b[0;34m\u001b[0m\u001b[0m\n\u001b[1;32m   2668\u001b[0m             \u001b[0;32mif\u001b[0m \u001b[0mpy_any\u001b[0m\u001b[0;34m(\u001b[0m\u001b[0mis_tensor\u001b[0m\u001b[0;34m(\u001b[0m\u001b[0mx\u001b[0m\u001b[0;34m)\u001b[0m \u001b[0;32mfor\u001b[0m \u001b[0mx\u001b[0m \u001b[0;32min\u001b[0m \u001b[0minputs\u001b[0m\u001b[0;34m)\u001b[0m\u001b[0;34m:\u001b[0m\u001b[0;34m\u001b[0m\u001b[0m\n",
      "\u001b[0;32m~/anaconda3/envs/gsshop/lib/python3.6/site-packages/keras/backend/tensorflow_backend.py\u001b[0m in \u001b[0;36m_call\u001b[0;34m(self, inputs)\u001b[0m\n\u001b[1;32m   2634\u001b[0m                                 \u001b[0msymbol_vals\u001b[0m\u001b[0;34m,\u001b[0m\u001b[0;34m\u001b[0m\u001b[0m\n\u001b[1;32m   2635\u001b[0m                                 session)\n\u001b[0;32m-> 2636\u001b[0;31m         \u001b[0mfetched\u001b[0m \u001b[0;34m=\u001b[0m \u001b[0mself\u001b[0m\u001b[0;34m.\u001b[0m\u001b[0m_callable_fn\u001b[0m\u001b[0;34m(\u001b[0m\u001b[0;34m*\u001b[0m\u001b[0marray_vals\u001b[0m\u001b[0;34m)\u001b[0m\u001b[0;34m\u001b[0m\u001b[0m\n\u001b[0m\u001b[1;32m   2637\u001b[0m         \u001b[0;32mreturn\u001b[0m \u001b[0mfetched\u001b[0m\u001b[0;34m[\u001b[0m\u001b[0;34m:\u001b[0m\u001b[0mlen\u001b[0m\u001b[0;34m(\u001b[0m\u001b[0mself\u001b[0m\u001b[0;34m.\u001b[0m\u001b[0moutputs\u001b[0m\u001b[0;34m)\u001b[0m\u001b[0;34m]\u001b[0m\u001b[0;34m\u001b[0m\u001b[0m\n\u001b[1;32m   2638\u001b[0m \u001b[0;34m\u001b[0m\u001b[0m\n",
      "\u001b[0;32m~/anaconda3/envs/gsshop/lib/python3.6/site-packages/tensorflow/python/client/session.py\u001b[0m in \u001b[0;36m__call__\u001b[0;34m(self, *args)\u001b[0m\n\u001b[1;32m   1449\u001b[0m         \u001b[0;32mif\u001b[0m \u001b[0mself\u001b[0m\u001b[0;34m.\u001b[0m\u001b[0m_session\u001b[0m\u001b[0;34m.\u001b[0m\u001b[0m_created_with_new_api\u001b[0m\u001b[0;34m:\u001b[0m\u001b[0;34m\u001b[0m\u001b[0m\n\u001b[1;32m   1450\u001b[0m           return tf_session.TF_SessionRunCallable(\n\u001b[0;32m-> 1451\u001b[0;31m               self._session._session, self._handle, args, status, None)\n\u001b[0m\u001b[1;32m   1452\u001b[0m         \u001b[0;32melse\u001b[0m\u001b[0;34m:\u001b[0m\u001b[0;34m\u001b[0m\u001b[0m\n\u001b[1;32m   1453\u001b[0m           return tf_session.TF_DeprecatedSessionRunCallable(\n",
      "\u001b[0;31mKeyboardInterrupt\u001b[0m: "
     ]
    }
   ],
   "source": [
    "# running on GCP\n",
    "# acc: 0.8691 - val_loss: 1.5725 - val_acc: 0.7358\n",
    "# Test Loss and Accuracy -> [1.2675443865776062, 0.7175]\n",
    "\n",
    "history = model.fit(x_train, y_train, epochs=epochs, batch_size=batch_size, validation_split=validation_split)\n",
    "performance_test = model.evaluate(x_test, y_test, batch_size=batch_size)\n",
    "print('Test Loss and Accuracy ->', performance_test)"
   ]
  },
  {
   "cell_type": "code",
   "execution_count": null,
   "metadata": {},
   "outputs": [],
   "source": []
  }
 ],
 "metadata": {
  "kernelspec": {
   "display_name": "Python 3",
   "language": "python",
   "name": "python3"
  },
  "language_info": {
   "codemirror_mode": {
    "name": "ipython",
    "version": 3
   },
   "file_extension": ".py",
   "mimetype": "text/x-python",
   "name": "python",
   "nbconvert_exporter": "python",
   "pygments_lexer": "ipython3",
   "version": "3.6.4"
  }
 },
 "nbformat": 4,
 "nbformat_minor": 1
}
