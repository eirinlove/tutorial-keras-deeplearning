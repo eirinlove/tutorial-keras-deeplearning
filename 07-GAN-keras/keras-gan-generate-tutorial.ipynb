{
 "cells": [
  {
   "cell_type": "code",
   "execution_count": 7,
   "metadata": {},
   "outputs": [],
   "source": [
    "import numpy as np\n",
    "import matplotlib.pyplot as plt\n",
    "\n",
    "from keras import models\n",
    "from keras.layers import Dense, Conv1D, Reshape, Flatten, Lambda\n",
    "from keras.optimizers import Adam\n",
    "from keras import backend as K\n",
    "\n",
    "\n",
    "def add_decorate(x):\n",
    "    \"\"\"\n",
    "    axis = -1 --> last dimension in an array\n",
    "    \"\"\"\n",
    "    m = K.mean(x, axis=-1, keepdims=True)\n",
    "    d = K.square(x - m)\n",
    "    return K.concatenate([x, d], axis=-1)\n",
    "\n",
    "\n",
    "def add_decorate_shape(input_shape):\n",
    "    shape = list(input_shape)\n",
    "    assert len(shape) == 2\n",
    "    shape[1] *= 2\n",
    "    return tuple(shape)\n",
    "\n",
    "# model.add(Lambda(antirectifier, output_shape=antirectifier_output_shape))\n",
    "\n",
    "\n",
    "lr = 2e-4  # 0.0002\n",
    "adam = Adam(lr=lr, beta_1=0.9, beta_2=0.999)\n",
    "\n",
    "\n",
    "def model_compile(model):\n",
    "    return model.compile(loss='binary_crossentropy', optimizer=adam, metrics=['accuracy'])\n",
    "\n",
    "\n",
    "class GAN:\n",
    "    def __init__(self, ni_D, nh_D, nh_G):\n",
    "        self.ni_D = ni_D\n",
    "        self.nh_D = nh_D\n",
    "        self.nh_G = nh_G\n",
    "\n",
    "        self.D = self.gen_D()\n",
    "        self.G = self.gen_G()\n",
    "        self.GD = self.make_GD()\n",
    "\n",
    "    def gen_D(self):\n",
    "        ni_D = self.ni_D\n",
    "        nh_D = self.nh_D\n",
    "        D = models.Sequential()\n",
    "        D.add(Lambda(add_decorate, output_shape=None, input_shape=(ni_D,))) \n",
    "        # np.shape(100) == np.shape(100,)과 같은것. 그냥 문법적인 인정을 하고 넘어가자\n",
    "        # y = np.zeros((2, 3, 4)) 과 y.shape = (24,) 를 프린트해보자.\n",
    "        D.add(Dense(nh_D, activation='relu'))\n",
    "        D.add(Dense(nh_D, activation='relu'))\n",
    "        D.add(Dense(1, activation='sigmoid'))\n",
    "\n",
    "        model_compile(D)\n",
    "        return D\n",
    "\n",
    "    def gen_G(self):\n",
    "        ni_D = self.ni_D\n",
    "        nh_G = self.nh_D\n",
    "\n",
    "        G = models.Sequential()  # (Batch, ni_D)\n",
    "        G.add(Reshape((ni_D, 1), input_shape=(ni_D,)))  # (Batch, steps=ni_D, input_dim=1)\n",
    "        G.add(Conv1D(nh_G, 1, activation='relu'))  # (Batch, ni_D, nh_G)\n",
    "        G.add(Conv1D(nh_G, 1, activation='sigmoid'))  # (Batch, ni_D, nh_G)\n",
    "        G.add(Conv1D(1, 1))  # (Batch, ni_D, 1)\n",
    "        G.add(Flatten())  # (Batch, ni_D)\n",
    "\n",
    "        model_compile(G)\n",
    "        return G\n",
    "\n",
    "    def make_GD(self):\n",
    "        G, D = self.G, self.D\n",
    "        GD = models.Sequential()\n",
    "        GD.add(G)\n",
    "        GD.add(D)\n",
    "        D.trainable = False\n",
    "        model_compile(GD)\n",
    "        D.trainable = True\n",
    "        return GD\n",
    "\n",
    "    def D_train_on_batch(self, Real, Gen):\n",
    "        D = self.D\n",
    "        X = np.concatenate([Real, Gen], axis=0)\n",
    "        y = np.array([1] * Real.shape[0] + [0] * Gen.shape[0])\n",
    "        D.train_on_batch(X, y)\n",
    "\n",
    "    def GD_train_on_batch(self, Z):\n",
    "        GD = self.GD\n",
    "        y = np.array([1] * Z.shape[0])\n",
    "        GD.train_on_batch(Z, y)\n",
    "\n",
    "\n",
    "class Data:\n",
    "    def __init__(self, mu, sigma, ni_D):\n",
    "        self.real_sample = lambda n_batch: np.random.normal(mu, sigma, (n_batch, ni_D))\n",
    "        self.in_sample = lambda n_batch: np.random.rand(n_batch, ni_D)\n",
    "\n",
    "\n",
    "class Machine:\n",
    "    def __init__(self, n_batch=10, ni_D=100):\n",
    "        data_mean = 4\n",
    "        data_stddev = 1.25\n",
    "\n",
    "        self.n_iter_D = 1\n",
    "        self.n_iter_G = 5\n",
    "\n",
    "        self.data = Data(data_mean, data_stddev, ni_D)\n",
    "        self.gan = GAN(ni_D=ni_D, nh_D=50, nh_G=50)\n",
    "\n",
    "        self.n_batch = n_batch\n",
    "        # self.ni_D = ni_D\n",
    "\n",
    "    def train_D(self):\n",
    "        gan = self.gan\n",
    "        n_batch = self.n_batch\n",
    "        data = self.data\n",
    "\n",
    "        # Real data\n",
    "        Real = data.real_sample(n_batch)  # (n_batch, ni_D)\n",
    "        # print(Real.shape)\n",
    "        # Generated data\n",
    "        Z = data.in_sample(n_batch)  # (n_batch, ni_D)\n",
    "        Gen = gan.G.predict(Z)  # (n_batch, ni_D)\n",
    "        # print(Gen.shape)\n",
    "\n",
    "        gan.D.trainable = True\n",
    "        gan.D_train_on_batch(Real, Gen)\n",
    "\n",
    "    def train_GD(self):\n",
    "        gan = self.gan\n",
    "        n_batch = self.n_batch\n",
    "        data = self.data\n",
    "        # Seed data for data generation\n",
    "        Z = data.in_sample(n_batch)\n",
    "\n",
    "        gan.D.trainable = False\n",
    "        gan.GD_train_on_batch(Z)\n",
    "\n",
    "    def train_each(self):\n",
    "        for it in range(self.n_iter_D):\n",
    "            self.train_D()\n",
    "        for it in range(self.n_iter_G):\n",
    "            self.train_GD()\n",
    "\n",
    "    def train(self, epochs):\n",
    "        for epoch in range(epochs):\n",
    "            self.train_each()\n",
    "\n",
    "    def test(self, n_test):\n",
    "        \"\"\"\n",
    "        generate a new image\n",
    "        \"\"\"\n",
    "        gan = self.gan\n",
    "        data = self.data\n",
    "        Z = data.in_sample(n_test)\n",
    "        Gen = gan.G.predict(Z)\n",
    "        return Gen, Z\n",
    "\n",
    "    def show_hist(self, Real, Gen, Z):\n",
    "        plt.hist(Real.reshape(-1), histtype='step', label='Real')\n",
    "        plt.hist(Gen.reshape(-1), histtype='step', label='Generated')\n",
    "        plt.hist(Z.reshape(-1), histtype='step', label='Input')\n",
    "        plt.legend(loc=0)\n",
    "\n",
    "    def test_and_show(self, n_test):\n",
    "        data = self.data\n",
    "        Gen, Z = self.test(n_test)\n",
    "        Real = data.real_sample(n_test)\n",
    "        self.show_hist(Real, Gen, Z)\n",
    "        Machine.print_stat(Real, Gen)\n",
    "\n",
    "    def run_epochs(self, epochs, n_test):\n",
    "        \"\"\"\n",
    "        train GAN and show the results\n",
    "        for showing, the original and the artificial results will be compared\n",
    "        \"\"\"\n",
    "        self.train(epochs)\n",
    "        self.test_and_show(n_test)\n",
    "\n",
    "    def run(self, n_repeat=200, n_show=200, n_test=100):\n",
    "        for ii in range(n_repeat):\n",
    "            print('Stage', ii, '(Epoch: {})'.format(ii * n_show))\n",
    "            self.run_epochs(n_show, n_test)\n",
    "            plt.show()\n",
    "\n",
    "    @staticmethod\n",
    "    def print_stat(Real, Gen):\n",
    "        def stat(d):\n",
    "            return (np.mean(d), np.std(d))\n",
    "        print('Mean and Std of Real:', stat(Real))\n",
    "        print('Mean and Std of Gen:', stat(Gen))\n",
    "\n",
    "\n",
    "# class GAN_Pure(GAN):\n",
    "#     def __init__(self, ni_D, nh_D, nh_G):\n",
    "#         '''\n",
    "#         Discriminator input is not added\n",
    "#         '''\n",
    "#         super().__init__(ni_D, nh_D, nh_G)\n",
    "\n",
    "#     def gen_D(self):\n",
    "#         ni_D = self.ni_D\n",
    "#         nh_D = self.nh_D\n",
    "#         D = models.Sequential()\n",
    "#         # D.add(Lambda(add_decorate, output_shape=add_decorate_shape, input_shape=(ni_D,)))\n",
    "#         D.add(Dense(nh_D, activation='relu', input_shape=(ni_D,)))\n",
    "#         D.add(Dense(nh_D, activation='relu'))\n",
    "#         D.add(Dense(1, activation='sigmoid'))\n",
    "\n",
    "#         model_compile(D)\n",
    "#         return D\n",
    "\n",
    "\n",
    "# class Machine_Pure(Machine):\n",
    "#     def __init__(self, n_batch=10, ni_D=100):\n",
    "#         data_mean = 4\n",
    "#         data_stddev = 1.25\n",
    "\n",
    "#         self.data = Data(data_mean, data_stddev, ni_D)\n",
    "#         self.gan = GAN_Pure(ni_D=ni_D, nh_D=50, nh_G=50)\n",
    "\n",
    "#         self.n_batch = n_batch\n",
    "#         # self.ni_D = ni_D\n",
    "\n",
    "\n",
    "def main():\n",
    "    machine = Machine(n_batch=1, ni_D=100)\n",
    "    machine.run(n_repeat=2, n_show=200, n_test=100)"
   ]
  },
  {
   "cell_type": "code",
   "execution_count": 8,
   "metadata": {},
   "outputs": [
    {
     "name": "stdout",
     "output_type": "stream",
     "text": [
      "Stage 0 (Epoch: 0)\n",
      "Mean and Std of Real: (3.9964561279344593, 1.2453499005846604)\n",
      "Mean and Std of Gen: (2.4481711, 1.0697749)\n"
     ]
    },
    {
     "data": {
      "image/png": "[encoded data removed]",
      "text/plain": [
       "<Figure size 432x288 with 1 Axes>"
      ]
     },
     "metadata": {},
     "output_type": "display_data"
    },
    {
     "name": "stdout",
     "output_type": "stream",
     "text": [
      "Stage 1 (Epoch: 200)\n",
      "Mean and Std of Real: (4.015457228513548, 1.255249230022976)\n",
      "Mean and Std of Gen: (3.5047126, 1.2821908)\n"
     ]
    },
    {
     "data": {
      "image/png": "[encoded data removed]",
      "text/plain": [
       "<Figure size 432x288 with 1 Axes>"
      ]
     },
     "metadata": {},
     "output_type": "display_data"
    }
   ],
   "source": [
    "main()"
   ]
  },
  {
   "cell_type": "code",
   "execution_count": 4,
   "metadata": {},
   "outputs": [],
   "source": [
    "real_sample = lambda n_batch: np.random.normal(4, 1.25, (n_batch, 100))"
   ]
  },
  {
   "cell_type": "code",
   "execution_count": 5,
   "metadata": {},
   "outputs": [
    {
     "data": {
      "text/plain": [
       "array([[3.03176604, 4.38481172, 3.89092615, 2.38223501, 4.84147091,\n",
       "        5.54978007, 0.69236158, 3.72297457, 4.83506179, 6.3812466 ,\n",
       "        4.99425978, 4.21388802, 3.75130963, 4.88945395, 3.43776848,\n",
       "        3.70038717, 2.98278286, 4.61924152, 3.73936661, 4.50842032,\n",
       "        4.26222458, 6.01363192, 3.79830779, 5.06986036, 3.29429154,\n",
       "        4.78842465, 5.91559671, 3.34232823, 3.0317103 , 2.21423516,\n",
       "        2.58322523, 4.31357318, 4.26452176, 4.16518086, 4.73195176,\n",
       "        3.61605351, 3.14664103, 6.35642164, 5.73860371, 4.21398384,\n",
       "        1.2282522 , 3.64658645, 2.72719993, 5.29714702, 3.16408339,\n",
       "        3.26758316, 4.59721416, 1.99388293, 5.18377593, 4.22602484,\n",
       "        4.01549768, 5.42989781, 3.5983266 , 3.5213028 , 1.85560193,\n",
       "        5.81121125, 6.47729239, 2.84211022, 3.7788841 , 2.28966035,\n",
       "        6.14659495, 2.9581311 , 3.87290564, 4.34832173, 6.09085647,\n",
       "        1.42356613, 4.1874819 , 4.12886261, 4.19609768, 2.25220495,\n",
       "        5.7930263 , 4.49100526, 4.52309225, 6.09471942, 5.51617513,\n",
       "        4.76748447, 4.16270288, 5.85235663, 2.4100108 , 3.19988272,\n",
       "        2.13746218, 3.38945221, 3.1772448 , 5.39144256, 5.31352914,\n",
       "        2.85891758, 2.92399146, 4.87486253, 6.07489331, 4.56923911,\n",
       "        5.29481436, 4.36506203, 3.15399938, 6.17529557, 4.78771781,\n",
       "        4.4082306 , 4.00634681, 3.70626908, 4.20470038, 3.42740377]])"
      ]
     },
     "execution_count": 5,
     "metadata": {},
     "output_type": "execute_result"
    }
   ],
   "source": [
    "real_sample(1)"
   ]
  },
  {
   "cell_type": "code",
   "execution_count": 31,
   "metadata": {},
   "outputs": [],
   "source": [
    "import os\n",
    "import numpy\n",
    "import matplotlib.pyplot as plt\n",
    "from keras.models import Sequential\n",
    "from keras.layers import Dense\n",
    "from keras.layers import Dropout\n",
    "from keras.layers import Flatten\n",
    "from keras.layers.convolutional import Conv2D\n",
    "from keras.layers.convolutional import MaxPooling2D\n",
    "from keras.utils import np_utils\n",
    "from keras.datasets import cifar10\n",
    "from keras import optimizers\n",
    "\n",
    "\n",
    "def add_decorate(x):\n",
    "    \"\"\"\n",
    "    axis = -1 --> last dimension in an array\n",
    "    \"\"\"\n",
    "    m = K.mean(x, axis=-1, keepdims=True)\n",
    "    d = K.square(x - m)\n",
    "    return K.concatenate([x, d], axis=-1)\n",
    "\n",
    "\n",
    "learning_rate = 0.001\n",
    "\n",
    "model = Sequential()\n",
    "model.add(Lambda(add_decorate, output_shape=None, input_shape=(100,)))\n",
    "model.add(Dense(50, activation='relu'))\n",
    "model.add(Dense(50, activation='relu'))\n",
    "model.add(Dense(1, activation='sigmoid'))\n",
    "\n",
    "optimizer = optimizers.RMSprop(lr=learning_rate, rho=0.9, epsilon=None, decay=0.0)\n",
    "model.compile(loss='categorical_crossentropy', optimizer=optimizer, metrics=['accuracy'])"
   ]
  },
  {
   "cell_type": "code",
   "execution_count": 11,
   "metadata": {},
   "outputs": [
    {
     "data": {
      "image/svg+xml": [
       "<svg height=\"377pt\" viewBox=\"0.00 0.00 323.89 377.00\" width=\"324pt\" xmlns=\"http://www.w3.org/2000/svg\" xmlns:xlink=\"http://www.w3.org/1999/xlink\">\n",
       "<g class=\"graph\" id=\"graph0\" transform=\"scale(1 1) rotate(0) translate(4 373)\">\n",
       "<title>G</title>\n",
       "<polygon fill=\"#ffffff\" points=\"-4,4 -4,-373 319.8867,-373 319.8867,4 -4,4\" stroke=\"transparent\"/>\n",
       "<!-- 4974130120 -->\n",
       "<g class=\"node\" id=\"node1\">\n",
       "<title>4974130120</title>\n",
       "<polygon fill=\"none\" points=\"0,-324.5 0,-368.5 315.8867,-368.5 315.8867,-324.5 0,-324.5\" stroke=\"#000000\"/>\n",
       "<text fill=\"#000000\" font-family=\"Times,serif\" font-size=\"14.00\" text-anchor=\"middle\" x=\"88.2847\" y=\"-342.3\">lambda_5_input: InputLayer</text>\n",
       "<polyline fill=\"none\" points=\"176.5693,-324.5 176.5693,-368.5 \" stroke=\"#000000\"/>\n",
       "<text fill=\"#000000\" font-family=\"Times,serif\" font-size=\"14.00\" text-anchor=\"middle\" x=\"204.4038\" y=\"-353.3\">input:</text>\n",
       "<polyline fill=\"none\" points=\"176.5693,-346.5 232.2383,-346.5 \" stroke=\"#000000\"/>\n",
       "<text fill=\"#000000\" font-family=\"Times,serif\" font-size=\"14.00\" text-anchor=\"middle\" x=\"204.4038\" y=\"-331.3\">output:</text>\n",
       "<polyline fill=\"none\" points=\"232.2383,-324.5 232.2383,-368.5 \" stroke=\"#000000\"/>\n",
       "<text fill=\"#000000\" font-family=\"Times,serif\" font-size=\"14.00\" text-anchor=\"middle\" x=\"274.0625\" y=\"-353.3\">(None, 100)</text>\n",
       "<polyline fill=\"none\" points=\"232.2383,-346.5 315.8867,-346.5 \" stroke=\"#000000\"/>\n",
       "<text fill=\"#000000\" font-family=\"Times,serif\" font-size=\"14.00\" text-anchor=\"middle\" x=\"274.0625\" y=\"-331.3\">(None, 100)</text>\n",
       "</g>\n",
       "<!-- 4974129896 -->\n",
       "<g class=\"node\" id=\"node2\">\n",
       "<title>4974129896</title>\n",
       "<polygon fill=\"none\" points=\"26.0518,-243.5 26.0518,-287.5 289.835,-287.5 289.835,-243.5 26.0518,-243.5\" stroke=\"#000000\"/>\n",
       "<text fill=\"#000000\" font-family=\"Times,serif\" font-size=\"14.00\" text-anchor=\"middle\" x=\"88.2847\" y=\"-261.3\">lambda_5: Lambda</text>\n",
       "<polyline fill=\"none\" points=\"150.5176,-243.5 150.5176,-287.5 \" stroke=\"#000000\"/>\n",
       "<text fill=\"#000000\" font-family=\"Times,serif\" font-size=\"14.00\" text-anchor=\"middle\" x=\"178.3521\" y=\"-272.3\">input:</text>\n",
       "<polyline fill=\"none\" points=\"150.5176,-265.5 206.1865,-265.5 \" stroke=\"#000000\"/>\n",
       "<text fill=\"#000000\" font-family=\"Times,serif\" font-size=\"14.00\" text-anchor=\"middle\" x=\"178.3521\" y=\"-250.3\">output:</text>\n",
       "<polyline fill=\"none\" points=\"206.1865,-243.5 206.1865,-287.5 \" stroke=\"#000000\"/>\n",
       "<text fill=\"#000000\" font-family=\"Times,serif\" font-size=\"14.00\" text-anchor=\"middle\" x=\"248.0107\" y=\"-272.3\">(None, 100)</text>\n",
       "<polyline fill=\"none\" points=\"206.1865,-265.5 289.835,-265.5 \" stroke=\"#000000\"/>\n",
       "<text fill=\"#000000\" font-family=\"Times,serif\" font-size=\"14.00\" text-anchor=\"middle\" x=\"248.0107\" y=\"-250.3\">(None, 200)</text>\n",
       "</g>\n",
       "<!-- 4974130120&#45;&gt;4974129896 -->\n",
       "<g class=\"edge\" id=\"edge1\">\n",
       "<title>4974130120-&gt;4974129896</title>\n",
       "<path d=\"M157.9434,-324.3664C157.9434,-316.1516 157.9434,-306.6579 157.9434,-297.7252\" fill=\"none\" stroke=\"#000000\"/>\n",
       "<polygon fill=\"#000000\" points=\"161.4435,-297.6068 157.9434,-287.6068 154.4435,-297.6069 161.4435,-297.6068\" stroke=\"#000000\"/>\n",
       "</g>\n",
       "<!-- 4974129952 -->\n",
       "<g class=\"node\" id=\"node3\">\n",
       "<title>4974129952</title>\n",
       "<polygon fill=\"none\" points=\"32.6587,-162.5 32.6587,-206.5 283.228,-206.5 283.228,-162.5 32.6587,-162.5\" stroke=\"#000000\"/>\n",
       "<text fill=\"#000000\" font-family=\"Times,serif\" font-size=\"14.00\" text-anchor=\"middle\" x=\"88.2847\" y=\"-180.3\">dense_13: Dense</text>\n",
       "<polyline fill=\"none\" points=\"143.9106,-162.5 143.9106,-206.5 \" stroke=\"#000000\"/>\n",
       "<text fill=\"#000000\" font-family=\"Times,serif\" font-size=\"14.00\" text-anchor=\"middle\" x=\"171.7451\" y=\"-191.3\">input:</text>\n",
       "<polyline fill=\"none\" points=\"143.9106,-184.5 199.5796,-184.5 \" stroke=\"#000000\"/>\n",
       "<text fill=\"#000000\" font-family=\"Times,serif\" font-size=\"14.00\" text-anchor=\"middle\" x=\"171.7451\" y=\"-169.3\">output:</text>\n",
       "<polyline fill=\"none\" points=\"199.5796,-162.5 199.5796,-206.5 \" stroke=\"#000000\"/>\n",
       "<text fill=\"#000000\" font-family=\"Times,serif\" font-size=\"14.00\" text-anchor=\"middle\" x=\"241.4038\" y=\"-191.3\">(None, 200)</text>\n",
       "<polyline fill=\"none\" points=\"199.5796,-184.5 283.228,-184.5 \" stroke=\"#000000\"/>\n",
       "<text fill=\"#000000\" font-family=\"Times,serif\" font-size=\"14.00\" text-anchor=\"middle\" x=\"241.4038\" y=\"-169.3\">(None, 50)</text>\n",
       "</g>\n",
       "<!-- 4974129896&#45;&gt;4974129952 -->\n",
       "<g class=\"edge\" id=\"edge2\">\n",
       "<title>4974129896-&gt;4974129952</title>\n",
       "<path d=\"M157.9434,-243.3664C157.9434,-235.1516 157.9434,-225.6579 157.9434,-216.7252\" fill=\"none\" stroke=\"#000000\"/>\n",
       "<polygon fill=\"#000000\" points=\"161.4435,-216.6068 157.9434,-206.6068 154.4435,-216.6069 161.4435,-216.6068\" stroke=\"#000000\"/>\n",
       "</g>\n",
       "<!-- 4974130288 -->\n",
       "<g class=\"node\" id=\"node4\">\n",
       "<title>4974130288</title>\n",
       "<polygon fill=\"none\" points=\"36.1587,-81.5 36.1587,-125.5 279.728,-125.5 279.728,-81.5 36.1587,-81.5\" stroke=\"#000000\"/>\n",
       "<text fill=\"#000000\" font-family=\"Times,serif\" font-size=\"14.00\" text-anchor=\"middle\" x=\"91.7847\" y=\"-99.3\">dense_14: Dense</text>\n",
       "<polyline fill=\"none\" points=\"147.4106,-81.5 147.4106,-125.5 \" stroke=\"#000000\"/>\n",
       "<text fill=\"#000000\" font-family=\"Times,serif\" font-size=\"14.00\" text-anchor=\"middle\" x=\"175.2451\" y=\"-110.3\">input:</text>\n",
       "<polyline fill=\"none\" points=\"147.4106,-103.5 203.0796,-103.5 \" stroke=\"#000000\"/>\n",
       "<text fill=\"#000000\" font-family=\"Times,serif\" font-size=\"14.00\" text-anchor=\"middle\" x=\"175.2451\" y=\"-88.3\">output:</text>\n",
       "<polyline fill=\"none\" points=\"203.0796,-81.5 203.0796,-125.5 \" stroke=\"#000000\"/>\n",
       "<text fill=\"#000000\" font-family=\"Times,serif\" font-size=\"14.00\" text-anchor=\"middle\" x=\"241.4038\" y=\"-110.3\">(None, 50)</text>\n",
       "<polyline fill=\"none\" points=\"203.0796,-103.5 279.728,-103.5 \" stroke=\"#000000\"/>\n",
       "<text fill=\"#000000\" font-family=\"Times,serif\" font-size=\"14.00\" text-anchor=\"middle\" x=\"241.4038\" y=\"-88.3\">(None, 50)</text>\n",
       "</g>\n",
       "<!-- 4974129952&#45;&gt;4974130288 -->\n",
       "<g class=\"edge\" id=\"edge3\">\n",
       "<title>4974129952-&gt;4974130288</title>\n",
       "<path d=\"M157.9434,-162.3664C157.9434,-154.1516 157.9434,-144.6579 157.9434,-135.7252\" fill=\"none\" stroke=\"#000000\"/>\n",
       "<polygon fill=\"#000000\" points=\"161.4435,-135.6068 157.9434,-125.6068 154.4435,-135.6069 161.4435,-135.6068\" stroke=\"#000000\"/>\n",
       "</g>\n",
       "<!-- 4974130904 -->\n",
       "<g class=\"node\" id=\"node5\">\n",
       "<title>4974130904</title>\n",
       "<polygon fill=\"none\" points=\"36.1587,-.5 36.1587,-44.5 279.728,-44.5 279.728,-.5 36.1587,-.5\" stroke=\"#000000\"/>\n",
       "<text fill=\"#000000\" font-family=\"Times,serif\" font-size=\"14.00\" text-anchor=\"middle\" x=\"91.7847\" y=\"-18.3\">dense_15: Dense</text>\n",
       "<polyline fill=\"none\" points=\"147.4106,-.5 147.4106,-44.5 \" stroke=\"#000000\"/>\n",
       "<text fill=\"#000000\" font-family=\"Times,serif\" font-size=\"14.00\" text-anchor=\"middle\" x=\"175.2451\" y=\"-29.3\">input:</text>\n",
       "<polyline fill=\"none\" points=\"147.4106,-22.5 203.0796,-22.5 \" stroke=\"#000000\"/>\n",
       "<text fill=\"#000000\" font-family=\"Times,serif\" font-size=\"14.00\" text-anchor=\"middle\" x=\"175.2451\" y=\"-7.3\">output:</text>\n",
       "<polyline fill=\"none\" points=\"203.0796,-.5 203.0796,-44.5 \" stroke=\"#000000\"/>\n",
       "<text fill=\"#000000\" font-family=\"Times,serif\" font-size=\"14.00\" text-anchor=\"middle\" x=\"241.4038\" y=\"-29.3\">(None, 50)</text>\n",
       "<polyline fill=\"none\" points=\"203.0796,-22.5 279.728,-22.5 \" stroke=\"#000000\"/>\n",
       "<text fill=\"#000000\" font-family=\"Times,serif\" font-size=\"14.00\" text-anchor=\"middle\" x=\"241.4038\" y=\"-7.3\">(None, 1)</text>\n",
       "</g>\n",
       "<!-- 4974130288&#45;&gt;4974130904 -->\n",
       "<g class=\"edge\" id=\"edge4\">\n",
       "<title>4974130288-&gt;4974130904</title>\n",
       "<path d=\"M157.9434,-81.3664C157.9434,-73.1516 157.9434,-63.6579 157.9434,-54.7252\" fill=\"none\" stroke=\"#000000\"/>\n",
       "<polygon fill=\"#000000\" points=\"161.4435,-54.6068 157.9434,-44.6068 154.4435,-54.6069 161.4435,-54.6068\" stroke=\"#000000\"/>\n",
       "</g>\n",
       "</g>\n",
       "</svg>"
      ],
      "text/plain": [
       "<IPython.core.display.SVG object>"
      ]
     },
     "execution_count": 11,
     "metadata": {},
     "output_type": "execute_result"
    }
   ],
   "source": [
    "from IPython.display import SVG\n",
    "from keras.utils.vis_utils import model_to_dot\n",
    "\n",
    "%matplotlib inline\n",
    "\n",
    "SVG(model_to_dot(model, show_shapes=True).create(prog='dot', format='svg'))"
   ]
  },
  {
   "cell_type": "code",
   "execution_count": 15,
   "metadata": {},
   "outputs": [],
   "source": [
    "G = Sequential()\n",
    "G = models.Sequential()  # (Batch, ni_D)\n",
    "G.add(Reshape((100, 1), input_shape=(100,)))  # (Batch, steps=ni_D, input_dim=1)\n",
    "G.add(Conv1D(50, 1, activation='relu'))  # (Batch, ni_D, nh_G)\n",
    "G.add(Conv1D(50, 1, activation='sigmoid'))  # (Batch, ni_D, nh_G)\n",
    "G.add(Conv1D(1, 1))  # (Batch, ni_D, 1)\n",
    "G.add(Flatten())  # (Batch, ni_D)\n",
    "optimizer = optimizers.RMSprop(lr=learning_rate, rho=0.9, epsilon=None, decay=0.0)\n",
    "G.compile(loss='categorical_crossentropy', optimizer=optimizer, metrics=['accuracy'])"
   ]
  },
  {
   "cell_type": "code",
   "execution_count": 13,
   "metadata": {},
   "outputs": [
    {
     "data": {
      "image/svg+xml": [
       "<svg height=\"458pt\" viewBox=\"0.00 0.00 325.43 458.00\" width=\"325pt\" xmlns=\"http://www.w3.org/2000/svg\" xmlns:xlink=\"http://www.w3.org/1999/xlink\">\n",
       "<g class=\"graph\" id=\"graph0\" transform=\"scale(1 1) rotate(0) translate(4 454)\">\n",
       "<title>G</title>\n",
       "<polygon fill=\"#ffffff\" points=\"-4,4 -4,-454 321.4316,-454 321.4316,4 -4,4\" stroke=\"transparent\"/>\n",
       "<!-- 4980219352 -->\n",
       "<g class=\"node\" id=\"node1\">\n",
       "<title>4980219352</title>\n",
       "<polygon fill=\"none\" points=\"0,-405.5 0,-449.5 317.4316,-449.5 317.4316,-405.5 0,-405.5\" stroke=\"#000000\"/>\n",
       "<text fill=\"#000000\" font-family=\"Times,serif\" font-size=\"14.00\" text-anchor=\"middle\" x=\"89.0571\" y=\"-423.3\">reshape_4_input: InputLayer</text>\n",
       "<polyline fill=\"none\" points=\"178.1143,-405.5 178.1143,-449.5 \" stroke=\"#000000\"/>\n",
       "<text fill=\"#000000\" font-family=\"Times,serif\" font-size=\"14.00\" text-anchor=\"middle\" x=\"205.9487\" y=\"-434.3\">input:</text>\n",
       "<polyline fill=\"none\" points=\"178.1143,-427.5 233.7832,-427.5 \" stroke=\"#000000\"/>\n",
       "<text fill=\"#000000\" font-family=\"Times,serif\" font-size=\"14.00\" text-anchor=\"middle\" x=\"205.9487\" y=\"-412.3\">output:</text>\n",
       "<polyline fill=\"none\" points=\"233.7832,-405.5 233.7832,-449.5 \" stroke=\"#000000\"/>\n",
       "<text fill=\"#000000\" font-family=\"Times,serif\" font-size=\"14.00\" text-anchor=\"middle\" x=\"275.6074\" y=\"-434.3\">(None, 100)</text>\n",
       "<polyline fill=\"none\" points=\"233.7832,-427.5 317.4316,-427.5 \" stroke=\"#000000\"/>\n",
       "<text fill=\"#000000\" font-family=\"Times,serif\" font-size=\"14.00\" text-anchor=\"middle\" x=\"275.6074\" y=\"-412.3\">(None, 100)</text>\n",
       "</g>\n",
       "<!-- 4980219240 -->\n",
       "<g class=\"node\" id=\"node2\">\n",
       "<title>4980219240</title>\n",
       "<polygon fill=\"none\" points=\"18.2725,-324.5 18.2725,-368.5 299.1592,-368.5 299.1592,-324.5 18.2725,-324.5\" stroke=\"#000000\"/>\n",
       "<text fill=\"#000000\" font-family=\"Times,serif\" font-size=\"14.00\" text-anchor=\"middle\" x=\"82.0571\" y=\"-342.3\">reshape_4: Reshape</text>\n",
       "<polyline fill=\"none\" points=\"145.8418,-324.5 145.8418,-368.5 \" stroke=\"#000000\"/>\n",
       "<text fill=\"#000000\" font-family=\"Times,serif\" font-size=\"14.00\" text-anchor=\"middle\" x=\"173.6763\" y=\"-353.3\">input:</text>\n",
       "<polyline fill=\"none\" points=\"145.8418,-346.5 201.5107,-346.5 \" stroke=\"#000000\"/>\n",
       "<text fill=\"#000000\" font-family=\"Times,serif\" font-size=\"14.00\" text-anchor=\"middle\" x=\"173.6763\" y=\"-331.3\">output:</text>\n",
       "<polyline fill=\"none\" points=\"201.5107,-324.5 201.5107,-368.5 \" stroke=\"#000000\"/>\n",
       "<text fill=\"#000000\" font-family=\"Times,serif\" font-size=\"14.00\" text-anchor=\"middle\" x=\"250.335\" y=\"-353.3\">(None, 100)</text>\n",
       "<polyline fill=\"none\" points=\"201.5107,-346.5 299.1592,-346.5 \" stroke=\"#000000\"/>\n",
       "<text fill=\"#000000\" font-family=\"Times,serif\" font-size=\"14.00\" text-anchor=\"middle\" x=\"250.335\" y=\"-331.3\">(None, 100, 1)</text>\n",
       "</g>\n",
       "<!-- 4980219352&#45;&gt;4980219240 -->\n",
       "<g class=\"edge\" id=\"edge1\">\n",
       "<title>4980219352-&gt;4980219240</title>\n",
       "<path d=\"M158.7158,-405.3664C158.7158,-397.1516 158.7158,-387.6579 158.7158,-378.7252\" fill=\"none\" stroke=\"#000000\"/>\n",
       "<polygon fill=\"#000000\" points=\"162.2159,-378.6068 158.7158,-368.6068 155.2159,-378.6069 162.2159,-378.6068\" stroke=\"#000000\"/>\n",
       "</g>\n",
       "<!-- 4980219296 -->\n",
       "<g class=\"node\" id=\"node3\">\n",
       "<title>4980219296</title>\n",
       "<polygon fill=\"none\" points=\"12.0313,-243.5 12.0313,-287.5 305.4004,-287.5 305.4004,-243.5 12.0313,-243.5\" stroke=\"#000000\"/>\n",
       "<text fill=\"#000000\" font-family=\"Times,serif\" font-size=\"14.00\" text-anchor=\"middle\" x=\"78.5571\" y=\"-261.3\">conv1d_10: Conv1D</text>\n",
       "<polyline fill=\"none\" points=\"145.083,-243.5 145.083,-287.5 \" stroke=\"#000000\"/>\n",
       "<text fill=\"#000000\" font-family=\"Times,serif\" font-size=\"14.00\" text-anchor=\"middle\" x=\"172.9175\" y=\"-272.3\">input:</text>\n",
       "<polyline fill=\"none\" points=\"145.083,-265.5 200.752,-265.5 \" stroke=\"#000000\"/>\n",
       "<text fill=\"#000000\" font-family=\"Times,serif\" font-size=\"14.00\" text-anchor=\"middle\" x=\"172.9175\" y=\"-250.3\">output:</text>\n",
       "<polyline fill=\"none\" points=\"200.752,-243.5 200.752,-287.5 \" stroke=\"#000000\"/>\n",
       "<text fill=\"#000000\" font-family=\"Times,serif\" font-size=\"14.00\" text-anchor=\"middle\" x=\"253.0762\" y=\"-272.3\">(None, 100, 1)</text>\n",
       "<polyline fill=\"none\" points=\"200.752,-265.5 305.4004,-265.5 \" stroke=\"#000000\"/>\n",
       "<text fill=\"#000000\" font-family=\"Times,serif\" font-size=\"14.00\" text-anchor=\"middle\" x=\"253.0762\" y=\"-250.3\">(None, 100, 50)</text>\n",
       "</g>\n",
       "<!-- 4980219240&#45;&gt;4980219296 -->\n",
       "<g class=\"edge\" id=\"edge2\">\n",
       "<title>4980219240-&gt;4980219296</title>\n",
       "<path d=\"M158.7158,-324.3664C158.7158,-316.1516 158.7158,-306.6579 158.7158,-297.7252\" fill=\"none\" stroke=\"#000000\"/>\n",
       "<polygon fill=\"#000000\" points=\"162.2159,-297.6068 158.7158,-287.6068 155.2159,-297.6069 162.2159,-297.6068\" stroke=\"#000000\"/>\n",
       "</g>\n",
       "<!-- 4980219744 -->\n",
       "<g class=\"node\" id=\"node4\">\n",
       "<title>4980219744</title>\n",
       "<polygon fill=\"none\" points=\"12.2876,-162.5 12.2876,-206.5 305.144,-206.5 305.144,-162.5 12.2876,-162.5\" stroke=\"#000000\"/>\n",
       "<text fill=\"#000000\" font-family=\"Times,serif\" font-size=\"14.00\" text-anchor=\"middle\" x=\"78.5571\" y=\"-180.3\">conv1d_11: Conv1D</text>\n",
       "<polyline fill=\"none\" points=\"144.8267,-162.5 144.8267,-206.5 \" stroke=\"#000000\"/>\n",
       "<text fill=\"#000000\" font-family=\"Times,serif\" font-size=\"14.00\" text-anchor=\"middle\" x=\"172.6611\" y=\"-191.3\">input:</text>\n",
       "<polyline fill=\"none\" points=\"144.8267,-184.5 200.4956,-184.5 \" stroke=\"#000000\"/>\n",
       "<text fill=\"#000000\" font-family=\"Times,serif\" font-size=\"14.00\" text-anchor=\"middle\" x=\"172.6611\" y=\"-169.3\">output:</text>\n",
       "<polyline fill=\"none\" points=\"200.4956,-162.5 200.4956,-206.5 \" stroke=\"#000000\"/>\n",
       "<text fill=\"#000000\" font-family=\"Times,serif\" font-size=\"14.00\" text-anchor=\"middle\" x=\"252.8198\" y=\"-191.3\">(None, 100, 50)</text>\n",
       "<polyline fill=\"none\" points=\"200.4956,-184.5 305.144,-184.5 \" stroke=\"#000000\"/>\n",
       "<text fill=\"#000000\" font-family=\"Times,serif\" font-size=\"14.00\" text-anchor=\"middle\" x=\"252.8198\" y=\"-169.3\">(None, 100, 50)</text>\n",
       "</g>\n",
       "<!-- 4980219296&#45;&gt;4980219744 -->\n",
       "<g class=\"edge\" id=\"edge3\">\n",
       "<title>4980219296-&gt;4980219744</title>\n",
       "<path d=\"M158.7158,-243.3664C158.7158,-235.1516 158.7158,-225.6579 158.7158,-216.7252\" fill=\"none\" stroke=\"#000000\"/>\n",
       "<polygon fill=\"#000000\" points=\"162.2159,-216.6068 158.7158,-206.6068 155.2159,-216.6069 162.2159,-216.6068\" stroke=\"#000000\"/>\n",
       "</g>\n",
       "<!-- 4980219856 -->\n",
       "<g class=\"node\" id=\"node5\">\n",
       "<title>4980219856</title>\n",
       "<polygon fill=\"none\" points=\"12.0313,-81.5 12.0313,-125.5 305.4004,-125.5 305.4004,-81.5 12.0313,-81.5\" stroke=\"#000000\"/>\n",
       "<text fill=\"#000000\" font-family=\"Times,serif\" font-size=\"14.00\" text-anchor=\"middle\" x=\"78.5571\" y=\"-99.3\">conv1d_12: Conv1D</text>\n",
       "<polyline fill=\"none\" points=\"145.083,-81.5 145.083,-125.5 \" stroke=\"#000000\"/>\n",
       "<text fill=\"#000000\" font-family=\"Times,serif\" font-size=\"14.00\" text-anchor=\"middle\" x=\"172.9175\" y=\"-110.3\">input:</text>\n",
       "<polyline fill=\"none\" points=\"145.083,-103.5 200.752,-103.5 \" stroke=\"#000000\"/>\n",
       "<text fill=\"#000000\" font-family=\"Times,serif\" font-size=\"14.00\" text-anchor=\"middle\" x=\"172.9175\" y=\"-88.3\">output:</text>\n",
       "<polyline fill=\"none\" points=\"200.752,-81.5 200.752,-125.5 \" stroke=\"#000000\"/>\n",
       "<text fill=\"#000000\" font-family=\"Times,serif\" font-size=\"14.00\" text-anchor=\"middle\" x=\"253.0762\" y=\"-110.3\">(None, 100, 50)</text>\n",
       "<polyline fill=\"none\" points=\"200.752,-103.5 305.4004,-103.5 \" stroke=\"#000000\"/>\n",
       "<text fill=\"#000000\" font-family=\"Times,serif\" font-size=\"14.00\" text-anchor=\"middle\" x=\"253.0762\" y=\"-88.3\">(None, 100, 1)</text>\n",
       "</g>\n",
       "<!-- 4980219744&#45;&gt;4980219856 -->\n",
       "<g class=\"edge\" id=\"edge4\">\n",
       "<title>4980219744-&gt;4980219856</title>\n",
       "<path d=\"M158.7158,-162.3664C158.7158,-154.1516 158.7158,-144.6579 158.7158,-135.7252\" fill=\"none\" stroke=\"#000000\"/>\n",
       "<polygon fill=\"#000000\" points=\"162.2159,-135.6068 158.7158,-125.6068 155.2159,-135.6069 162.2159,-135.6068\" stroke=\"#000000\"/>\n",
       "</g>\n",
       "<!-- 4980304192 -->\n",
       "<g class=\"node\" id=\"node6\">\n",
       "<title>4980304192</title>\n",
       "<polygon fill=\"none\" points=\"26.4243,-.5 26.4243,-44.5 291.0073,-44.5 291.0073,-.5 26.4243,-.5\" stroke=\"#000000\"/>\n",
       "<text fill=\"#000000\" font-family=\"Times,serif\" font-size=\"14.00\" text-anchor=\"middle\" x=\"82.0571\" y=\"-18.3\">flatten_4: Flatten</text>\n",
       "<polyline fill=\"none\" points=\"137.6899,-.5 137.6899,-44.5 \" stroke=\"#000000\"/>\n",
       "<text fill=\"#000000\" font-family=\"Times,serif\" font-size=\"14.00\" text-anchor=\"middle\" x=\"165.5244\" y=\"-29.3\">input:</text>\n",
       "<polyline fill=\"none\" points=\"137.6899,-22.5 193.3589,-22.5 \" stroke=\"#000000\"/>\n",
       "<text fill=\"#000000\" font-family=\"Times,serif\" font-size=\"14.00\" text-anchor=\"middle\" x=\"165.5244\" y=\"-7.3\">output:</text>\n",
       "<polyline fill=\"none\" points=\"193.3589,-.5 193.3589,-44.5 \" stroke=\"#000000\"/>\n",
       "<text fill=\"#000000\" font-family=\"Times,serif\" font-size=\"14.00\" text-anchor=\"middle\" x=\"242.1831\" y=\"-29.3\">(None, 100, 1)</text>\n",
       "<polyline fill=\"none\" points=\"193.3589,-22.5 291.0073,-22.5 \" stroke=\"#000000\"/>\n",
       "<text fill=\"#000000\" font-family=\"Times,serif\" font-size=\"14.00\" text-anchor=\"middle\" x=\"242.1831\" y=\"-7.3\">(None, 100)</text>\n",
       "</g>\n",
       "<!-- 4980219856&#45;&gt;4980304192 -->\n",
       "<g class=\"edge\" id=\"edge5\">\n",
       "<title>4980219856-&gt;4980304192</title>\n",
       "<path d=\"M158.7158,-81.3664C158.7158,-73.1516 158.7158,-63.6579 158.7158,-54.7252\" fill=\"none\" stroke=\"#000000\"/>\n",
       "<polygon fill=\"#000000\" points=\"162.2159,-54.6068 158.7158,-44.6068 155.2159,-54.6069 162.2159,-54.6068\" stroke=\"#000000\"/>\n",
       "</g>\n",
       "</g>\n",
       "</svg>"
      ],
      "text/plain": [
       "<IPython.core.display.SVG object>"
      ]
     },
     "execution_count": 13,
     "metadata": {},
     "output_type": "execute_result"
    }
   ],
   "source": [
    "from IPython.display import SVG\n",
    "from keras.utils.vis_utils import model_to_dot\n",
    "\n",
    "%matplotlib inline\n",
    "\n",
    "SVG(model_to_dot(G, show_shapes=True).create(prog='dot', format='svg'))"
   ]
  },
  {
   "cell_type": "markdown",
   "metadata": {},
   "source": [
    "## keras Backend K 함수의 사용법"
   ]
  },
  {
   "cell_type": "code",
   "execution_count": 42,
   "metadata": {},
   "outputs": [],
   "source": [
    "b = K.random_uniform_variable(shape=(3, 4), low=0, high=1) # Uniform distribution\n",
    "c = K.random_normal_variable(shape=(3, 4), mean=0, scale=1) # Gaussian distribution\n",
    "\n",
    "# Tensor Arithmetic\n",
    "a = K.concatenate([b, c], axis=-1)"
   ]
  },
  {
   "cell_type": "code",
   "execution_count": 43,
   "metadata": {},
   "outputs": [
    {
     "data": {
      "text/plain": [
       "<tf.Variable 'Variable_6:0' shape=(3, 4) dtype=float32_ref>"
      ]
     },
     "execution_count": 43,
     "metadata": {},
     "output_type": "execute_result"
    }
   ],
   "source": [
    "b"
   ]
  },
  {
   "cell_type": "code",
   "execution_count": 44,
   "metadata": {},
   "outputs": [
    {
     "data": {
      "text/plain": [
       "<tf.Variable 'Variable_7:0' shape=(3, 4) dtype=float32_ref>"
      ]
     },
     "execution_count": 44,
     "metadata": {},
     "output_type": "execute_result"
    }
   ],
   "source": [
    "c"
   ]
  },
  {
   "cell_type": "code",
   "execution_count": 45,
   "metadata": {},
   "outputs": [
    {
     "data": {
      "text/plain": [
       "<tf.Tensor 'concat_2:0' shape=(3, 8) dtype=float32>"
      ]
     },
     "execution_count": 45,
     "metadata": {},
     "output_type": "execute_result"
    }
   ],
   "source": [
    "a"
   ]
  },
  {
   "cell_type": "markdown",
   "metadata": {},
   "source": [
    "#### np shape과의 비교를 통한 이해"
   ]
  },
  {
   "cell_type": "code",
   "execution_count": 35,
   "metadata": {},
   "outputs": [
    {
     "data": {
      "text/plain": [
       "array([[0., 0., 0., 0.],\n",
       "       [0., 0., 0., 0.],\n",
       "       [0., 0., 0., 0.]])"
      ]
     },
     "execution_count": 35,
     "metadata": {},
     "output_type": "execute_result"
    }
   ],
   "source": [
    "y = np.zeros((3,4))\n",
    "print(y)\n",
    "print(y.shape)"
   ]
  },
  {
   "cell_type": "code",
   "execution_count": 60,
   "metadata": {},
   "outputs": [],
   "source": [
    "y = np.zeros((3,4))\n",
    "x = np.zeros((3,3))\n",
    "# y = np.zeros((3,4,2)) --> 이것도 됨\n",
    "# x = np.zeros((3,4,5))"
   ]
  },
  {
   "cell_type": "code",
   "execution_count": 61,
   "metadata": {},
   "outputs": [],
   "source": [
    "z = np.concatenate((y, x), axis=-1)"
   ]
  },
  {
   "cell_type": "code",
   "execution_count": 50,
   "metadata": {},
   "outputs": [
    {
     "name": "stdout",
     "output_type": "stream",
     "text": [
      "[[0. 0. 0. 0. 0. 0. 0.]\n",
      " [0. 0. 0. 0. 0. 0. 0.]\n",
      " [0. 0. 0. 0. 0. 0. 0.]]\n",
      "(3, 7)\n"
     ]
    }
   ],
   "source": [
    "print(z)\n",
    "print(z.shape)"
   ]
  },
  {
   "cell_type": "code",
   "execution_count": 63,
   "metadata": {},
   "outputs": [
    {
     "name": "stdout",
     "output_type": "stream",
     "text": [
      "[[0. 0. 0.]\n",
      " [0. 0. 0.]\n",
      " [0. 0. 0.]\n",
      " [0. 0. 0.]\n",
      " [0. 0. 0.]\n",
      " [0. 0. 0.]\n",
      " [0. 0. 0.]]\n",
      "(7, 3)\n"
     ]
    }
   ],
   "source": [
    "y = np.zeros((4,3))\n",
    "x = np.zeros((3,3))\n",
    "# axis 0의 의미는 shape의 index의 의미. iterate하는 index 빼고는 모두 동일해야 함.\n",
    "# y = np.zeros((4,3,1)) --> 됨\n",
    "# x = np.zeros((3,3,1))\n",
    "# y = np.zeros((4,3,1)) --> 안됨\n",
    "# x = np.zeros((3,3,0))\n",
    "z2 = np.concatenate((y, x), axis=0) \n",
    "print(z2)\n",
    "print(z2.shape)"
   ]
  },
  {
   "cell_type": "code",
   "execution_count": null,
   "metadata": {},
   "outputs": [],
   "source": []
  }
 ],
 "metadata": {
  "kernelspec": {
   "display_name": "Python 3",
   "language": "python",
   "name": "python3"
  },
  "language_info": {
   "codemirror_mode": {
    "name": "ipython",
    "version": 3
   },
   "file_extension": ".py",
   "mimetype": "text/x-python",
   "name": "python",
   "nbconvert_exporter": "python",
   "pygments_lexer": "ipython3",
   "version": "3.6.4"
  }
 },
 "nbformat": 4,
 "nbformat_minor": 2
}
