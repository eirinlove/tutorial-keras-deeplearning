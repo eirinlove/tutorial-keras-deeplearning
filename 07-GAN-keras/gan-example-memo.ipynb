{
 "cells": [
  {
   "cell_type": "code",
   "execution_count": 4,
   "metadata": {},
   "outputs": [],
   "source": [
    "real_sample = lambda n_batch: np.random.normal(4, 1.25, (n_batch, 100))"
   ]
  },
  {
   "cell_type": "code",
   "execution_count": 5,
   "metadata": {},
   "outputs": [
    {
     "data": {
      "text/plain": [
       "array([[3.03176604, 4.38481172, 3.89092615, 2.38223501, 4.84147091,\n",
       "        5.54978007, 0.69236158, 3.72297457, 4.83506179, 6.3812466 ,\n",
       "        4.99425978, 4.21388802, 3.75130963, 4.88945395, 3.43776848,\n",
       "        3.70038717, 2.98278286, 4.61924152, 3.73936661, 4.50842032,\n",
       "        4.26222458, 6.01363192, 3.79830779, 5.06986036, 3.29429154,\n",
       "        4.78842465, 5.91559671, 3.34232823, 3.0317103 , 2.21423516,\n",
       "        2.58322523, 4.31357318, 4.26452176, 4.16518086, 4.73195176,\n",
       "        3.61605351, 3.14664103, 6.35642164, 5.73860371, 4.21398384,\n",
       "        1.2282522 , 3.64658645, 2.72719993, 5.29714702, 3.16408339,\n",
       "        3.26758316, 4.59721416, 1.99388293, 5.18377593, 4.22602484,\n",
       "        4.01549768, 5.42989781, 3.5983266 , 3.5213028 , 1.85560193,\n",
       "        5.81121125, 6.47729239, 2.84211022, 3.7788841 , 2.28966035,\n",
       "        6.14659495, 2.9581311 , 3.87290564, 4.34832173, 6.09085647,\n",
       "        1.42356613, 4.1874819 , 4.12886261, 4.19609768, 2.25220495,\n",
       "        5.7930263 , 4.49100526, 4.52309225, 6.09471942, 5.51617513,\n",
       "        4.76748447, 4.16270288, 5.85235663, 2.4100108 , 3.19988272,\n",
       "        2.13746218, 3.38945221, 3.1772448 , 5.39144256, 5.31352914,\n",
       "        2.85891758, 2.92399146, 4.87486253, 6.07489331, 4.56923911,\n",
       "        5.29481436, 4.36506203, 3.15399938, 6.17529557, 4.78771781,\n",
       "        4.4082306 , 4.00634681, 3.70626908, 4.20470038, 3.42740377]])"
      ]
     },
     "execution_count": 5,
     "metadata": {},
     "output_type": "execute_result"
    }
   ],
   "source": [
    "real_sample(1)"
   ]
  },
  {
   "cell_type": "code",
   "execution_count": 64,
   "metadata": {},
   "outputs": [],
   "source": [
    "import os\n",
    "import numpy\n",
    "import matplotlib.pyplot as plt\n",
    "from keras.models import Sequential\n",
    "from keras.layers import Dense\n",
    "from keras.layers import Dropout\n",
    "from keras.layers import Flatten\n",
    "from keras.layers.convolutional import Conv2D\n",
    "from keras.layers.convolutional import MaxPooling2D\n",
    "from keras.utils import np_utils\n",
    "from keras.datasets import cifar10\n",
    "from keras import optimizers\n",
    "\n",
    "\n",
    "def add_decorate(x):\n",
    "    \"\"\"\n",
    "    axis = -1 --> last dimension in an array\n",
    "    \"\"\"\n",
    "    m = K.mean(x, axis=-1, keepdims=True)\n",
    "    d = K.square(x - m)\n",
    "    return K.concatenate([x, d], axis=-1)\n",
    "\n",
    "\n",
    "learning_rate = 0.001\n",
    "\n",
    "model = Sequential()\n",
    "# model.add(Lambda(add_decorate, output_shape=None, input_shape=(100,)))\n",
    "model.add(Dense(50, activation='relu', input_shape=(100,)))\n",
    "model.add(Dense(50, activation='relu'))\n",
    "model.add(Dense(1, activation='sigmoid'))\n",
    "\n",
    "optimizer = optimizers.RMSprop(lr=learning_rate, rho=0.9, epsilon=None, decay=0.0)\n",
    "model.compile(loss='categorical_crossentropy', optimizer=optimizer, metrics=['accuracy'])"
   ]
  },
  {
   "cell_type": "code",
   "execution_count": 65,
   "metadata": {},
   "outputs": [
    {
     "data": {
      "image/svg+xml": [
       "<svg height=\"296pt\" viewBox=\"0.00 0.00 321.56 296.00\" width=\"322pt\" xmlns=\"http://www.w3.org/2000/svg\" xmlns:xlink=\"http://www.w3.org/1999/xlink\">\n",
       "<g class=\"graph\" id=\"graph0\" transform=\"scale(1 1) rotate(0) translate(4 292)\">\n",
       "<title>G</title>\n",
       "<polygon fill=\"#ffffff\" points=\"-4,4 -4,-292 317.5557,-292 317.5557,4 -4,4\" stroke=\"transparent\"/>\n",
       "<!-- 4984712272 -->\n",
       "<g class=\"node\" id=\"node1\">\n",
       "<title>4984712272</title>\n",
       "<polygon fill=\"none\" points=\"0,-243.5 0,-287.5 313.5557,-287.5 313.5557,-243.5 0,-243.5\" stroke=\"#000000\"/>\n",
       "<text fill=\"#000000\" font-family=\"Times,serif\" font-size=\"14.00\" text-anchor=\"middle\" x=\"87.1191\" y=\"-261.3\">dense_19_input: InputLayer</text>\n",
       "<polyline fill=\"none\" points=\"174.2383,-243.5 174.2383,-287.5 \" stroke=\"#000000\"/>\n",
       "<text fill=\"#000000\" font-family=\"Times,serif\" font-size=\"14.00\" text-anchor=\"middle\" x=\"202.0728\" y=\"-272.3\">input:</text>\n",
       "<polyline fill=\"none\" points=\"174.2383,-265.5 229.9072,-265.5 \" stroke=\"#000000\"/>\n",
       "<text fill=\"#000000\" font-family=\"Times,serif\" font-size=\"14.00\" text-anchor=\"middle\" x=\"202.0728\" y=\"-250.3\">output:</text>\n",
       "<polyline fill=\"none\" points=\"229.9072,-243.5 229.9072,-287.5 \" stroke=\"#000000\"/>\n",
       "<text fill=\"#000000\" font-family=\"Times,serif\" font-size=\"14.00\" text-anchor=\"middle\" x=\"271.7314\" y=\"-272.3\">(None, 100)</text>\n",
       "<polyline fill=\"none\" points=\"229.9072,-265.5 313.5557,-265.5 \" stroke=\"#000000\"/>\n",
       "<text fill=\"#000000\" font-family=\"Times,serif\" font-size=\"14.00\" text-anchor=\"middle\" x=\"271.7314\" y=\"-250.3\">(None, 100)</text>\n",
       "</g>\n",
       "<!-- 4984711880 -->\n",
       "<g class=\"node\" id=\"node2\">\n",
       "<title>4984711880</title>\n",
       "<polygon fill=\"none\" points=\"31.4932,-162.5 31.4932,-206.5 282.0625,-206.5 282.0625,-162.5 31.4932,-162.5\" stroke=\"#000000\"/>\n",
       "<text fill=\"#000000\" font-family=\"Times,serif\" font-size=\"14.00\" text-anchor=\"middle\" x=\"87.1191\" y=\"-180.3\">dense_19: Dense</text>\n",
       "<polyline fill=\"none\" points=\"142.7451,-162.5 142.7451,-206.5 \" stroke=\"#000000\"/>\n",
       "<text fill=\"#000000\" font-family=\"Times,serif\" font-size=\"14.00\" text-anchor=\"middle\" x=\"170.5796\" y=\"-191.3\">input:</text>\n",
       "<polyline fill=\"none\" points=\"142.7451,-184.5 198.4141,-184.5 \" stroke=\"#000000\"/>\n",
       "<text fill=\"#000000\" font-family=\"Times,serif\" font-size=\"14.00\" text-anchor=\"middle\" x=\"170.5796\" y=\"-169.3\">output:</text>\n",
       "<polyline fill=\"none\" points=\"198.4141,-162.5 198.4141,-206.5 \" stroke=\"#000000\"/>\n",
       "<text fill=\"#000000\" font-family=\"Times,serif\" font-size=\"14.00\" text-anchor=\"middle\" x=\"240.2383\" y=\"-191.3\">(None, 100)</text>\n",
       "<polyline fill=\"none\" points=\"198.4141,-184.5 282.0625,-184.5 \" stroke=\"#000000\"/>\n",
       "<text fill=\"#000000\" font-family=\"Times,serif\" font-size=\"14.00\" text-anchor=\"middle\" x=\"240.2383\" y=\"-169.3\">(None, 50)</text>\n",
       "</g>\n",
       "<!-- 4984712272&#45;&gt;4984711880 -->\n",
       "<g class=\"edge\" id=\"edge1\">\n",
       "<title>4984712272-&gt;4984711880</title>\n",
       "<path d=\"M156.7778,-243.3664C156.7778,-235.1516 156.7778,-225.6579 156.7778,-216.7252\" fill=\"none\" stroke=\"#000000\"/>\n",
       "<polygon fill=\"#000000\" points=\"160.2779,-216.6068 156.7778,-206.6068 153.2779,-216.6069 160.2779,-216.6068\" stroke=\"#000000\"/>\n",
       "</g>\n",
       "<!-- 4984711936 -->\n",
       "<g class=\"node\" id=\"node3\">\n",
       "<title>4984711936</title>\n",
       "<polygon fill=\"none\" points=\"34.9932,-81.5 34.9932,-125.5 278.5625,-125.5 278.5625,-81.5 34.9932,-81.5\" stroke=\"#000000\"/>\n",
       "<text fill=\"#000000\" font-family=\"Times,serif\" font-size=\"14.00\" text-anchor=\"middle\" x=\"90.6191\" y=\"-99.3\">dense_20: Dense</text>\n",
       "<polyline fill=\"none\" points=\"146.2451,-81.5 146.2451,-125.5 \" stroke=\"#000000\"/>\n",
       "<text fill=\"#000000\" font-family=\"Times,serif\" font-size=\"14.00\" text-anchor=\"middle\" x=\"174.0796\" y=\"-110.3\">input:</text>\n",
       "<polyline fill=\"none\" points=\"146.2451,-103.5 201.9141,-103.5 \" stroke=\"#000000\"/>\n",
       "<text fill=\"#000000\" font-family=\"Times,serif\" font-size=\"14.00\" text-anchor=\"middle\" x=\"174.0796\" y=\"-88.3\">output:</text>\n",
       "<polyline fill=\"none\" points=\"201.9141,-81.5 201.9141,-125.5 \" stroke=\"#000000\"/>\n",
       "<text fill=\"#000000\" font-family=\"Times,serif\" font-size=\"14.00\" text-anchor=\"middle\" x=\"240.2383\" y=\"-110.3\">(None, 50)</text>\n",
       "<polyline fill=\"none\" points=\"201.9141,-103.5 278.5625,-103.5 \" stroke=\"#000000\"/>\n",
       "<text fill=\"#000000\" font-family=\"Times,serif\" font-size=\"14.00\" text-anchor=\"middle\" x=\"240.2383\" y=\"-88.3\">(None, 50)</text>\n",
       "</g>\n",
       "<!-- 4984711880&#45;&gt;4984711936 -->\n",
       "<g class=\"edge\" id=\"edge2\">\n",
       "<title>4984711880-&gt;4984711936</title>\n",
       "<path d=\"M156.7778,-162.3664C156.7778,-154.1516 156.7778,-144.6579 156.7778,-135.7252\" fill=\"none\" stroke=\"#000000\"/>\n",
       "<polygon fill=\"#000000\" points=\"160.2779,-135.6068 156.7778,-125.6068 153.2779,-135.6069 160.2779,-135.6068\" stroke=\"#000000\"/>\n",
       "</g>\n",
       "<!-- 4984712496 -->\n",
       "<g class=\"node\" id=\"node4\">\n",
       "<title>4984712496</title>\n",
       "<polygon fill=\"none\" points=\"34.9932,-.5 34.9932,-44.5 278.5625,-44.5 278.5625,-.5 34.9932,-.5\" stroke=\"#000000\"/>\n",
       "<text fill=\"#000000\" font-family=\"Times,serif\" font-size=\"14.00\" text-anchor=\"middle\" x=\"90.6191\" y=\"-18.3\">dense_21: Dense</text>\n",
       "<polyline fill=\"none\" points=\"146.2451,-.5 146.2451,-44.5 \" stroke=\"#000000\"/>\n",
       "<text fill=\"#000000\" font-family=\"Times,serif\" font-size=\"14.00\" text-anchor=\"middle\" x=\"174.0796\" y=\"-29.3\">input:</text>\n",
       "<polyline fill=\"none\" points=\"146.2451,-22.5 201.9141,-22.5 \" stroke=\"#000000\"/>\n",
       "<text fill=\"#000000\" font-family=\"Times,serif\" font-size=\"14.00\" text-anchor=\"middle\" x=\"174.0796\" y=\"-7.3\">output:</text>\n",
       "<polyline fill=\"none\" points=\"201.9141,-.5 201.9141,-44.5 \" stroke=\"#000000\"/>\n",
       "<text fill=\"#000000\" font-family=\"Times,serif\" font-size=\"14.00\" text-anchor=\"middle\" x=\"240.2383\" y=\"-29.3\">(None, 50)</text>\n",
       "<polyline fill=\"none\" points=\"201.9141,-22.5 278.5625,-22.5 \" stroke=\"#000000\"/>\n",
       "<text fill=\"#000000\" font-family=\"Times,serif\" font-size=\"14.00\" text-anchor=\"middle\" x=\"240.2383\" y=\"-7.3\">(None, 1)</text>\n",
       "</g>\n",
       "<!-- 4984711936&#45;&gt;4984712496 -->\n",
       "<g class=\"edge\" id=\"edge3\">\n",
       "<title>4984711936-&gt;4984712496</title>\n",
       "<path d=\"M156.7778,-81.3664C156.7778,-73.1516 156.7778,-63.6579 156.7778,-54.7252\" fill=\"none\" stroke=\"#000000\"/>\n",
       "<polygon fill=\"#000000\" points=\"160.2779,-54.6068 156.7778,-44.6068 153.2779,-54.6069 160.2779,-54.6068\" stroke=\"#000000\"/>\n",
       "</g>\n",
       "</g>\n",
       "</svg>"
      ],
      "text/plain": [
       "<IPython.core.display.SVG object>"
      ]
     },
     "execution_count": 65,
     "metadata": {},
     "output_type": "execute_result"
    }
   ],
   "source": [
    "from IPython.display import SVG\n",
    "from keras.utils.vis_utils import model_to_dot\n",
    "\n",
    "%matplotlib inline\n",
    "\n",
    "SVG(model_to_dot(model, show_shapes=True).create(prog='dot', format='svg'))"
   ]
  },
  {
   "cell_type": "code",
   "execution_count": 15,
   "metadata": {},
   "outputs": [],
   "source": [
    "G = Sequential()\n",
    "G = models.Sequential()  # (Batch, ni_D)\n",
    "G.add(Reshape((100, 1), input_shape=(100,)))  # (Batch, steps=ni_D, input_dim=1)\n",
    "G.add(Conv1D(50, 1, activation='relu'))  # (Batch, ni_D, nh_G)\n",
    "G.add(Conv1D(50, 1, activation='sigmoid'))  # (Batch, ni_D, nh_G)\n",
    "G.add(Conv1D(1, 1))  # (Batch, ni_D, 1)\n",
    "G.add(Flatten())  # (Batch, ni_D)\n",
    "optimizer = optimizers.RMSprop(lr=learning_rate, rho=0.9, epsilon=None, decay=0.0)\n",
    "G.compile(loss='categorical_crossentropy', optimizer=optimizer, metrics=['accuracy'])"
   ]
  },
  {
   "cell_type": "code",
   "execution_count": 13,
   "metadata": {},
   "outputs": [
    {
     "data": {
      "image/svg+xml": [
       "<svg height=\"458pt\" viewBox=\"0.00 0.00 325.43 458.00\" width=\"325pt\" xmlns=\"http://www.w3.org/2000/svg\" xmlns:xlink=\"http://www.w3.org/1999/xlink\">\n",
       "<g class=\"graph\" id=\"graph0\" transform=\"scale(1 1) rotate(0) translate(4 454)\">\n",
       "<title>G</title>\n",
       "<polygon fill=\"#ffffff\" points=\"-4,4 -4,-454 321.4316,-454 321.4316,4 -4,4\" stroke=\"transparent\"/>\n",
       "<!-- 4980219352 -->\n",
       "<g class=\"node\" id=\"node1\">\n",
       "<title>4980219352</title>\n",
       "<polygon fill=\"none\" points=\"0,-405.5 0,-449.5 317.4316,-449.5 317.4316,-405.5 0,-405.5\" stroke=\"#000000\"/>\n",
       "<text fill=\"#000000\" font-family=\"Times,serif\" font-size=\"14.00\" text-anchor=\"middle\" x=\"89.0571\" y=\"-423.3\">reshape_4_input: InputLayer</text>\n",
       "<polyline fill=\"none\" points=\"178.1143,-405.5 178.1143,-449.5 \" stroke=\"#000000\"/>\n",
       "<text fill=\"#000000\" font-family=\"Times,serif\" font-size=\"14.00\" text-anchor=\"middle\" x=\"205.9487\" y=\"-434.3\">input:</text>\n",
       "<polyline fill=\"none\" points=\"178.1143,-427.5 233.7832,-427.5 \" stroke=\"#000000\"/>\n",
       "<text fill=\"#000000\" font-family=\"Times,serif\" font-size=\"14.00\" text-anchor=\"middle\" x=\"205.9487\" y=\"-412.3\">output:</text>\n",
       "<polyline fill=\"none\" points=\"233.7832,-405.5 233.7832,-449.5 \" stroke=\"#000000\"/>\n",
       "<text fill=\"#000000\" font-family=\"Times,serif\" font-size=\"14.00\" text-anchor=\"middle\" x=\"275.6074\" y=\"-434.3\">(None, 100)</text>\n",
       "<polyline fill=\"none\" points=\"233.7832,-427.5 317.4316,-427.5 \" stroke=\"#000000\"/>\n",
       "<text fill=\"#000000\" font-family=\"Times,serif\" font-size=\"14.00\" text-anchor=\"middle\" x=\"275.6074\" y=\"-412.3\">(None, 100)</text>\n",
       "</g>\n",
       "<!-- 4980219240 -->\n",
       "<g class=\"node\" id=\"node2\">\n",
       "<title>4980219240</title>\n",
       "<polygon fill=\"none\" points=\"18.2725,-324.5 18.2725,-368.5 299.1592,-368.5 299.1592,-324.5 18.2725,-324.5\" stroke=\"#000000\"/>\n",
       "<text fill=\"#000000\" font-family=\"Times,serif\" font-size=\"14.00\" text-anchor=\"middle\" x=\"82.0571\" y=\"-342.3\">reshape_4: Reshape</text>\n",
       "<polyline fill=\"none\" points=\"145.8418,-324.5 145.8418,-368.5 \" stroke=\"#000000\"/>\n",
       "<text fill=\"#000000\" font-family=\"Times,serif\" font-size=\"14.00\" text-anchor=\"middle\" x=\"173.6763\" y=\"-353.3\">input:</text>\n",
       "<polyline fill=\"none\" points=\"145.8418,-346.5 201.5107,-346.5 \" stroke=\"#000000\"/>\n",
       "<text fill=\"#000000\" font-family=\"Times,serif\" font-size=\"14.00\" text-anchor=\"middle\" x=\"173.6763\" y=\"-331.3\">output:</text>\n",
       "<polyline fill=\"none\" points=\"201.5107,-324.5 201.5107,-368.5 \" stroke=\"#000000\"/>\n",
       "<text fill=\"#000000\" font-family=\"Times,serif\" font-size=\"14.00\" text-anchor=\"middle\" x=\"250.335\" y=\"-353.3\">(None, 100)</text>\n",
       "<polyline fill=\"none\" points=\"201.5107,-346.5 299.1592,-346.5 \" stroke=\"#000000\"/>\n",
       "<text fill=\"#000000\" font-family=\"Times,serif\" font-size=\"14.00\" text-anchor=\"middle\" x=\"250.335\" y=\"-331.3\">(None, 100, 1)</text>\n",
       "</g>\n",
       "<!-- 4980219352&#45;&gt;4980219240 -->\n",
       "<g class=\"edge\" id=\"edge1\">\n",
       "<title>4980219352-&gt;4980219240</title>\n",
       "<path d=\"M158.7158,-405.3664C158.7158,-397.1516 158.7158,-387.6579 158.7158,-378.7252\" fill=\"none\" stroke=\"#000000\"/>\n",
       "<polygon fill=\"#000000\" points=\"162.2159,-378.6068 158.7158,-368.6068 155.2159,-378.6069 162.2159,-378.6068\" stroke=\"#000000\"/>\n",
       "</g>\n",
       "<!-- 4980219296 -->\n",
       "<g class=\"node\" id=\"node3\">\n",
       "<title>4980219296</title>\n",
       "<polygon fill=\"none\" points=\"12.0313,-243.5 12.0313,-287.5 305.4004,-287.5 305.4004,-243.5 12.0313,-243.5\" stroke=\"#000000\"/>\n",
       "<text fill=\"#000000\" font-family=\"Times,serif\" font-size=\"14.00\" text-anchor=\"middle\" x=\"78.5571\" y=\"-261.3\">conv1d_10: Conv1D</text>\n",
       "<polyline fill=\"none\" points=\"145.083,-243.5 145.083,-287.5 \" stroke=\"#000000\"/>\n",
       "<text fill=\"#000000\" font-family=\"Times,serif\" font-size=\"14.00\" text-anchor=\"middle\" x=\"172.9175\" y=\"-272.3\">input:</text>\n",
       "<polyline fill=\"none\" points=\"145.083,-265.5 200.752,-265.5 \" stroke=\"#000000\"/>\n",
       "<text fill=\"#000000\" font-family=\"Times,serif\" font-size=\"14.00\" text-anchor=\"middle\" x=\"172.9175\" y=\"-250.3\">output:</text>\n",
       "<polyline fill=\"none\" points=\"200.752,-243.5 200.752,-287.5 \" stroke=\"#000000\"/>\n",
       "<text fill=\"#000000\" font-family=\"Times,serif\" font-size=\"14.00\" text-anchor=\"middle\" x=\"253.0762\" y=\"-272.3\">(None, 100, 1)</text>\n",
       "<polyline fill=\"none\" points=\"200.752,-265.5 305.4004,-265.5 \" stroke=\"#000000\"/>\n",
       "<text fill=\"#000000\" font-family=\"Times,serif\" font-size=\"14.00\" text-anchor=\"middle\" x=\"253.0762\" y=\"-250.3\">(None, 100, 50)</text>\n",
       "</g>\n",
       "<!-- 4980219240&#45;&gt;4980219296 -->\n",
       "<g class=\"edge\" id=\"edge2\">\n",
       "<title>4980219240-&gt;4980219296</title>\n",
       "<path d=\"M158.7158,-324.3664C158.7158,-316.1516 158.7158,-306.6579 158.7158,-297.7252\" fill=\"none\" stroke=\"#000000\"/>\n",
       "<polygon fill=\"#000000\" points=\"162.2159,-297.6068 158.7158,-287.6068 155.2159,-297.6069 162.2159,-297.6068\" stroke=\"#000000\"/>\n",
       "</g>\n",
       "<!-- 4980219744 -->\n",
       "<g class=\"node\" id=\"node4\">\n",
       "<title>4980219744</title>\n",
       "<polygon fill=\"none\" points=\"12.2876,-162.5 12.2876,-206.5 305.144,-206.5 305.144,-162.5 12.2876,-162.5\" stroke=\"#000000\"/>\n",
       "<text fill=\"#000000\" font-family=\"Times,serif\" font-size=\"14.00\" text-anchor=\"middle\" x=\"78.5571\" y=\"-180.3\">conv1d_11: Conv1D</text>\n",
       "<polyline fill=\"none\" points=\"144.8267,-162.5 144.8267,-206.5 \" stroke=\"#000000\"/>\n",
       "<text fill=\"#000000\" font-family=\"Times,serif\" font-size=\"14.00\" text-anchor=\"middle\" x=\"172.6611\" y=\"-191.3\">input:</text>\n",
       "<polyline fill=\"none\" points=\"144.8267,-184.5 200.4956,-184.5 \" stroke=\"#000000\"/>\n",
       "<text fill=\"#000000\" font-family=\"Times,serif\" font-size=\"14.00\" text-anchor=\"middle\" x=\"172.6611\" y=\"-169.3\">output:</text>\n",
       "<polyline fill=\"none\" points=\"200.4956,-162.5 200.4956,-206.5 \" stroke=\"#000000\"/>\n",
       "<text fill=\"#000000\" font-family=\"Times,serif\" font-size=\"14.00\" text-anchor=\"middle\" x=\"252.8198\" y=\"-191.3\">(None, 100, 50)</text>\n",
       "<polyline fill=\"none\" points=\"200.4956,-184.5 305.144,-184.5 \" stroke=\"#000000\"/>\n",
       "<text fill=\"#000000\" font-family=\"Times,serif\" font-size=\"14.00\" text-anchor=\"middle\" x=\"252.8198\" y=\"-169.3\">(None, 100, 50)</text>\n",
       "</g>\n",
       "<!-- 4980219296&#45;&gt;4980219744 -->\n",
       "<g class=\"edge\" id=\"edge3\">\n",
       "<title>4980219296-&gt;4980219744</title>\n",
       "<path d=\"M158.7158,-243.3664C158.7158,-235.1516 158.7158,-225.6579 158.7158,-216.7252\" fill=\"none\" stroke=\"#000000\"/>\n",
       "<polygon fill=\"#000000\" points=\"162.2159,-216.6068 158.7158,-206.6068 155.2159,-216.6069 162.2159,-216.6068\" stroke=\"#000000\"/>\n",
       "</g>\n",
       "<!-- 4980219856 -->\n",
       "<g class=\"node\" id=\"node5\">\n",
       "<title>4980219856</title>\n",
       "<polygon fill=\"none\" points=\"12.0313,-81.5 12.0313,-125.5 305.4004,-125.5 305.4004,-81.5 12.0313,-81.5\" stroke=\"#000000\"/>\n",
       "<text fill=\"#000000\" font-family=\"Times,serif\" font-size=\"14.00\" text-anchor=\"middle\" x=\"78.5571\" y=\"-99.3\">conv1d_12: Conv1D</text>\n",
       "<polyline fill=\"none\" points=\"145.083,-81.5 145.083,-125.5 \" stroke=\"#000000\"/>\n",
       "<text fill=\"#000000\" font-family=\"Times,serif\" font-size=\"14.00\" text-anchor=\"middle\" x=\"172.9175\" y=\"-110.3\">input:</text>\n",
       "<polyline fill=\"none\" points=\"145.083,-103.5 200.752,-103.5 \" stroke=\"#000000\"/>\n",
       "<text fill=\"#000000\" font-family=\"Times,serif\" font-size=\"14.00\" text-anchor=\"middle\" x=\"172.9175\" y=\"-88.3\">output:</text>\n",
       "<polyline fill=\"none\" points=\"200.752,-81.5 200.752,-125.5 \" stroke=\"#000000\"/>\n",
       "<text fill=\"#000000\" font-family=\"Times,serif\" font-size=\"14.00\" text-anchor=\"middle\" x=\"253.0762\" y=\"-110.3\">(None, 100, 50)</text>\n",
       "<polyline fill=\"none\" points=\"200.752,-103.5 305.4004,-103.5 \" stroke=\"#000000\"/>\n",
       "<text fill=\"#000000\" font-family=\"Times,serif\" font-size=\"14.00\" text-anchor=\"middle\" x=\"253.0762\" y=\"-88.3\">(None, 100, 1)</text>\n",
       "</g>\n",
       "<!-- 4980219744&#45;&gt;4980219856 -->\n",
       "<g class=\"edge\" id=\"edge4\">\n",
       "<title>4980219744-&gt;4980219856</title>\n",
       "<path d=\"M158.7158,-162.3664C158.7158,-154.1516 158.7158,-144.6579 158.7158,-135.7252\" fill=\"none\" stroke=\"#000000\"/>\n",
       "<polygon fill=\"#000000\" points=\"162.2159,-135.6068 158.7158,-125.6068 155.2159,-135.6069 162.2159,-135.6068\" stroke=\"#000000\"/>\n",
       "</g>\n",
       "<!-- 4980304192 -->\n",
       "<g class=\"node\" id=\"node6\">\n",
       "<title>4980304192</title>\n",
       "<polygon fill=\"none\" points=\"26.4243,-.5 26.4243,-44.5 291.0073,-44.5 291.0073,-.5 26.4243,-.5\" stroke=\"#000000\"/>\n",
       "<text fill=\"#000000\" font-family=\"Times,serif\" font-size=\"14.00\" text-anchor=\"middle\" x=\"82.0571\" y=\"-18.3\">flatten_4: Flatten</text>\n",
       "<polyline fill=\"none\" points=\"137.6899,-.5 137.6899,-44.5 \" stroke=\"#000000\"/>\n",
       "<text fill=\"#000000\" font-family=\"Times,serif\" font-size=\"14.00\" text-anchor=\"middle\" x=\"165.5244\" y=\"-29.3\">input:</text>\n",
       "<polyline fill=\"none\" points=\"137.6899,-22.5 193.3589,-22.5 \" stroke=\"#000000\"/>\n",
       "<text fill=\"#000000\" font-family=\"Times,serif\" font-size=\"14.00\" text-anchor=\"middle\" x=\"165.5244\" y=\"-7.3\">output:</text>\n",
       "<polyline fill=\"none\" points=\"193.3589,-.5 193.3589,-44.5 \" stroke=\"#000000\"/>\n",
       "<text fill=\"#000000\" font-family=\"Times,serif\" font-size=\"14.00\" text-anchor=\"middle\" x=\"242.1831\" y=\"-29.3\">(None, 100, 1)</text>\n",
       "<polyline fill=\"none\" points=\"193.3589,-22.5 291.0073,-22.5 \" stroke=\"#000000\"/>\n",
       "<text fill=\"#000000\" font-family=\"Times,serif\" font-size=\"14.00\" text-anchor=\"middle\" x=\"242.1831\" y=\"-7.3\">(None, 100)</text>\n",
       "</g>\n",
       "<!-- 4980219856&#45;&gt;4980304192 -->\n",
       "<g class=\"edge\" id=\"edge5\">\n",
       "<title>4980219856-&gt;4980304192</title>\n",
       "<path d=\"M158.7158,-81.3664C158.7158,-73.1516 158.7158,-63.6579 158.7158,-54.7252\" fill=\"none\" stroke=\"#000000\"/>\n",
       "<polygon fill=\"#000000\" points=\"162.2159,-54.6068 158.7158,-44.6068 155.2159,-54.6069 162.2159,-54.6068\" stroke=\"#000000\"/>\n",
       "</g>\n",
       "</g>\n",
       "</svg>"
      ],
      "text/plain": [
       "<IPython.core.display.SVG object>"
      ]
     },
     "execution_count": 13,
     "metadata": {},
     "output_type": "execute_result"
    }
   ],
   "source": [
    "from IPython.display import SVG\n",
    "from keras.utils.vis_utils import model_to_dot\n",
    "\n",
    "%matplotlib inline\n",
    "\n",
    "SVG(model_to_dot(G, show_shapes=True).create(prog='dot', format='svg'))"
   ]
  },
  {
   "cell_type": "markdown",
   "metadata": {},
   "source": [
    "## keras Backend K 함수의 사용법"
   ]
  },
  {
   "cell_type": "code",
   "execution_count": 42,
   "metadata": {},
   "outputs": [],
   "source": [
    "b = K.random_uniform_variable(shape=(3, 4), low=0, high=1) # Uniform distribution\n",
    "c = K.random_normal_variable(shape=(3, 4), mean=0, scale=1) # Gaussian distribution\n",
    "\n",
    "# Tensor Arithmetic\n",
    "a = K.concatenate([b, c], axis=-1)"
   ]
  },
  {
   "cell_type": "code",
   "execution_count": 43,
   "metadata": {},
   "outputs": [
    {
     "data": {
      "text/plain": [
       "<tf.Variable 'Variable_6:0' shape=(3, 4) dtype=float32_ref>"
      ]
     },
     "execution_count": 43,
     "metadata": {},
     "output_type": "execute_result"
    }
   ],
   "source": [
    "b"
   ]
  },
  {
   "cell_type": "code",
   "execution_count": 44,
   "metadata": {},
   "outputs": [
    {
     "data": {
      "text/plain": [
       "<tf.Variable 'Variable_7:0' shape=(3, 4) dtype=float32_ref>"
      ]
     },
     "execution_count": 44,
     "metadata": {},
     "output_type": "execute_result"
    }
   ],
   "source": [
    "c"
   ]
  },
  {
   "cell_type": "code",
   "execution_count": 45,
   "metadata": {},
   "outputs": [
    {
     "data": {
      "text/plain": [
       "<tf.Tensor 'concat_2:0' shape=(3, 8) dtype=float32>"
      ]
     },
     "execution_count": 45,
     "metadata": {},
     "output_type": "execute_result"
    }
   ],
   "source": [
    "a"
   ]
  },
  {
   "cell_type": "markdown",
   "metadata": {},
   "source": [
    "#### np shape과의 비교를 통한 이해"
   ]
  },
  {
   "cell_type": "code",
   "execution_count": 35,
   "metadata": {},
   "outputs": [
    {
     "data": {
      "text/plain": [
       "array([[0., 0., 0., 0.],\n",
       "       [0., 0., 0., 0.],\n",
       "       [0., 0., 0., 0.]])"
      ]
     },
     "execution_count": 35,
     "metadata": {},
     "output_type": "execute_result"
    }
   ],
   "source": [
    "y = np.zeros((3,4))\n",
    "print(y)\n",
    "print(y.shape)"
   ]
  },
  {
   "cell_type": "code",
   "execution_count": 60,
   "metadata": {},
   "outputs": [],
   "source": [
    "y = np.zeros((3,4))\n",
    "x = np.zeros((3,3))\n",
    "# y = np.zeros((3,4,2)) --> 이것도 됨\n",
    "# x = np.zeros((3,4,5))"
   ]
  },
  {
   "cell_type": "code",
   "execution_count": 61,
   "metadata": {},
   "outputs": [],
   "source": [
    "z = np.concatenate((y, x), axis=-1)"
   ]
  },
  {
   "cell_type": "code",
   "execution_count": 50,
   "metadata": {},
   "outputs": [
    {
     "name": "stdout",
     "output_type": "stream",
     "text": [
      "[[0. 0. 0. 0. 0. 0. 0.]\n",
      " [0. 0. 0. 0. 0. 0. 0.]\n",
      " [0. 0. 0. 0. 0. 0. 0.]]\n",
      "(3, 7)\n"
     ]
    }
   ],
   "source": [
    "print(z)\n",
    "print(z.shape)"
   ]
  },
  {
   "cell_type": "code",
   "execution_count": 63,
   "metadata": {},
   "outputs": [
    {
     "name": "stdout",
     "output_type": "stream",
     "text": [
      "[[0. 0. 0.]\n",
      " [0. 0. 0.]\n",
      " [0. 0. 0.]\n",
      " [0. 0. 0.]\n",
      " [0. 0. 0.]\n",
      " [0. 0. 0.]\n",
      " [0. 0. 0.]]\n",
      "(7, 3)\n"
     ]
    }
   ],
   "source": [
    "y = np.zeros((4,3))\n",
    "x = np.zeros((3,3))\n",
    "# axis 0의 의미는 shape의 index의 의미. iterate하는 index 빼고는 모두 동일해야 함.\n",
    "# y = np.zeros((4,3,1)) --> 됨\n",
    "# x = np.zeros((3,3,1))\n",
    "# y = np.zeros((4,3,1)) --> 안됨\n",
    "# x = np.zeros((3,3,0))\n",
    "z2 = np.concatenate((y, x), axis=0) \n",
    "print(z2)\n",
    "print(z2.shape)"
   ]
  },
  {
   "cell_type": "code",
   "execution_count": 1,
   "metadata": {},
   "outputs": [],
   "source": [
    "real_sample = lambda n_batch: np.random.normal(4, 1.25, (n_batch, 100))\n",
    "in_sample = lambda n_batch: np.random.rand(n_batch, 100)"
   ]
  },
  {
   "cell_type": "code",
   "execution_count": 17,
   "metadata": {},
   "outputs": [],
   "source": [
    "real = real_sample(3)\n",
    "gen = real_sample(3)"
   ]
  },
  {
   "cell_type": "code",
   "execution_count": 18,
   "metadata": {},
   "outputs": [],
   "source": [
    "y = np.array([1] * real.shape[0] + [0] * gen.shape[0])"
   ]
  },
  {
   "cell_type": "code",
   "execution_count": 19,
   "metadata": {},
   "outputs": [
    {
     "data": {
      "text/plain": [
       "[1, 0]"
      ]
     },
     "execution_count": 19,
     "metadata": {},
     "output_type": "execute_result"
    }
   ],
   "source": [
    "[1] + [0]"
   ]
  },
  {
   "cell_type": "code",
   "execution_count": 20,
   "metadata": {},
   "outputs": [
    {
     "data": {
      "text/plain": [
       "array([1, 1, 1, 0, 0, 0])"
      ]
     },
     "execution_count": 20,
     "metadata": {},
     "output_type": "execute_result"
    }
   ],
   "source": [
    "y"
   ]
  },
  {
   "cell_type": "code",
   "execution_count": 21,
   "metadata": {},
   "outputs": [
    {
     "data": {
      "text/plain": [
       "3"
      ]
     },
     "execution_count": 21,
     "metadata": {},
     "output_type": "execute_result"
    }
   ],
   "source": [
    "real.shape[0]"
   ]
  },
  {
   "cell_type": "code",
   "execution_count": 22,
   "metadata": {},
   "outputs": [
    {
     "data": {
      "text/plain": [
       "[1, 1, 1]"
      ]
     },
     "execution_count": 22,
     "metadata": {},
     "output_type": "execute_result"
    }
   ],
   "source": [
    "[1] * real.shape[0]"
   ]
  },
  {
   "cell_type": "code",
   "execution_count": 23,
   "metadata": {},
   "outputs": [],
   "source": [
    "x = np.concatenate([real, gen], axis=0)"
   ]
  },
  {
   "cell_type": "code",
   "execution_count": 24,
   "metadata": {},
   "outputs": [
    {
     "data": {
      "text/plain": [
       "array([[ 2.97918978,  5.10132657,  3.65543821,  2.78849216, -0.04715459,\n",
       "         5.08405716,  5.68713309,  2.14667792,  7.0236518 ,  3.00598861,\n",
       "         3.35689363,  5.70298656,  3.51495063,  3.57992943,  6.18464129,\n",
       "         4.89258323,  2.55266557,  4.34382059,  5.26964885,  3.39476211,\n",
       "         4.77809773,  3.30944916,  3.45915683,  6.6149073 ,  2.4509732 ,\n",
       "         5.47808189,  3.27929088,  3.87603207,  2.8433923 ,  3.67031816,\n",
       "         2.91141361,  4.0972883 ,  4.63298574,  5.24611983,  4.65460471,\n",
       "         5.51841572,  3.73893233,  4.52519879,  2.89487291,  4.17097219,\n",
       "         5.04318346,  4.76153152,  1.56733539,  6.2997388 ,  5.15840255,\n",
       "         4.4605328 ,  4.56299552,  2.50908287,  5.87134143,  3.20765009,\n",
       "         5.04428035,  5.30521665,  4.00614292,  2.35264236,  1.55235888,\n",
       "         1.5112701 ,  3.14882111,  4.23690255,  4.49969477,  3.79827856,\n",
       "         1.31074701,  4.22863821,  2.99164785,  5.27678018,  3.68513172,\n",
       "         3.04250725,  3.01852772,  2.68228195,  3.54492547,  4.67267764,\n",
       "         4.19135538,  3.08191399,  2.36392255,  5.15845881,  4.22084646,\n",
       "         6.21988525,  3.70848655,  3.5818954 ,  5.7686028 ,  5.70907792,\n",
       "         3.08849502,  3.48899532,  4.59006487,  4.38941779,  2.5534058 ,\n",
       "         3.20867305,  4.01455402,  4.80367064,  6.26828667,  3.82234868,\n",
       "         5.28058087,  1.19630597,  5.1526396 ,  4.111318  ,  4.92435909,\n",
       "         5.46165702,  3.55642381,  6.21671753,  5.37508987,  3.69265464],\n",
       "       [ 3.62702008,  2.08900843,  4.37427439,  3.10074172,  2.93179241,\n",
       "         4.87009636,  5.03837515,  3.35060238,  4.9239771 ,  4.31325548,\n",
       "         4.1910729 ,  3.0774182 ,  4.78142186,  4.14340101,  5.28527507,\n",
       "         3.95963793,  3.8107905 ,  2.70531408,  2.47014093,  3.9582093 ,\n",
       "         6.77467846,  3.31071108,  3.94415986,  4.04222338,  3.79185055,\n",
       "         5.17185598,  5.54513445,  4.5303713 ,  6.21909242,  4.68484417,\n",
       "         3.56354275,  3.01731332,  3.41825852,  3.54983527,  5.13248519,\n",
       "         7.19690515,  5.43996599,  3.79785116,  3.82769095,  2.74356414,\n",
       "         2.90033852,  3.01599448,  3.02721896,  2.00001102,  4.8628309 ,\n",
       "         3.38249075,  3.82926675,  3.98102762,  3.87364899,  3.65672309,\n",
       "         3.34031344,  5.70836093,  2.17317541,  3.84951512,  6.42164786,\n",
       "         2.22826137,  6.44280422,  5.90539884,  1.31585261,  5.07113919,\n",
       "         3.92850106,  3.27555191,  4.52147986,  4.62710343,  2.8004984 ,\n",
       "         4.60931224,  3.73684578,  4.55315811,  6.46138886,  4.72955991,\n",
       "         3.59871267,  4.72460918,  5.24395462,  5.1588342 ,  3.66010746,\n",
       "         6.65905698,  3.06814243,  1.37904195,  6.65684148,  3.71490061,\n",
       "         2.72584849,  2.77707278,  3.65432395,  0.62107506,  4.84876089,\n",
       "         4.01197315,  5.36702684,  4.24354955,  2.27020875,  3.95922727,\n",
       "         5.82970783,  4.88886496,  1.83999312,  2.89850474,  3.93889067,\n",
       "         3.65267494,  5.23793164,  2.76186649,  5.3179191 ,  6.43031321],\n",
       "       [ 3.65528628,  5.43675784,  4.0046934 ,  0.7178381 ,  3.89325469,\n",
       "         5.11413386,  3.90827036,  4.37839151,  3.31452941,  2.49567644,\n",
       "         4.48469768,  4.85082429,  4.68178276,  5.48101183,  5.20107485,\n",
       "         3.31743066,  5.51324858,  4.22130921,  3.89712913,  5.08477007,\n",
       "         5.33452055,  3.32732081,  4.25757264,  5.99712448,  2.02626612,\n",
       "         4.99170936,  2.95775054,  4.61154218,  4.985585  ,  3.84950933,\n",
       "         4.51608899,  3.0184356 ,  2.99304104,  6.17364258,  4.86019219,\n",
       "         4.64565431,  5.31967229,  2.90027026,  2.4627369 ,  3.35479374,\n",
       "         6.23239293,  4.40898572,  3.01057653,  4.63956685,  2.48417408,\n",
       "         4.38385723,  3.08250067,  1.50790006,  5.43625018,  4.3013653 ,\n",
       "         6.11111688,  2.62452776,  3.55294923,  2.54267151,  3.55367558,\n",
       "         2.85966459,  4.82674788,  4.41076297,  5.0027533 ,  3.96256222,\n",
       "         3.01498866,  5.18005736,  3.94083858,  6.13712893,  3.95134637,\n",
       "         3.8926653 ,  4.05094647,  6.84903155,  2.62055864,  2.59903961,\n",
       "         2.02048237,  4.33983019,  3.39645485,  5.32143138,  4.79331053,\n",
       "         4.5392734 ,  5.92535232,  4.67739161,  5.77623357,  3.35713091,\n",
       "         3.06600128,  3.64431069,  4.17259866,  3.5340248 ,  5.2576937 ,\n",
       "         5.38203581,  2.98782592,  4.02025134,  1.77152469,  4.73170434,\n",
       "         3.4090717 ,  4.85565293,  3.98894054,  6.35381557,  4.05829993,\n",
       "         4.50956973,  3.1082698 ,  3.28573129,  3.36095593,  1.94263928],\n",
       "       [ 4.76619142,  2.25926527,  4.00073058,  4.79754721,  3.20555961,\n",
       "         4.94510236,  4.32550246,  3.58948295,  3.42545776,  5.92141802,\n",
       "         3.07555981,  4.37551488,  2.84192828,  3.2795142 ,  3.17028834,\n",
       "         4.10776305,  3.91371749,  3.09817111,  4.13291047,  5.36701153,\n",
       "         2.38833829,  1.74887643,  2.74960532,  1.79784224,  3.16766461,\n",
       "         3.8796267 ,  2.41753654,  3.10651965,  5.70930624,  3.91366708,\n",
       "         4.18599788,  4.28228452,  4.76726272,  3.05169194,  4.70022118,\n",
       "         5.40567636,  3.88210261,  2.65983668,  4.5329294 ,  4.86085123,\n",
       "         3.22985887,  3.01488224,  1.44134691,  5.20452543,  3.31736745,\n",
       "         2.86037486,  3.31199392,  1.97647123,  3.03443408,  3.98297605,\n",
       "         3.95382595,  4.52286622,  4.12664248,  5.06705912,  4.71560734,\n",
       "         3.53513053,  2.05095699,  4.39509036,  3.59819315,  3.95693216,\n",
       "         3.65442992,  6.56045242,  3.47993388,  3.43203344,  2.72058315,\n",
       "         2.63543472,  3.77208249,  4.21151487,  1.19911768,  6.02846151,\n",
       "         2.73956983,  5.74147997,  2.31735999,  4.43332363,  3.58233521,\n",
       "         3.5102167 ,  4.1699274 ,  4.92364827,  4.07872877,  4.94060607,\n",
       "         5.45781886,  4.5901984 ,  4.51070327,  1.98935876,  2.63258286,\n",
       "         4.33750357,  3.52121668,  3.15609266,  4.50005474,  4.5055113 ,\n",
       "         6.86559251,  5.32914965,  5.7158989 ,  6.31477252,  3.41024203,\n",
       "         3.14422481,  5.00925471,  5.92838301,  3.24260297,  4.15566899],\n",
       "       [ 2.06039088,  3.72989456,  4.08623939,  2.08380982,  2.49325102,\n",
       "         3.38088766,  1.78728203,  6.44846842,  3.22628129,  3.81947982,\n",
       "         1.126694  ,  2.79922659,  4.18222902,  3.98415352,  2.73968885,\n",
       "         4.19158287,  4.73198151,  2.30461054,  6.04511794,  6.35277593,\n",
       "         3.34543924,  3.87262003,  4.83085717,  6.88463486,  3.88866317,\n",
       "         6.02831692,  4.35034593,  3.64666819,  2.05896324,  2.94885632,\n",
       "         3.95462576,  4.48394167,  4.25377093,  3.67145342,  2.95576768,\n",
       "         4.36299339,  5.45208873,  2.46933533,  4.76473185,  2.20315679,\n",
       "         3.72742725,  5.90648851,  4.37903998,  6.34619891,  4.85392935,\n",
       "         2.94600889,  5.34674316,  5.02193139,  6.2789466 ,  3.41425242,\n",
       "         4.3345792 ,  4.87028131,  4.02279307,  3.65381497,  3.88254088,\n",
       "         4.60209745,  2.28413871,  5.04515458,  2.90309524,  3.80853029,\n",
       "         3.43308227,  4.60143414,  2.78147891,  2.01401129,  3.12950137,\n",
       "         2.43390402,  3.43372185,  5.2794261 ,  3.08434841,  4.60954376,\n",
       "         4.26598493,  4.03139831,  1.57201256,  4.59014815,  1.31548855,\n",
       "         5.48156918,  3.08288477,  2.44014357,  4.1830289 ,  3.38966451,\n",
       "         3.13256879,  2.11425093,  3.68073473,  4.70927523,  3.89055043,\n",
       "         6.09734499,  4.06755528,  3.14026816,  4.51822646,  5.63607453,\n",
       "         5.75981163,  6.10973192,  3.89029107,  4.91072104,  4.74248928,\n",
       "         0.72882609,  3.58662878,  5.07886703,  5.08861528,  3.51697016],\n",
       "       [ 4.21857662,  5.08639213,  3.99566441,  3.30675315,  4.19737524,\n",
       "         2.39199485,  3.11672687,  4.90786906,  5.31869211,  3.8131743 ,\n",
       "         4.5121225 ,  5.65743197,  4.26260739,  5.33758115,  4.58322562,\n",
       "         3.29841882,  4.90191998,  5.57349902,  3.05669534,  3.60815786,\n",
       "         2.76806051,  5.86691973,  2.99886061,  2.61578353,  3.75898337,\n",
       "         3.51583532,  3.39396454,  4.43434646,  2.34836464,  5.14511744,\n",
       "         3.16700066,  3.81373472,  0.74479319,  3.5857461 ,  4.54488802,\n",
       "         3.1512359 ,  0.73887794,  5.15733688,  4.95827539,  5.77434221,\n",
       "         2.90284061,  4.3420446 ,  1.48263304,  3.5180817 ,  2.28845721,\n",
       "         4.3306591 ,  5.22785498,  3.06933072,  6.38763622,  6.43686691,\n",
       "         4.81397234,  2.66739863,  3.3559894 ,  2.82960257,  3.90128224,\n",
       "         5.40744633,  4.30355741,  3.74549806,  4.10536902,  4.46748314,\n",
       "         4.87212737,  3.76898196,  1.29929741,  3.96674207,  5.64083443,\n",
       "         3.83531045,  3.7467157 ,  2.22049289,  4.13858179,  5.99438359,\n",
       "         5.36174511,  5.2793483 ,  2.93852182,  5.00074456,  2.70749407,\n",
       "         3.62568455,  2.69581477,  3.59595529,  5.10085425,  4.48579574,\n",
       "         1.841354  ,  2.55817208,  3.51451188,  2.94084245,  4.1544469 ,\n",
       "         5.74272397,  3.18045623,  2.00873687,  4.26535813,  5.27563801,\n",
       "         4.62076383,  2.62798303,  5.26216634,  5.80100386,  3.46474757,\n",
       "         4.51308016,  3.216644  ,  5.29127638,  4.19553899,  4.18262875]])"
      ]
     },
     "execution_count": 24,
     "metadata": {},
     "output_type": "execute_result"
    }
   ],
   "source": [
    "x"
   ]
  },
  {
   "cell_type": "code",
   "execution_count": 26,
   "metadata": {},
   "outputs": [
    {
     "name": "stdout",
     "output_type": "stream",
     "text": [
      "channels_first\n"
     ]
    }
   ],
   "source": [
    "from keras.layers import Input\n",
    "from keras.models import Model, Sequential\n",
    "from keras.layers.core import Reshape, Dense, Dropout, Flatten\n",
    "from keras.layers.advanced_activations import LeakyReLU\n",
    "from keras.layers.convolutional import Conv2D, MaxPooling2D, UpSampling2D\n",
    "from keras.layers.normalization import BatchNormalization\n",
    "from keras.datasets import mnist\n",
    "from keras.optimizers import Adam\n",
    "from keras import initializers\n",
    "from keras import backend as K\n",
    "\n",
    "K.set_image_data_format('channels_first')\n",
    "print(K.image_data_format())\n",
    "\n",
    "\n",
    "G = Sequential()\n",
    "G.add(Dense(512, input_dim=100))\n",
    "G.add(LeakyReLU(0.2))\n",
    "G.add(Dense(128 * 7 * 7))\n",
    "G.add(LeakyReLU(0.2))\n",
    "G.add(BatchNormalization())\n",
    "G.add(Reshape((128, 7, 7), input_shape=(128 * 7 * 7,)))\n",
    "G.add(UpSampling2D(size=(2, 2)))\n",
    "G.add(Conv2D(64, (5, 5), padding='same', activation='tanh'))\n",
    "G.add(UpSampling2D(size=(2, 2)))\n",
    "G.add(Conv2D(1, (5, 5), padding='same', activation='tanh'))\n",
    "\n",
    "adam = Adam(lr=0.0002, beta_1=0.5)\n",
    "G.compile(loss='binary_crossentropy', optimizer=adam, metrics=['accuracy'])"
   ]
  },
  {
   "cell_type": "code",
   "execution_count": 27,
   "metadata": {},
   "outputs": [
    {
     "data": {
      "image/svg+xml": [
       "<svg height=\"863pt\" viewBox=\"0.00 0.00 420.29 863.00\" width=\"420pt\" xmlns=\"http://www.w3.org/2000/svg\" xmlns:xlink=\"http://www.w3.org/1999/xlink\">\n",
       "<g class=\"graph\" id=\"graph0\" transform=\"scale(1 1) rotate(0) translate(4 859)\">\n",
       "<title>G</title>\n",
       "<polygon fill=\"#ffffff\" points=\"-4,4 -4,-859 416.2939,-859 416.2939,4 -4,4\" stroke=\"transparent\"/>\n",
       "<!-- 4967138584 -->\n",
       "<g class=\"node\" id=\"node1\">\n",
       "<title>4967138584</title>\n",
       "<polygon fill=\"none\" points=\"49.3691,-810.5 49.3691,-854.5 362.9248,-854.5 362.9248,-810.5 49.3691,-810.5\" stroke=\"#000000\"/>\n",
       "<text fill=\"#000000\" font-family=\"Times,serif\" font-size=\"14.00\" text-anchor=\"middle\" x=\"136.4883\" y=\"-828.3\">dense_20_input: InputLayer</text>\n",
       "<polyline fill=\"none\" points=\"223.6074,-810.5 223.6074,-854.5 \" stroke=\"#000000\"/>\n",
       "<text fill=\"#000000\" font-family=\"Times,serif\" font-size=\"14.00\" text-anchor=\"middle\" x=\"251.4419\" y=\"-839.3\">input:</text>\n",
       "<polyline fill=\"none\" points=\"223.6074,-832.5 279.2764,-832.5 \" stroke=\"#000000\"/>\n",
       "<text fill=\"#000000\" font-family=\"Times,serif\" font-size=\"14.00\" text-anchor=\"middle\" x=\"251.4419\" y=\"-817.3\">output:</text>\n",
       "<polyline fill=\"none\" points=\"279.2764,-810.5 279.2764,-854.5 \" stroke=\"#000000\"/>\n",
       "<text fill=\"#000000\" font-family=\"Times,serif\" font-size=\"14.00\" text-anchor=\"middle\" x=\"321.1006\" y=\"-839.3\">(None, 100)</text>\n",
       "<polyline fill=\"none\" points=\"279.2764,-832.5 362.9248,-832.5 \" stroke=\"#000000\"/>\n",
       "<text fill=\"#000000\" font-family=\"Times,serif\" font-size=\"14.00\" text-anchor=\"middle\" x=\"321.1006\" y=\"-817.3\">(None, 100)</text>\n",
       "</g>\n",
       "<!-- 4967138080 -->\n",
       "<g class=\"node\" id=\"node2\">\n",
       "<title>4967138080</title>\n",
       "<polygon fill=\"none\" points=\"80.8623,-729.5 80.8623,-773.5 331.4316,-773.5 331.4316,-729.5 80.8623,-729.5\" stroke=\"#000000\"/>\n",
       "<text fill=\"#000000\" font-family=\"Times,serif\" font-size=\"14.00\" text-anchor=\"middle\" x=\"136.4883\" y=\"-747.3\">dense_20: Dense</text>\n",
       "<polyline fill=\"none\" points=\"192.1143,-729.5 192.1143,-773.5 \" stroke=\"#000000\"/>\n",
       "<text fill=\"#000000\" font-family=\"Times,serif\" font-size=\"14.00\" text-anchor=\"middle\" x=\"219.9487\" y=\"-758.3\">input:</text>\n",
       "<polyline fill=\"none\" points=\"192.1143,-751.5 247.7832,-751.5 \" stroke=\"#000000\"/>\n",
       "<text fill=\"#000000\" font-family=\"Times,serif\" font-size=\"14.00\" text-anchor=\"middle\" x=\"219.9487\" y=\"-736.3\">output:</text>\n",
       "<polyline fill=\"none\" points=\"247.7832,-729.5 247.7832,-773.5 \" stroke=\"#000000\"/>\n",
       "<text fill=\"#000000\" font-family=\"Times,serif\" font-size=\"14.00\" text-anchor=\"middle\" x=\"289.6074\" y=\"-758.3\">(None, 100)</text>\n",
       "<polyline fill=\"none\" points=\"247.7832,-751.5 331.4316,-751.5 \" stroke=\"#000000\"/>\n",
       "<text fill=\"#000000\" font-family=\"Times,serif\" font-size=\"14.00\" text-anchor=\"middle\" x=\"289.6074\" y=\"-736.3\">(None, 512)</text>\n",
       "</g>\n",
       "<!-- 4967138584&#45;&gt;4967138080 -->\n",
       "<g class=\"edge\" id=\"edge1\">\n",
       "<title>4967138584-&gt;4967138080</title>\n",
       "<path d=\"M206.147,-810.3664C206.147,-802.1516 206.147,-792.6579 206.147,-783.7252\" fill=\"none\" stroke=\"#000000\"/>\n",
       "<polygon fill=\"#000000\" points=\"209.6471,-783.6068 206.147,-773.6068 202.6471,-783.6069 209.6471,-783.6068\" stroke=\"#000000\"/>\n",
       "</g>\n",
       "<!-- 4967138360 -->\n",
       "<g class=\"node\" id=\"node3\">\n",
       "<title>4967138360</title>\n",
       "<polygon fill=\"none\" points=\"46.6553,-648.5 46.6553,-692.5 365.6387,-692.5 365.6387,-648.5 46.6553,-648.5\" stroke=\"#000000\"/>\n",
       "<text fill=\"#000000\" font-family=\"Times,serif\" font-size=\"14.00\" text-anchor=\"middle\" x=\"136.4883\" y=\"-666.3\">leaky_re_lu_24: LeakyReLU</text>\n",
       "<polyline fill=\"none\" points=\"226.3213,-648.5 226.3213,-692.5 \" stroke=\"#000000\"/>\n",
       "<text fill=\"#000000\" font-family=\"Times,serif\" font-size=\"14.00\" text-anchor=\"middle\" x=\"254.1558\" y=\"-677.3\">input:</text>\n",
       "<polyline fill=\"none\" points=\"226.3213,-670.5 281.9902,-670.5 \" stroke=\"#000000\"/>\n",
       "<text fill=\"#000000\" font-family=\"Times,serif\" font-size=\"14.00\" text-anchor=\"middle\" x=\"254.1558\" y=\"-655.3\">output:</text>\n",
       "<polyline fill=\"none\" points=\"281.9902,-648.5 281.9902,-692.5 \" stroke=\"#000000\"/>\n",
       "<text fill=\"#000000\" font-family=\"Times,serif\" font-size=\"14.00\" text-anchor=\"middle\" x=\"323.8145\" y=\"-677.3\">(None, 512)</text>\n",
       "<polyline fill=\"none\" points=\"281.9902,-670.5 365.6387,-670.5 \" stroke=\"#000000\"/>\n",
       "<text fill=\"#000000\" font-family=\"Times,serif\" font-size=\"14.00\" text-anchor=\"middle\" x=\"323.8145\" y=\"-655.3\">(None, 512)</text>\n",
       "</g>\n",
       "<!-- 4967138080&#45;&gt;4967138360 -->\n",
       "<g class=\"edge\" id=\"edge2\">\n",
       "<title>4967138080-&gt;4967138360</title>\n",
       "<path d=\"M206.147,-729.3664C206.147,-721.1516 206.147,-711.6579 206.147,-702.7252\" fill=\"none\" stroke=\"#000000\"/>\n",
       "<polygon fill=\"#000000\" points=\"209.6471,-702.6068 206.147,-692.6068 202.6471,-702.6069 209.6471,-702.6068\" stroke=\"#000000\"/>\n",
       "</g>\n",
       "<!-- 4967138640 -->\n",
       "<g class=\"node\" id=\"node4\">\n",
       "<title>4967138640</title>\n",
       "<polygon fill=\"none\" points=\"77.3623,-567.5 77.3623,-611.5 334.9316,-611.5 334.9316,-567.5 77.3623,-567.5\" stroke=\"#000000\"/>\n",
       "<text fill=\"#000000\" font-family=\"Times,serif\" font-size=\"14.00\" text-anchor=\"middle\" x=\"132.9883\" y=\"-585.3\">dense_21: Dense</text>\n",
       "<polyline fill=\"none\" points=\"188.6143,-567.5 188.6143,-611.5 \" stroke=\"#000000\"/>\n",
       "<text fill=\"#000000\" font-family=\"Times,serif\" font-size=\"14.00\" text-anchor=\"middle\" x=\"216.4487\" y=\"-596.3\">input:</text>\n",
       "<polyline fill=\"none\" points=\"188.6143,-589.5 244.2832,-589.5 \" stroke=\"#000000\"/>\n",
       "<text fill=\"#000000\" font-family=\"Times,serif\" font-size=\"14.00\" text-anchor=\"middle\" x=\"216.4487\" y=\"-574.3\">output:</text>\n",
       "<polyline fill=\"none\" points=\"244.2832,-567.5 244.2832,-611.5 \" stroke=\"#000000\"/>\n",
       "<text fill=\"#000000\" font-family=\"Times,serif\" font-size=\"14.00\" text-anchor=\"middle\" x=\"289.6074\" y=\"-596.3\">(None, 512)</text>\n",
       "<polyline fill=\"none\" points=\"244.2832,-589.5 334.9316,-589.5 \" stroke=\"#000000\"/>\n",
       "<text fill=\"#000000\" font-family=\"Times,serif\" font-size=\"14.00\" text-anchor=\"middle\" x=\"289.6074\" y=\"-574.3\">(None, 6272)</text>\n",
       "</g>\n",
       "<!-- 4967138360&#45;&gt;4967138640 -->\n",
       "<g class=\"edge\" id=\"edge3\">\n",
       "<title>4967138360-&gt;4967138640</title>\n",
       "<path d=\"M206.147,-648.3664C206.147,-640.1516 206.147,-630.6579 206.147,-621.7252\" fill=\"none\" stroke=\"#000000\"/>\n",
       "<polygon fill=\"#000000\" points=\"209.6471,-621.6068 206.147,-611.6068 202.6471,-621.6069 209.6471,-621.6068\" stroke=\"#000000\"/>\n",
       "</g>\n",
       "<!-- 4809565016 -->\n",
       "<g class=\"node\" id=\"node5\">\n",
       "<title>4809565016</title>\n",
       "<polygon fill=\"none\" points=\"43.1553,-486.5 43.1553,-530.5 369.1387,-530.5 369.1387,-486.5 43.1553,-486.5\" stroke=\"#000000\"/>\n",
       "<text fill=\"#000000\" font-family=\"Times,serif\" font-size=\"14.00\" text-anchor=\"middle\" x=\"132.9883\" y=\"-504.3\">leaky_re_lu_25: LeakyReLU</text>\n",
       "<polyline fill=\"none\" points=\"222.8213,-486.5 222.8213,-530.5 \" stroke=\"#000000\"/>\n",
       "<text fill=\"#000000\" font-family=\"Times,serif\" font-size=\"14.00\" text-anchor=\"middle\" x=\"250.6558\" y=\"-515.3\">input:</text>\n",
       "<polyline fill=\"none\" points=\"222.8213,-508.5 278.4902,-508.5 \" stroke=\"#000000\"/>\n",
       "<text fill=\"#000000\" font-family=\"Times,serif\" font-size=\"14.00\" text-anchor=\"middle\" x=\"250.6558\" y=\"-493.3\">output:</text>\n",
       "<polyline fill=\"none\" points=\"278.4902,-486.5 278.4902,-530.5 \" stroke=\"#000000\"/>\n",
       "<text fill=\"#000000\" font-family=\"Times,serif\" font-size=\"14.00\" text-anchor=\"middle\" x=\"323.8145\" y=\"-515.3\">(None, 6272)</text>\n",
       "<polyline fill=\"none\" points=\"278.4902,-508.5 369.1387,-508.5 \" stroke=\"#000000\"/>\n",
       "<text fill=\"#000000\" font-family=\"Times,serif\" font-size=\"14.00\" text-anchor=\"middle\" x=\"323.8145\" y=\"-493.3\">(None, 6272)</text>\n",
       "</g>\n",
       "<!-- 4967138640&#45;&gt;4809565016 -->\n",
       "<g class=\"edge\" id=\"edge4\">\n",
       "<title>4967138640-&gt;4809565016</title>\n",
       "<path d=\"M206.147,-567.3664C206.147,-559.1516 206.147,-549.6579 206.147,-540.7252\" fill=\"none\" stroke=\"#000000\"/>\n",
       "<polygon fill=\"#000000\" points=\"209.6471,-540.6068 206.147,-530.6068 202.6471,-540.6069 209.6471,-540.6068\" stroke=\"#000000\"/>\n",
       "</g>\n",
       "<!-- 4963821440 -->\n",
       "<g class=\"node\" id=\"node6\">\n",
       "<title>4963821440</title>\n",
       "<polygon fill=\"none\" points=\"0,-405.5 0,-449.5 412.2939,-449.5 412.2939,-405.5 0,-405.5\" stroke=\"#000000\"/>\n",
       "<text fill=\"#000000\" font-family=\"Times,serif\" font-size=\"14.00\" text-anchor=\"middle\" x=\"132.9883\" y=\"-423.3\">batch_normalization_9: BatchNormalization</text>\n",
       "<polyline fill=\"none\" points=\"265.9766,-405.5 265.9766,-449.5 \" stroke=\"#000000\"/>\n",
       "<text fill=\"#000000\" font-family=\"Times,serif\" font-size=\"14.00\" text-anchor=\"middle\" x=\"293.811\" y=\"-434.3\">input:</text>\n",
       "<polyline fill=\"none\" points=\"265.9766,-427.5 321.6455,-427.5 \" stroke=\"#000000\"/>\n",
       "<text fill=\"#000000\" font-family=\"Times,serif\" font-size=\"14.00\" text-anchor=\"middle\" x=\"293.811\" y=\"-412.3\">output:</text>\n",
       "<polyline fill=\"none\" points=\"321.6455,-405.5 321.6455,-449.5 \" stroke=\"#000000\"/>\n",
       "<text fill=\"#000000\" font-family=\"Times,serif\" font-size=\"14.00\" text-anchor=\"middle\" x=\"366.9697\" y=\"-434.3\">(None, 6272)</text>\n",
       "<polyline fill=\"none\" points=\"321.6455,-427.5 412.2939,-427.5 \" stroke=\"#000000\"/>\n",
       "<text fill=\"#000000\" font-family=\"Times,serif\" font-size=\"14.00\" text-anchor=\"middle\" x=\"366.9697\" y=\"-412.3\">(None, 6272)</text>\n",
       "</g>\n",
       "<!-- 4809565016&#45;&gt;4963821440 -->\n",
       "<g class=\"edge\" id=\"edge5\">\n",
       "<title>4809565016-&gt;4963821440</title>\n",
       "<path d=\"M206.147,-486.3664C206.147,-478.1516 206.147,-468.6579 206.147,-459.7252\" fill=\"none\" stroke=\"#000000\"/>\n",
       "<polygon fill=\"#000000\" points=\"209.6471,-459.6068 206.147,-449.6068 202.6471,-459.6069 209.6471,-459.6068\" stroke=\"#000000\"/>\n",
       "</g>\n",
       "<!-- 4967140264 -->\n",
       "<g class=\"node\" id=\"node7\">\n",
       "<title>4967140264</title>\n",
       "<polygon fill=\"none\" points=\"58.7036,-324.5 58.7036,-368.5 353.5903,-368.5 353.5903,-324.5 58.7036,-324.5\" stroke=\"#000000\"/>\n",
       "<text fill=\"#000000\" font-family=\"Times,serif\" font-size=\"14.00\" text-anchor=\"middle\" x=\"122.4883\" y=\"-342.3\">reshape_7: Reshape</text>\n",
       "<polyline fill=\"none\" points=\"186.2729,-324.5 186.2729,-368.5 \" stroke=\"#000000\"/>\n",
       "<text fill=\"#000000\" font-family=\"Times,serif\" font-size=\"14.00\" text-anchor=\"middle\" x=\"214.1074\" y=\"-353.3\">input:</text>\n",
       "<polyline fill=\"none\" points=\"186.2729,-346.5 241.9419,-346.5 \" stroke=\"#000000\"/>\n",
       "<text fill=\"#000000\" font-family=\"Times,serif\" font-size=\"14.00\" text-anchor=\"middle\" x=\"214.1074\" y=\"-331.3\">output:</text>\n",
       "<polyline fill=\"none\" points=\"241.9419,-324.5 241.9419,-368.5 \" stroke=\"#000000\"/>\n",
       "<text fill=\"#000000\" font-family=\"Times,serif\" font-size=\"14.00\" text-anchor=\"middle\" x=\"297.7661\" y=\"-353.3\">(None, 6272)</text>\n",
       "<polyline fill=\"none\" points=\"241.9419,-346.5 353.5903,-346.5 \" stroke=\"#000000\"/>\n",
       "<text fill=\"#000000\" font-family=\"Times,serif\" font-size=\"14.00\" text-anchor=\"middle\" x=\"297.7661\" y=\"-331.3\">(None, 128, 7, 7)</text>\n",
       "</g>\n",
       "<!-- 4963821440&#45;&gt;4967140264 -->\n",
       "<g class=\"edge\" id=\"edge6\">\n",
       "<title>4963821440-&gt;4967140264</title>\n",
       "<path d=\"M206.147,-405.3664C206.147,-397.1516 206.147,-387.6579 206.147,-378.7252\" fill=\"none\" stroke=\"#000000\"/>\n",
       "<polygon fill=\"#000000\" points=\"209.6471,-378.6068 206.147,-368.6068 202.6471,-378.6069 209.6471,-378.6068\" stroke=\"#000000\"/>\n",
       "</g>\n",
       "<!-- 4967138248 -->\n",
       "<g class=\"node\" id=\"node8\">\n",
       "<title>4967138248</title>\n",
       "<polygon fill=\"none\" points=\"6.1831,-243.5 6.1831,-287.5 406.1108,-287.5 406.1108,-243.5 6.1831,-243.5\" stroke=\"#000000\"/>\n",
       "<text fill=\"#000000\" font-family=\"Times,serif\" font-size=\"14.00\" text-anchor=\"middle\" x=\"115.4883\" y=\"-261.3\">up_sampling2d_12: UpSampling2D</text>\n",
       "<polyline fill=\"none\" points=\"224.7935,-243.5 224.7935,-287.5 \" stroke=\"#000000\"/>\n",
       "<text fill=\"#000000\" font-family=\"Times,serif\" font-size=\"14.00\" text-anchor=\"middle\" x=\"252.6279\" y=\"-272.3\">input:</text>\n",
       "<polyline fill=\"none\" points=\"224.7935,-265.5 280.4624,-265.5 \" stroke=\"#000000\"/>\n",
       "<text fill=\"#000000\" font-family=\"Times,serif\" font-size=\"14.00\" text-anchor=\"middle\" x=\"252.6279\" y=\"-250.3\">output:</text>\n",
       "<polyline fill=\"none\" points=\"280.4624,-243.5 280.4624,-287.5 \" stroke=\"#000000\"/>\n",
       "<text fill=\"#000000\" font-family=\"Times,serif\" font-size=\"14.00\" text-anchor=\"middle\" x=\"343.2866\" y=\"-272.3\">(None, 128, 7, 7)</text>\n",
       "<polyline fill=\"none\" points=\"280.4624,-265.5 406.1108,-265.5 \" stroke=\"#000000\"/>\n",
       "<text fill=\"#000000\" font-family=\"Times,serif\" font-size=\"14.00\" text-anchor=\"middle\" x=\"343.2866\" y=\"-250.3\">(None, 128, 14, 14)</text>\n",
       "</g>\n",
       "<!-- 4967140264&#45;&gt;4967138248 -->\n",
       "<g class=\"edge\" id=\"edge7\">\n",
       "<title>4967140264-&gt;4967138248</title>\n",
       "<path d=\"M206.147,-324.3664C206.147,-316.1516 206.147,-306.6579 206.147,-297.7252\" fill=\"none\" stroke=\"#000000\"/>\n",
       "<polygon fill=\"#000000\" points=\"209.6471,-297.6068 206.147,-287.6068 202.6471,-297.6069 209.6471,-297.6068\" stroke=\"#000000\"/>\n",
       "</g>\n",
       "<!-- 4967330816 -->\n",
       "<g class=\"node\" id=\"node9\">\n",
       "<title>4967330816</title>\n",
       "<polygon fill=\"none\" points=\"48.9624,-162.5 48.9624,-206.5 363.3315,-206.5 363.3315,-162.5 48.9624,-162.5\" stroke=\"#000000\"/>\n",
       "<text fill=\"#000000\" font-family=\"Times,serif\" font-size=\"14.00\" text-anchor=\"middle\" x=\"115.4883\" y=\"-180.3\">conv2d_18: Conv2D</text>\n",
       "<polyline fill=\"none\" points=\"182.0142,-162.5 182.0142,-206.5 \" stroke=\"#000000\"/>\n",
       "<text fill=\"#000000\" font-family=\"Times,serif\" font-size=\"14.00\" text-anchor=\"middle\" x=\"209.8486\" y=\"-191.3\">input:</text>\n",
       "<polyline fill=\"none\" points=\"182.0142,-184.5 237.6831,-184.5 \" stroke=\"#000000\"/>\n",
       "<text fill=\"#000000\" font-family=\"Times,serif\" font-size=\"14.00\" text-anchor=\"middle\" x=\"209.8486\" y=\"-169.3\">output:</text>\n",
       "<polyline fill=\"none\" points=\"237.6831,-162.5 237.6831,-206.5 \" stroke=\"#000000\"/>\n",
       "<text fill=\"#000000\" font-family=\"Times,serif\" font-size=\"14.00\" text-anchor=\"middle\" x=\"300.5073\" y=\"-191.3\">(None, 128, 14, 14)</text>\n",
       "<polyline fill=\"none\" points=\"237.6831,-184.5 363.3315,-184.5 \" stroke=\"#000000\"/>\n",
       "<text fill=\"#000000\" font-family=\"Times,serif\" font-size=\"14.00\" text-anchor=\"middle\" x=\"300.5073\" y=\"-169.3\">(None, 64, 14, 14)</text>\n",
       "</g>\n",
       "<!-- 4967138248&#45;&gt;4967330816 -->\n",
       "<g class=\"edge\" id=\"edge8\">\n",
       "<title>4967138248-&gt;4967330816</title>\n",
       "<path d=\"M206.147,-243.3664C206.147,-235.1516 206.147,-225.6579 206.147,-216.7252\" fill=\"none\" stroke=\"#000000\"/>\n",
       "<polygon fill=\"#000000\" points=\"209.6471,-216.6068 206.147,-206.6068 202.6471,-216.6069 209.6471,-216.6068\" stroke=\"#000000\"/>\n",
       "</g>\n",
       "<!-- 4971123768 -->\n",
       "<g class=\"node\" id=\"node10\">\n",
       "<title>4971123768</title>\n",
       "<polygon fill=\"none\" points=\"9.6831,-81.5 9.6831,-125.5 402.6108,-125.5 402.6108,-81.5 9.6831,-81.5\" stroke=\"#000000\"/>\n",
       "<text fill=\"#000000\" font-family=\"Times,serif\" font-size=\"14.00\" text-anchor=\"middle\" x=\"118.9883\" y=\"-99.3\">up_sampling2d_13: UpSampling2D</text>\n",
       "<polyline fill=\"none\" points=\"228.2935,-81.5 228.2935,-125.5 \" stroke=\"#000000\"/>\n",
       "<text fill=\"#000000\" font-family=\"Times,serif\" font-size=\"14.00\" text-anchor=\"middle\" x=\"256.1279\" y=\"-110.3\">input:</text>\n",
       "<polyline fill=\"none\" points=\"228.2935,-103.5 283.9624,-103.5 \" stroke=\"#000000\"/>\n",
       "<text fill=\"#000000\" font-family=\"Times,serif\" font-size=\"14.00\" text-anchor=\"middle\" x=\"256.1279\" y=\"-88.3\">output:</text>\n",
       "<polyline fill=\"none\" points=\"283.9624,-81.5 283.9624,-125.5 \" stroke=\"#000000\"/>\n",
       "<text fill=\"#000000\" font-family=\"Times,serif\" font-size=\"14.00\" text-anchor=\"middle\" x=\"343.2866\" y=\"-110.3\">(None, 64, 14, 14)</text>\n",
       "<polyline fill=\"none\" points=\"283.9624,-103.5 402.6108,-103.5 \" stroke=\"#000000\"/>\n",
       "<text fill=\"#000000\" font-family=\"Times,serif\" font-size=\"14.00\" text-anchor=\"middle\" x=\"343.2866\" y=\"-88.3\">(None, 64, 28, 28)</text>\n",
       "</g>\n",
       "<!-- 4967330816&#45;&gt;4971123768 -->\n",
       "<g class=\"edge\" id=\"edge9\">\n",
       "<title>4967330816-&gt;4971123768</title>\n",
       "<path d=\"M206.147,-162.3664C206.147,-154.1516 206.147,-144.6579 206.147,-135.7252\" fill=\"none\" stroke=\"#000000\"/>\n",
       "<polygon fill=\"#000000\" points=\"209.6471,-135.6068 206.147,-125.6068 202.6471,-135.6069 209.6471,-135.6068\" stroke=\"#000000\"/>\n",
       "</g>\n",
       "<!-- 4964881688 -->\n",
       "<g class=\"node\" id=\"node11\">\n",
       "<title>4964881688</title>\n",
       "<polygon fill=\"none\" points=\"52.4624,-.5 52.4624,-44.5 359.8315,-44.5 359.8315,-.5 52.4624,-.5\" stroke=\"#000000\"/>\n",
       "<text fill=\"#000000\" font-family=\"Times,serif\" font-size=\"14.00\" text-anchor=\"middle\" x=\"118.9883\" y=\"-18.3\">conv2d_19: Conv2D</text>\n",
       "<polyline fill=\"none\" points=\"185.5142,-.5 185.5142,-44.5 \" stroke=\"#000000\"/>\n",
       "<text fill=\"#000000\" font-family=\"Times,serif\" font-size=\"14.00\" text-anchor=\"middle\" x=\"213.3486\" y=\"-29.3\">input:</text>\n",
       "<polyline fill=\"none\" points=\"185.5142,-22.5 241.1831,-22.5 \" stroke=\"#000000\"/>\n",
       "<text fill=\"#000000\" font-family=\"Times,serif\" font-size=\"14.00\" text-anchor=\"middle\" x=\"213.3486\" y=\"-7.3\">output:</text>\n",
       "<polyline fill=\"none\" points=\"241.1831,-.5 241.1831,-44.5 \" stroke=\"#000000\"/>\n",
       "<text fill=\"#000000\" font-family=\"Times,serif\" font-size=\"14.00\" text-anchor=\"middle\" x=\"300.5073\" y=\"-29.3\">(None, 64, 28, 28)</text>\n",
       "<polyline fill=\"none\" points=\"241.1831,-22.5 359.8315,-22.5 \" stroke=\"#000000\"/>\n",
       "<text fill=\"#000000\" font-family=\"Times,serif\" font-size=\"14.00\" text-anchor=\"middle\" x=\"300.5073\" y=\"-7.3\">(None, 1, 28, 28)</text>\n",
       "</g>\n",
       "<!-- 4971123768&#45;&gt;4964881688 -->\n",
       "<g class=\"edge\" id=\"edge10\">\n",
       "<title>4971123768-&gt;4964881688</title>\n",
       "<path d=\"M206.147,-81.3664C206.147,-73.1516 206.147,-63.6579 206.147,-54.7252\" fill=\"none\" stroke=\"#000000\"/>\n",
       "<polygon fill=\"#000000\" points=\"209.6471,-54.6068 206.147,-44.6068 202.6471,-54.6069 209.6471,-54.6068\" stroke=\"#000000\"/>\n",
       "</g>\n",
       "</g>\n",
       "</svg>"
      ],
      "text/plain": [
       "<IPython.core.display.SVG object>"
      ]
     },
     "execution_count": 27,
     "metadata": {},
     "output_type": "execute_result"
    }
   ],
   "source": [
    "from IPython.display import SVG\n",
    "from keras.utils.vis_utils import model_to_dot\n",
    "\n",
    "%matplotlib inline\n",
    "\n",
    "SVG(model_to_dot(G, show_shapes=True).create(prog='dot', format='svg'))"
   ]
  },
  {
   "cell_type": "code",
   "execution_count": null,
   "metadata": {},
   "outputs": [],
   "source": []
  }
 ],
 "metadata": {
  "kernelspec": {
   "display_name": "Python 3",
   "language": "python",
   "name": "python3"
  },
  "language_info": {
   "codemirror_mode": {
    "name": "ipython",
    "version": 3
   },
   "file_extension": ".py",
   "mimetype": "text/x-python",
   "name": "python",
   "nbconvert_exporter": "python",
   "pygments_lexer": "ipython3",
   "version": "3.6.4"
  }
 },
 "nbformat": 4,
 "nbformat_minor": 2
}
